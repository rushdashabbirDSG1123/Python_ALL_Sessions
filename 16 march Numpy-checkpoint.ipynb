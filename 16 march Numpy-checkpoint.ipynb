{
 "cells": [
  {
   "cell_type": "markdown",
   "id": "150ae52f",
   "metadata": {},
   "source": [
    "# Numpy"
   ]
  },
  {
   "cell_type": "code",
   "execution_count": 1,
   "id": "36fa6e5d",
   "metadata": {},
   "outputs": [],
   "source": [
    "import numpy"
   ]
  },
  {
   "cell_type": "code",
   "execution_count": 2,
   "id": "6d5d828c",
   "metadata": {},
   "outputs": [
    {
     "data": {
      "text/plain": [
       "array([1, 2, 3, 4, 5, 6, 7, 8, 9])"
      ]
     },
     "execution_count": 2,
     "metadata": {},
     "output_type": "execute_result"
    }
   ],
   "source": [
    "numpy.array([1,2,3,4,5,6,7,8,9])"
   ]
  },
  {
   "cell_type": "code",
   "execution_count": 3,
   "id": "ad291b85",
   "metadata": {},
   "outputs": [
    {
     "data": {
      "text/plain": [
       "array([11, 22, 33, 44, 55, 66, 77, 88, 99])"
      ]
     },
     "execution_count": 3,
     "metadata": {},
     "output_type": "execute_result"
    }
   ],
   "source": [
    "numpy.array([11,22,33,44,55,66,77,88,99])"
   ]
  },
  {
   "cell_type": "code",
   "execution_count": 4,
   "id": "51de0654",
   "metadata": {},
   "outputs": [],
   "source": [
    "#give nick name of numpy\n",
    "import numpy as np"
   ]
  },
  {
   "cell_type": "code",
   "execution_count": 5,
   "id": "b15ef878",
   "metadata": {},
   "outputs": [
    {
     "data": {
      "text/plain": [
       "array([66, 77, 85, 96, 42, 36, 44])"
      ]
     },
     "execution_count": 5,
     "metadata": {},
     "output_type": "execute_result"
    }
   ],
   "source": [
    "np.array([66,77,85,96,42,36,44])"
   ]
  },
  {
   "cell_type": "code",
   "execution_count": 6,
   "id": "4d3dab10",
   "metadata": {},
   "outputs": [],
   "source": [
    "#we can store this with variable \n",
    "a=np.array([11,55,88,699,42,625,75])"
   ]
  },
  {
   "cell_type": "code",
   "execution_count": 7,
   "id": "174d1bbe",
   "metadata": {},
   "outputs": [
    {
     "data": {
      "text/plain": [
       "array([ 11,  55,  88, 699,  42, 625,  75])"
      ]
     },
     "execution_count": 7,
     "metadata": {},
     "output_type": "execute_result"
    }
   ],
   "source": [
    "a\n",
    "#these all are one dimentional array"
   ]
  },
  {
   "cell_type": "code",
   "execution_count": 8,
   "id": "b0d7e23d",
   "metadata": {},
   "outputs": [
    {
     "data": {
      "text/plain": [
       "array([12.5, 41.5, 13.2, 75.2, 85.9])"
      ]
     },
     "execution_count": 8,
     "metadata": {},
     "output_type": "execute_result"
    }
   ],
   "source": [
    "#we can use here float data also\n",
    "b=np.array([12.5,41.5,13.2,75.2,85.9])\n",
    "b"
   ]
  },
  {
   "cell_type": "markdown",
   "id": "94edba40",
   "metadata": {},
   "source": [
    "# Two dimentional arrays"
   ]
  },
  {
   "cell_type": "code",
   "execution_count": 10,
   "id": "2545f2b8",
   "metadata": {},
   "outputs": [],
   "source": [
    "c=np.array([[1,2],[3,4]])"
   ]
  },
  {
   "cell_type": "code",
   "execution_count": 11,
   "id": "c1f2b299",
   "metadata": {},
   "outputs": [
    {
     "data": {
      "text/plain": [
       "array([[1, 2],\n",
       "       [3, 4]])"
      ]
     },
     "execution_count": 11,
     "metadata": {},
     "output_type": "execute_result"
    }
   ],
   "source": [
    "c"
   ]
  },
  {
   "cell_type": "code",
   "execution_count": 12,
   "id": "c0310d18",
   "metadata": {},
   "outputs": [
    {
     "data": {
      "text/plain": [
       "(2, 2)"
      ]
     },
     "execution_count": 12,
     "metadata": {},
     "output_type": "execute_result"
    }
   ],
   "source": [
    "#for check shape we have shape method also \n",
    "c.shape\n",
    "#(2 raw,2column)"
   ]
  },
  {
   "cell_type": "code",
   "execution_count": 13,
   "id": "459f8d09",
   "metadata": {},
   "outputs": [
    {
     "data": {
      "text/plain": [
       "array([[11, 12, 13, 14, 15],\n",
       "       [16, 17, 18, 19, 20],\n",
       "       [21, 22, 23, 24, 25],\n",
       "       [26, 27, 28, 29, 30],\n",
       "       [31, 32, 33, 34, 35],\n",
       "       [36, 37, 38, 39, 40]])"
      ]
     },
     "execution_count": 13,
     "metadata": {},
     "output_type": "execute_result"
    }
   ],
   "source": [
    "d=np.array([[11,12,13,14,15],[16,17,18,19,20],[21,22,23,24,25],[26,27,28,29,30],[31,32,33,34,35],[36,37,38,39,40]])\n",
    "d"
   ]
  },
  {
   "cell_type": "code",
   "execution_count": 14,
   "id": "fd592936",
   "metadata": {},
   "outputs": [
    {
     "data": {
      "text/plain": [
       "(6, 5)"
      ]
     },
     "execution_count": 14,
     "metadata": {},
     "output_type": "execute_result"
    }
   ],
   "source": [
    "d.shape\n",
    "#6 raws and 5 column here"
   ]
  },
  {
   "cell_type": "code",
   "execution_count": 16,
   "id": "b1b3f642",
   "metadata": {},
   "outputs": [
    {
     "name": "stdout",
     "output_type": "stream",
     "text": [
      "[[1 2]\n",
      " [3 4]\n",
      " [5 6]\n",
      " [7 8]]\n"
     ]
    },
    {
     "data": {
      "text/plain": [
       "(4, 2)"
      ]
     },
     "execution_count": 16,
     "metadata": {},
     "output_type": "execute_result"
    }
   ],
   "source": [
    "e=np.array([[1,2],[3,4],[5,6],[7,8]])\n",
    "print(e)\n",
    "e.shape"
   ]
  },
  {
   "cell_type": "code",
   "execution_count": 17,
   "id": "4ac638d1",
   "metadata": {},
   "outputs": [
    {
     "name": "stdout",
     "output_type": "stream",
     "text": [
      "[[111 112 113 114]\n",
      " [115 116 117 118]]\n"
     ]
    },
    {
     "data": {
      "text/plain": [
       "(2, 4)"
      ]
     },
     "execution_count": 17,
     "metadata": {},
     "output_type": "execute_result"
    }
   ],
   "source": [
    "f=np.array([[111,112,113,114],[115,116,117,118]])\n",
    "print(f)\n",
    "f.shape"
   ]
  },
  {
   "cell_type": "code",
   "execution_count": 20,
   "id": "e8b1ecbd",
   "metadata": {},
   "outputs": [
    {
     "data": {
      "text/plain": [
       "1"
      ]
     },
     "execution_count": 20,
     "metadata": {},
     "output_type": "execute_result"
    }
   ],
   "source": [
    "#we can check dimention of these arrays by ndim method\n",
    "b.ndim"
   ]
  },
  {
   "cell_type": "code",
   "execution_count": 19,
   "id": "30dfe97c",
   "metadata": {},
   "outputs": [
    {
     "data": {
      "text/plain": [
       "2"
      ]
     },
     "execution_count": 19,
     "metadata": {},
     "output_type": "execute_result"
    }
   ],
   "source": [
    "e.ndim"
   ]
  },
  {
   "cell_type": "code",
   "execution_count": 21,
   "id": "7bf7a7f1",
   "metadata": {},
   "outputs": [
    {
     "data": {
      "text/plain": [
       "118"
      ]
     },
     "execution_count": 21,
     "metadata": {},
     "output_type": "execute_result"
    }
   ],
   "source": [
    "#we can findout min and max data here\n",
    "f.max()"
   ]
  },
  {
   "cell_type": "code",
   "execution_count": 22,
   "id": "dc4b3a26",
   "metadata": {},
   "outputs": [
    {
     "data": {
      "text/plain": [
       "111"
      ]
     },
     "execution_count": 22,
     "metadata": {},
     "output_type": "execute_result"
    }
   ],
   "source": [
    "f.min()"
   ]
  },
  {
   "cell_type": "code",
   "execution_count": 23,
   "id": "7d1721ae",
   "metadata": {},
   "outputs": [
    {
     "data": {
      "text/plain": [
       "8"
      ]
     },
     "execution_count": 23,
     "metadata": {},
     "output_type": "execute_result"
    }
   ],
   "source": [
    "# we can check here total no. of size or total no. of item or data here\n",
    "f.size"
   ]
  },
  {
   "cell_type": "code",
   "execution_count": 24,
   "id": "9a0830cf",
   "metadata": {},
   "outputs": [
    {
     "data": {
      "text/plain": [
       "8"
      ]
     },
     "execution_count": 24,
     "metadata": {},
     "output_type": "execute_result"
    }
   ],
   "source": [
    "e.size"
   ]
  },
  {
   "cell_type": "code",
   "execution_count": 25,
   "id": "3b91a664",
   "metadata": {},
   "outputs": [
    {
     "data": {
      "text/plain": [
       "30"
      ]
     },
     "execution_count": 25,
     "metadata": {},
     "output_type": "execute_result"
    }
   ],
   "source": [
    "d.size"
   ]
  },
  {
   "cell_type": "code",
   "execution_count": 27,
   "id": "b9b722cd",
   "metadata": {},
   "outputs": [
    {
     "data": {
      "text/plain": [
       "4"
      ]
     },
     "execution_count": 27,
     "metadata": {},
     "output_type": "execute_result"
    }
   ],
   "source": [
    "#we can check here item size also its total no. of size which is taken by inside the memory\n",
    "e.itemsize"
   ]
  },
  {
   "cell_type": "code",
   "execution_count": 28,
   "id": "24454e34",
   "metadata": {},
   "outputs": [
    {
     "data": {
      "text/plain": [
       "4"
      ]
     },
     "execution_count": 28,
     "metadata": {},
     "output_type": "execute_result"
    }
   ],
   "source": [
    "f.itemsize\n",
    "#its byte size--- 4 byte is used for store each of one element---1byte=8bit so 4 byte=32bit"
   ]
  },
  {
   "cell_type": "code",
   "execution_count": 30,
   "id": "de633b48",
   "metadata": {},
   "outputs": [
    {
     "data": {
      "text/plain": [
       "4"
      ]
     },
     "execution_count": 30,
     "metadata": {},
     "output_type": "execute_result"
    }
   ],
   "source": [
    "d.itemsize"
   ]
  },
  {
   "cell_type": "code",
   "execution_count": 31,
   "id": "9e911a3f",
   "metadata": {},
   "outputs": [
    {
     "name": "stdout",
     "output_type": "stream",
     "text": [
      "[[1 2]\n",
      " [3 4]\n",
      " [5 6]\n",
      " [7 8]]\n"
     ]
    }
   ],
   "source": [
    "# we have reshape method also we can give the reshape or we can changes raw and column\n",
    "e=np.array([[1,2],[3,4],[5,6],[7,8]])\n",
    "print(e)"
   ]
  },
  {
   "cell_type": "code",
   "execution_count": 32,
   "id": "d61cd961",
   "metadata": {},
   "outputs": [
    {
     "data": {
      "text/plain": [
       "(4, 2)"
      ]
     },
     "execution_count": 32,
     "metadata": {},
     "output_type": "execute_result"
    }
   ],
   "source": [
    "e.shape"
   ]
  },
  {
   "cell_type": "code",
   "execution_count": 33,
   "id": "7173cc5c",
   "metadata": {},
   "outputs": [
    {
     "data": {
      "text/plain": [
       "array([[1, 2, 3, 4],\n",
       "       [5, 6, 7, 8]])"
      ]
     },
     "execution_count": 33,
     "metadata": {},
     "output_type": "execute_result"
    }
   ],
   "source": [
    "e.reshape(2,4)\n",
    "#here change in 2 raws and 4 column"
   ]
  },
  {
   "cell_type": "code",
   "execution_count": 35,
   "id": "28cc8493",
   "metadata": {},
   "outputs": [
    {
     "data": {
      "text/plain": [
       "array([[11, 12, 13, 14, 15],\n",
       "       [16, 17, 18, 19, 20],\n",
       "       [21, 22, 23, 24, 25],\n",
       "       [26, 27, 28, 29, 30],\n",
       "       [31, 32, 33, 34, 35],\n",
       "       [36, 37, 38, 39, 40]])"
      ]
     },
     "execution_count": 35,
     "metadata": {},
     "output_type": "execute_result"
    }
   ],
   "source": [
    "d=np.array([[11,12,13,14,15],[16,17,18,19,20],[21,22,23,24,25],[26,27,28,29,30],[31,32,33,34,35],[36,37,38,39,40]])\n",
    "d"
   ]
  },
  {
   "cell_type": "code",
   "execution_count": 36,
   "id": "3e3b01bd",
   "metadata": {},
   "outputs": [
    {
     "data": {
      "text/plain": [
       "(6, 5)"
      ]
     },
     "execution_count": 36,
     "metadata": {},
     "output_type": "execute_result"
    }
   ],
   "source": [
    "d.shape"
   ]
  },
  {
   "cell_type": "code",
   "execution_count": 37,
   "id": "7a2d6051",
   "metadata": {},
   "outputs": [
    {
     "data": {
      "text/plain": [
       "30"
      ]
     },
     "execution_count": 37,
     "metadata": {},
     "output_type": "execute_result"
    }
   ],
   "source": [
    "d.size"
   ]
  },
  {
   "cell_type": "code",
   "execution_count": 38,
   "id": "1e7daae2",
   "metadata": {},
   "outputs": [
    {
     "data": {
      "text/plain": [
       "array([[11, 12, 13, 14, 15, 16, 17, 18, 19, 20],\n",
       "       [21, 22, 23, 24, 25, 26, 27, 28, 29, 30],\n",
       "       [31, 32, 33, 34, 35, 36, 37, 38, 39, 40]])"
      ]
     },
     "execution_count": 38,
     "metadata": {},
     "output_type": "execute_result"
    }
   ],
   "source": [
    "d.reshape(3,10)"
   ]
  },
  {
   "cell_type": "code",
   "execution_count": 39,
   "id": "029438d9",
   "metadata": {},
   "outputs": [
    {
     "data": {
      "text/plain": [
       "array([[11, 12, 13],\n",
       "       [14, 15, 16],\n",
       "       [17, 18, 19],\n",
       "       [20, 21, 22],\n",
       "       [23, 24, 25],\n",
       "       [26, 27, 28],\n",
       "       [29, 30, 31],\n",
       "       [32, 33, 34],\n",
       "       [35, 36, 37],\n",
       "       [38, 39, 40]])"
      ]
     },
     "execution_count": 39,
     "metadata": {},
     "output_type": "execute_result"
    }
   ],
   "source": [
    "d.reshape(10,3)"
   ]
  },
  {
   "cell_type": "markdown",
   "id": "08a7309f",
   "metadata": {},
   "source": [
    "# arange function also\n",
    "#arange function is the similar of range function"
   ]
  },
  {
   "cell_type": "code",
   "execution_count": 41,
   "id": "44315480",
   "metadata": {},
   "outputs": [],
   "source": [
    "g=np.arange(9)"
   ]
  },
  {
   "cell_type": "code",
   "execution_count": 42,
   "id": "2af762f6",
   "metadata": {},
   "outputs": [
    {
     "data": {
      "text/plain": [
       "array([0, 1, 2, 3, 4, 5, 6, 7, 8])"
      ]
     },
     "execution_count": 42,
     "metadata": {},
     "output_type": "execute_result"
    }
   ],
   "source": [
    "g"
   ]
  },
  {
   "cell_type": "code",
   "execution_count": 43,
   "id": "cf576b69",
   "metadata": {},
   "outputs": [
    {
     "data": {
      "text/plain": [
       "array([[0, 1, 2],\n",
       "       [3, 4, 5],\n",
       "       [6, 7, 8]])"
      ]
     },
     "execution_count": 43,
     "metadata": {},
     "output_type": "execute_result"
    }
   ],
   "source": [
    "#we cam make array here with two dimension\n",
    "g.reshape(3,3)"
   ]
  },
  {
   "cell_type": "code",
   "execution_count": 46,
   "id": "099d12b3",
   "metadata": {},
   "outputs": [
    {
     "name": "stdout",
     "output_type": "stream",
     "text": [
      "[ 0  1  2  3  4  5  6  7  8  9 10 11 12 13 14 15 16 17 18 19 20 21 22 23\n",
      " 24 25 26 27 28 29 30 31 32 33 34]\n"
     ]
    }
   ],
   "source": [
    "h=np.arange(35)\n",
    "print(h)"
   ]
  },
  {
   "cell_type": "code",
   "execution_count": 47,
   "id": "c790cbc4",
   "metadata": {},
   "outputs": [
    {
     "data": {
      "text/plain": [
       "35"
      ]
     },
     "execution_count": 47,
     "metadata": {},
     "output_type": "execute_result"
    }
   ],
   "source": [
    "h.size\n",
    "#total item"
   ]
  },
  {
   "cell_type": "code",
   "execution_count": 48,
   "id": "21389633",
   "metadata": {},
   "outputs": [
    {
     "data": {
      "text/plain": [
       "(35,)"
      ]
     },
     "execution_count": 48,
     "metadata": {},
     "output_type": "execute_result"
    }
   ],
   "source": [
    "h.shape\n",
    "#raws and column"
   ]
  },
  {
   "cell_type": "code",
   "execution_count": 49,
   "id": "1ea4be8d",
   "metadata": {},
   "outputs": [
    {
     "data": {
      "text/plain": [
       "1"
      ]
     },
     "execution_count": 49,
     "metadata": {},
     "output_type": "execute_result"
    }
   ],
   "source": [
    "h.ndim\n",
    "#dimension"
   ]
  },
  {
   "cell_type": "code",
   "execution_count": 51,
   "id": "46daca32",
   "metadata": {},
   "outputs": [
    {
     "data": {
      "text/plain": [
       "4"
      ]
     },
     "execution_count": 51,
     "metadata": {},
     "output_type": "execute_result"
    }
   ],
   "source": [
    "h.itemsize\n",
    "#store each element taken in the memory 4 byte"
   ]
  },
  {
   "cell_type": "code",
   "execution_count": 52,
   "id": "455f0862",
   "metadata": {},
   "outputs": [
    {
     "data": {
      "text/plain": [
       "array([[ 0,  1,  2,  3,  4],\n",
       "       [ 5,  6,  7,  8,  9],\n",
       "       [10, 11, 12, 13, 14],\n",
       "       [15, 16, 17, 18, 19],\n",
       "       [20, 21, 22, 23, 24],\n",
       "       [25, 26, 27, 28, 29],\n",
       "       [30, 31, 32, 33, 34]])"
      ]
     },
     "execution_count": 52,
     "metadata": {},
     "output_type": "execute_result"
    }
   ],
   "source": [
    "h.reshape(7,5)"
   ]
  },
  {
   "cell_type": "code",
   "execution_count": 53,
   "id": "c1266376",
   "metadata": {},
   "outputs": [
    {
     "data": {
      "text/plain": [
       "dtype('int32')"
      ]
     },
     "execution_count": 53,
     "metadata": {},
     "output_type": "execute_result"
    }
   ],
   "source": [
    "#we can check here data type also--- it will show in bit 4 byte=32bit\n",
    "#it mean each item will take memory space 32 bit or in byte take space 4 byte\n",
    "h.dtype"
   ]
  },
  {
   "cell_type": "code",
   "execution_count": 54,
   "id": "7de3f3ed",
   "metadata": {},
   "outputs": [
    {
     "data": {
      "text/plain": [
       "dtype('int32')"
      ]
     },
     "execution_count": 54,
     "metadata": {},
     "output_type": "execute_result"
    }
   ],
   "source": [
    "e.dtype"
   ]
  },
  {
   "cell_type": "code",
   "execution_count": 56,
   "id": "9b9709ad",
   "metadata": {},
   "outputs": [
    {
     "name": "stdout",
     "output_type": "stream",
     "text": [
      "[[1 2]\n",
      " [3 4]\n",
      " [5 6]\n",
      " [7 8]]\n"
     ]
    }
   ],
   "source": [
    "# we can write this also but its not necesarry \n",
    "e=np.array([[1,2],[3,4],[5,6],[7,8]],dtype=\"int32\")\n",
    "print(e)"
   ]
  },
  {
   "cell_type": "code",
   "execution_count": 57,
   "id": "ffdbe6d0",
   "metadata": {},
   "outputs": [
    {
     "data": {
      "text/plain": [
       "dtype('int32')"
      ]
     },
     "execution_count": 57,
     "metadata": {},
     "output_type": "execute_result"
    }
   ],
   "source": [
    "f.dtype"
   ]
  },
  {
   "cell_type": "code",
   "execution_count": 59,
   "id": "a9111c30",
   "metadata": {},
   "outputs": [],
   "source": [
    "#we can give the data type in float also so data will be change into the decimal value\n",
    "i=np.array([[36,45,29,55],[66,65,85,89],[87,78,75,69]])"
   ]
  },
  {
   "cell_type": "code",
   "execution_count": 60,
   "id": "915ca133",
   "metadata": {},
   "outputs": [
    {
     "data": {
      "text/plain": [
       "array([[36, 45, 29, 55],\n",
       "       [66, 65, 85, 89],\n",
       "       [87, 78, 75, 69]])"
      ]
     },
     "execution_count": 60,
     "metadata": {},
     "output_type": "execute_result"
    }
   ],
   "source": [
    "i"
   ]
  },
  {
   "cell_type": "code",
   "execution_count": 61,
   "id": "6256be91",
   "metadata": {},
   "outputs": [
    {
     "data": {
      "text/plain": [
       "dtype('int32')"
      ]
     },
     "execution_count": 61,
     "metadata": {},
     "output_type": "execute_result"
    }
   ],
   "source": [
    "i.dtype"
   ]
  },
  {
   "cell_type": "code",
   "execution_count": 62,
   "id": "f9bd7ee4",
   "metadata": {},
   "outputs": [],
   "source": [
    "#now change data type here\n",
    "i=np.array([[36,45,29,55],[66,65,85,89],[87,78,75,69]],dtype=\"float64\")"
   ]
  },
  {
   "cell_type": "code",
   "execution_count": 63,
   "id": "3f5202ef",
   "metadata": {},
   "outputs": [
    {
     "data": {
      "text/plain": [
       "array([[36., 45., 29., 55.],\n",
       "       [66., 65., 85., 89.],\n",
       "       [87., 78., 75., 69.]])"
      ]
     },
     "execution_count": 63,
     "metadata": {},
     "output_type": "execute_result"
    }
   ],
   "source": [
    "# we will see point also"
   ]
  },
  {
   "cell_type": "code",
   "execution_count": 64,
   "id": "d06b1958",
   "metadata": {},
   "outputs": [
    {
     "data": {
      "text/plain": [
       "dtype('float64')"
      ]
     },
     "execution_count": 64,
     "metadata": {},
     "output_type": "execute_result"
    }
   ],
   "source": [
    "i.dtype"
   ]
  },
  {
   "cell_type": "code",
   "execution_count": 65,
   "id": "dd5e6ead",
   "metadata": {},
   "outputs": [
    {
     "data": {
      "text/plain": [
       "12"
      ]
     },
     "execution_count": 65,
     "metadata": {},
     "output_type": "execute_result"
    }
   ],
   "source": [
    "i.size"
   ]
  },
  {
   "cell_type": "code",
   "execution_count": 66,
   "id": "c3f7c4f8",
   "metadata": {},
   "outputs": [
    {
     "data": {
      "text/plain": [
       "(3, 4)"
      ]
     },
     "execution_count": 66,
     "metadata": {},
     "output_type": "execute_result"
    }
   ],
   "source": [
    "i.shape"
   ]
  },
  {
   "cell_type": "code",
   "execution_count": 67,
   "id": "b0595414",
   "metadata": {},
   "outputs": [
    {
     "data": {
      "text/plain": [
       "8"
      ]
     },
     "execution_count": 67,
     "metadata": {},
     "output_type": "execute_result"
    }
   ],
   "source": [
    "i.itemsize"
   ]
  },
  {
   "cell_type": "code",
   "execution_count": 80,
   "id": "70d8fb8e",
   "metadata": {},
   "outputs": [
    {
     "data": {
      "text/plain": [
       "2"
      ]
     },
     "execution_count": 80,
     "metadata": {},
     "output_type": "execute_result"
    }
   ],
   "source": [
    "i.ndim"
   ]
  },
  {
   "cell_type": "code",
   "execution_count": 81,
   "id": "d24637db",
   "metadata": {},
   "outputs": [
    {
     "data": {
      "text/plain": [
       "numpy.ndarray"
      ]
     },
     "execution_count": 81,
     "metadata": {},
     "output_type": "execute_result"
    }
   ],
   "source": [
    "#what is data type here\n",
    "type(i)\n",
    "#numpy.ndarray its mean multidimensional array"
   ]
  },
  {
   "cell_type": "code",
   "execution_count": 68,
   "id": "8a7e696f",
   "metadata": {},
   "outputs": [
    {
     "data": {
      "text/plain": [
       "array([[36., 45., 29., 55., 66., 65.],\n",
       "       [85., 89., 87., 78., 75., 69.]])"
      ]
     },
     "execution_count": 68,
     "metadata": {},
     "output_type": "execute_result"
    }
   ],
   "source": [
    "i.reshape(2,6)"
   ]
  },
  {
   "cell_type": "code",
   "execution_count": 78,
   "id": "f1be4988",
   "metadata": {},
   "outputs": [],
   "source": [
    "j=np.arange(35).reshape(7,5)"
   ]
  },
  {
   "cell_type": "code",
   "execution_count": 79,
   "id": "74029103",
   "metadata": {},
   "outputs": [
    {
     "data": {
      "text/plain": [
       "array([[ 0,  1,  2,  3,  4],\n",
       "       [ 5,  6,  7,  8,  9],\n",
       "       [10, 11, 12, 13, 14],\n",
       "       [15, 16, 17, 18, 19],\n",
       "       [20, 21, 22, 23, 24],\n",
       "       [25, 26, 27, 28, 29],\n",
       "       [30, 31, 32, 33, 34]])"
      ]
     },
     "execution_count": 79,
     "metadata": {},
     "output_type": "execute_result"
    }
   ],
   "source": [
    "j"
   ]
  },
  {
   "cell_type": "code",
   "execution_count": 82,
   "id": "30b3fb14",
   "metadata": {},
   "outputs": [
    {
     "data": {
      "text/plain": [
       "numpy.ndarray"
      ]
     },
     "execution_count": 82,
     "metadata": {},
     "output_type": "execute_result"
    }
   ],
   "source": [
    "type(j)"
   ]
  },
  {
   "cell_type": "markdown",
   "id": "df40b566",
   "metadata": {},
   "source": [
    "# Ravel function\n",
    "#its arrange all data in one line only"
   ]
  },
  {
   "cell_type": "code",
   "execution_count": 84,
   "id": "06b3305a",
   "metadata": {},
   "outputs": [
    {
     "data": {
      "text/plain": [
       "array([ 0,  1,  2,  3,  4,  5,  6,  7,  8,  9, 10, 11, 12, 13, 14, 15, 16,\n",
       "       17, 18, 19, 20, 21, 22, 23, 24, 25, 26, 27, 28, 29, 30, 31, 32, 33,\n",
       "       34])"
      ]
     },
     "execution_count": 84,
     "metadata": {},
     "output_type": "execute_result"
    }
   ],
   "source": [
    "j.ravel()"
   ]
  },
  {
   "cell_type": "code",
   "execution_count": 85,
   "id": "8885aa02",
   "metadata": {},
   "outputs": [
    {
     "data": {
      "text/plain": [
       "array([0, 1, 2, 3, 4, 5, 6, 7, 8])"
      ]
     },
     "execution_count": 85,
     "metadata": {},
     "output_type": "execute_result"
    }
   ],
   "source": [
    "g.ravel()"
   ]
  },
  {
   "cell_type": "code",
   "execution_count": 86,
   "id": "e76c82f1",
   "metadata": {},
   "outputs": [],
   "source": [
    "#if i want create array with zero data the use zero function here\n",
    "k=np.zeros([5,3])"
   ]
  },
  {
   "cell_type": "code",
   "execution_count": 87,
   "id": "59a7011c",
   "metadata": {},
   "outputs": [
    {
     "data": {
      "text/plain": [
       "array([[0., 0., 0.],\n",
       "       [0., 0., 0.],\n",
       "       [0., 0., 0.],\n",
       "       [0., 0., 0.],\n",
       "       [0., 0., 0.]])"
      ]
     },
     "execution_count": 87,
     "metadata": {},
     "output_type": "execute_result"
    }
   ],
   "source": [
    "k"
   ]
  },
  {
   "cell_type": "code",
   "execution_count": 90,
   "id": "07ba3cdf",
   "metadata": {},
   "outputs": [
    {
     "name": "stdout",
     "output_type": "stream",
     "text": [
      "[[1. 1. 1.]\n",
      " [1. 1. 1.]\n",
      " [1. 1. 1.]]\n"
     ]
    }
   ],
   "source": [
    "#if i want create array with ones data the use one function here\n",
    "l=np.ones([3,3])\n",
    "print(l)"
   ]
  },
  {
   "cell_type": "code",
   "execution_count": 92,
   "id": "71e5ab74",
   "metadata": {},
   "outputs": [
    {
     "data": {
      "text/plain": [
       "array([0, 1, 2, 3, 4, 5, 6, 7, 8, 9])"
      ]
     },
     "execution_count": 92,
     "metadata": {},
     "output_type": "execute_result"
    }
   ],
   "source": [
    "#we can work with arange function in many ways\n",
    "#like start,end and jump function also\n",
    "m=np.arange(10)\n",
    "m"
   ]
  },
  {
   "cell_type": "code",
   "execution_count": 93,
   "id": "a5a03500",
   "metadata": {},
   "outputs": [
    {
     "data": {
      "text/plain": [
       "array([1, 2, 3, 4, 5, 6, 7, 8, 9])"
      ]
     },
     "execution_count": 93,
     "metadata": {},
     "output_type": "execute_result"
    }
   ],
   "source": [
    "np.arange(1,10)#(start,end)"
   ]
  },
  {
   "cell_type": "code",
   "execution_count": 95,
   "id": "f362d671",
   "metadata": {},
   "outputs": [
    {
     "data": {
      "text/plain": [
       "array([1, 3, 5, 7, 9])"
      ]
     },
     "execution_count": 95,
     "metadata": {},
     "output_type": "execute_result"
    }
   ],
   "source": [
    "np.arange(1,10,2)#(start,end,jump)"
   ]
  },
  {
   "cell_type": "code",
   "execution_count": 96,
   "id": "a1ebd407",
   "metadata": {},
   "outputs": [
    {
     "data": {
      "text/plain": [
       "array([ 5,  6,  7,  8,  9, 10, 11, 12, 13, 14, 15, 16, 17, 18, 19, 20, 21,\n",
       "       22, 23, 24, 25, 26, 27, 28, 29, 30, 31, 32, 33, 34, 35, 36, 37, 38,\n",
       "       39, 40, 41, 42, 43, 44, 45, 46, 47, 48, 49])"
      ]
     },
     "execution_count": 96,
     "metadata": {},
     "output_type": "execute_result"
    }
   ],
   "source": [
    "np.arange(5,50)"
   ]
  },
  {
   "cell_type": "code",
   "execution_count": 97,
   "id": "514b922b",
   "metadata": {},
   "outputs": [
    {
     "data": {
      "text/plain": [
       "array([ 5, 10, 15, 20, 25, 30, 35, 40, 45])"
      ]
     },
     "execution_count": 97,
     "metadata": {},
     "output_type": "execute_result"
    }
   ],
   "source": [
    "np.arange(5,50,5)"
   ]
  },
  {
   "cell_type": "code",
   "execution_count": 98,
   "id": "baf38d31",
   "metadata": {},
   "outputs": [
    {
     "data": {
      "text/plain": [
       "array([ 2,  4,  6,  8, 10, 12, 14, 16, 18, 20])"
      ]
     },
     "execution_count": 98,
     "metadata": {},
     "output_type": "execute_result"
    }
   ],
   "source": [
    "np.arange(2,21,2)"
   ]
  },
  {
   "cell_type": "markdown",
   "id": "0987d60a",
   "metadata": {},
   "source": [
    "# Broadcasting in numpy\n",
    "we can make mathmatically or arithmetic operatiom of that is assed on arrays"
   ]
  },
  {
   "cell_type": "code",
   "execution_count": 100,
   "id": "6fc91813",
   "metadata": {},
   "outputs": [
    {
     "data": {
      "text/plain": [
       "array([2, 3, 4])"
      ]
     },
     "execution_count": 100,
     "metadata": {},
     "output_type": "execute_result"
    }
   ],
   "source": [
    "n=np.array([2,3,4])\n",
    "n"
   ]
  },
  {
   "cell_type": "code",
   "execution_count": 101,
   "id": "cfbcb1cb",
   "metadata": {},
   "outputs": [
    {
     "data": {
      "text/plain": [
       "array([1, 2, 3])"
      ]
     },
     "execution_count": 101,
     "metadata": {},
     "output_type": "execute_result"
    }
   ],
   "source": [
    "o=np.array([1,2,3])\n",
    "o"
   ]
  },
  {
   "cell_type": "code",
   "execution_count": 102,
   "id": "4f1f9888",
   "metadata": {},
   "outputs": [
    {
     "data": {
      "text/plain": [
       "array([3, 5, 7])"
      ]
     },
     "execution_count": 102,
     "metadata": {},
     "output_type": "execute_result"
    }
   ],
   "source": [
    "#here we can do arithmatic operation\n",
    "n+o"
   ]
  },
  {
   "cell_type": "code",
   "execution_count": 103,
   "id": "dae77f9c",
   "metadata": {},
   "outputs": [
    {
     "data": {
      "text/plain": [
       "array([1, 1, 1])"
      ]
     },
     "execution_count": 103,
     "metadata": {},
     "output_type": "execute_result"
    }
   ],
   "source": [
    "n-o"
   ]
  },
  {
   "cell_type": "code",
   "execution_count": 104,
   "id": "aab52e03",
   "metadata": {},
   "outputs": [
    {
     "data": {
      "text/plain": [
       "array([ 2,  6, 12])"
      ]
     },
     "execution_count": 104,
     "metadata": {},
     "output_type": "execute_result"
    }
   ],
   "source": [
    "n*o"
   ]
  },
  {
   "cell_type": "code",
   "execution_count": 105,
   "id": "aa1600be",
   "metadata": {},
   "outputs": [
    {
     "data": {
      "text/plain": [
       "array([5, 6, 7])"
      ]
     },
     "execution_count": 105,
     "metadata": {},
     "output_type": "execute_result"
    }
   ],
   "source": [
    "p=np.array([5,6,7])\n",
    "p"
   ]
  },
  {
   "cell_type": "code",
   "execution_count": 106,
   "id": "4cdead40",
   "metadata": {},
   "outputs": [
    {
     "data": {
      "text/plain": [
       "array([2])"
      ]
     },
     "execution_count": 106,
     "metadata": {},
     "output_type": "execute_result"
    }
   ],
   "source": [
    "q=np.array([2])\n",
    "q"
   ]
  },
  {
   "cell_type": "code",
   "execution_count": 107,
   "id": "5af68a77",
   "metadata": {},
   "outputs": [
    {
     "data": {
      "text/plain": [
       "array([10, 12, 14])"
      ]
     },
     "execution_count": 107,
     "metadata": {},
     "output_type": "execute_result"
    }
   ],
   "source": [
    "p*q"
   ]
  },
  {
   "cell_type": "code",
   "execution_count": 116,
   "id": "f930f41d",
   "metadata": {},
   "outputs": [
    {
     "name": "stdout",
     "output_type": "stream",
     "text": [
      "[20 30 40 50]\n",
      "[0 1 2 3]\n"
     ]
    }
   ],
   "source": [
    "s=np.array([20,30,40,50])\n",
    "t=np.arange(4)\n",
    "print(s)\n",
    "print(t)"
   ]
  },
  {
   "cell_type": "code",
   "execution_count": 117,
   "id": "75ebc1d1",
   "metadata": {},
   "outputs": [
    {
     "name": "stdout",
     "output_type": "stream",
     "text": [
      "z= [20 31 42 53]\n",
      "z1= [20 29 38 47]\n",
      "z2= [  0  30  80 150]\n"
     ]
    }
   ],
   "source": [
    "z=s+t\n",
    "print(\"z=\",z)\n",
    "z1=s-t\n",
    "print(\"z1=\",z1)\n",
    "z2=s*t\n",
    "print(\"z2=\",z2)"
   ]
  },
  {
   "cell_type": "code",
   "execution_count": 118,
   "id": "3fcd90cd",
   "metadata": {},
   "outputs": [
    {
     "data": {
      "text/plain": [
       "array([0, 1, 4, 9])"
      ]
     },
     "execution_count": 118,
     "metadata": {},
     "output_type": "execute_result"
    }
   ],
   "source": [
    "t**2\n",
    "#we can take square here"
   ]
  },
  {
   "cell_type": "markdown",
   "id": "6892a637",
   "metadata": {},
   "source": [
    "# Random library\n",
    "#inside numpy we have random library inside the random library it has random function here we can call generate any no.randomly"
   ]
  },
  {
   "cell_type": "code",
   "execution_count": 119,
   "id": "aaeaef41",
   "metadata": {},
   "outputs": [
    {
     "data": {
      "text/plain": [
       "array([[0.28356049, 0.57334845, 0.58045538],\n",
       "       [0.78602976, 0.05943907, 0.48905376],\n",
       "       [0.11245831, 0.01707449, 0.5633694 ]])"
      ]
     },
     "execution_count": 119,
     "metadata": {},
     "output_type": "execute_result"
    }
   ],
   "source": [
    "u=np.random.random([3,3])\n",
    "u"
   ]
  },
  {
   "cell_type": "code",
   "execution_count": 121,
   "id": "ead6de4b",
   "metadata": {},
   "outputs": [
    {
     "data": {
      "text/plain": [
       "array([[1., 1., 1.],\n",
       "       [1., 1., 1.],\n",
       "       [1., 1., 1.]])"
      ]
     },
     "execution_count": 121,
     "metadata": {},
     "output_type": "execute_result"
    }
   ],
   "source": [
    "u1=np.ones([3,3])\n",
    "u1"
   ]
  },
  {
   "cell_type": "code",
   "execution_count": 122,
   "id": "a7b7b32e",
   "metadata": {},
   "outputs": [
    {
     "data": {
      "text/plain": [
       "array([[1.28356049, 1.57334845, 1.58045538],\n",
       "       [1.78602976, 1.05943907, 1.48905376],\n",
       "       [1.11245831, 1.01707449, 1.5633694 ]])"
      ]
     },
     "execution_count": 122,
     "metadata": {},
     "output_type": "execute_result"
    }
   ],
   "source": [
    "# if we add here random data and ones array data then\n",
    "u+u1"
   ]
  },
  {
   "cell_type": "markdown",
   "id": "8bb1e21c",
   "metadata": {},
   "source": [
    "# Universal function\n",
    "#those function like add function,min,max function they are universal"
   ]
  },
  {
   "cell_type": "code",
   "execution_count": 123,
   "id": "de94a0dd",
   "metadata": {},
   "outputs": [
    {
     "data": {
      "text/plain": [
       "array([0, 1, 2, 3])"
      ]
     },
     "execution_count": 123,
     "metadata": {},
     "output_type": "execute_result"
    }
   ],
   "source": [
    "v=np.arange(4)\n",
    "v"
   ]
  },
  {
   "cell_type": "code",
   "execution_count": 124,
   "id": "8a84763b",
   "metadata": {},
   "outputs": [
    {
     "data": {
      "text/plain": [
       "array([ 1.        ,  2.71828183,  7.3890561 , 20.08553692])"
      ]
     },
     "execution_count": 124,
     "metadata": {},
     "output_type": "execute_result"
    }
   ],
   "source": [
    "np.exp(v)"
   ]
  },
  {
   "cell_type": "code",
   "execution_count": 125,
   "id": "e1ba775a",
   "metadata": {},
   "outputs": [
    {
     "data": {
      "text/plain": [
       "array([0.        , 1.        , 1.41421356, 1.73205081])"
      ]
     },
     "execution_count": 125,
     "metadata": {},
     "output_type": "execute_result"
    }
   ],
   "source": [
    "np.sqrt(v)"
   ]
  },
  {
   "cell_type": "code",
   "execution_count": 126,
   "id": "12fb2eb5",
   "metadata": {},
   "outputs": [
    {
     "data": {
      "text/plain": [
       "array([5, 6, 7, 8])"
      ]
     },
     "execution_count": 126,
     "metadata": {},
     "output_type": "execute_result"
    }
   ],
   "source": [
    "w=np.array([5,6,7,8])\n",
    "w"
   ]
  },
  {
   "cell_type": "code",
   "execution_count": 127,
   "id": "f17d49a4",
   "metadata": {},
   "outputs": [
    {
     "data": {
      "text/plain": [
       "array([ 5,  7,  9, 11])"
      ]
     },
     "execution_count": 127,
     "metadata": {},
     "output_type": "execute_result"
    }
   ],
   "source": [
    "v+w"
   ]
  },
  {
   "cell_type": "code",
   "execution_count": 128,
   "id": "194cb5ad",
   "metadata": {},
   "outputs": [
    {
     "data": {
      "text/plain": [
       "array([ 5,  7,  9, 11])"
      ]
     },
     "execution_count": 128,
     "metadata": {},
     "output_type": "execute_result"
    }
   ],
   "source": [
    "np.add(v,w) # its universalfunction here"
   ]
  },
  {
   "cell_type": "markdown",
   "id": "b0fc317c",
   "metadata": {},
   "source": [
    "# Indexing slicing and iterating"
   ]
  },
  {
   "cell_type": "code",
   "execution_count": 129,
   "id": "d1251003",
   "metadata": {},
   "outputs": [
    {
     "data": {
      "text/plain": [
       "array([0, 1, 2, 3, 4, 5, 6, 7, 8, 9])"
      ]
     },
     "execution_count": 129,
     "metadata": {},
     "output_type": "execute_result"
    }
   ],
   "source": [
    "a1=np.arange(10)\n",
    "a1"
   ]
  },
  {
   "cell_type": "code",
   "execution_count": 131,
   "id": "46f811a4",
   "metadata": {},
   "outputs": [
    {
     "data": {
      "text/plain": [
       "2"
      ]
     },
     "execution_count": 131,
     "metadata": {},
     "output_type": "execute_result"
    }
   ],
   "source": [
    "a1[2] #2nd index"
   ]
  },
  {
   "cell_type": "code",
   "execution_count": 132,
   "id": "b8ca9edc",
   "metadata": {},
   "outputs": [
    {
     "data": {
      "text/plain": [
       "array([2, 3, 4])"
      ]
     },
     "execution_count": 132,
     "metadata": {},
     "output_type": "execute_result"
    }
   ],
   "source": [
    "a1[2:5]"
   ]
  },
  {
   "cell_type": "code",
   "execution_count": 133,
   "id": "5fbf9f42",
   "metadata": {},
   "outputs": [
    {
     "data": {
      "text/plain": [
       "9"
      ]
     },
     "execution_count": 133,
     "metadata": {},
     "output_type": "execute_result"
    }
   ],
   "source": [
    "a1[-1]"
   ]
  },
  {
   "cell_type": "code",
   "execution_count": 134,
   "id": "f2bdb29b",
   "metadata": {},
   "outputs": [
    {
     "data": {
      "text/plain": [
       "8"
      ]
     },
     "execution_count": 134,
     "metadata": {},
     "output_type": "execute_result"
    }
   ],
   "source": [
    "a1[-2]"
   ]
  },
  {
   "cell_type": "code",
   "execution_count": 135,
   "id": "f571cf39",
   "metadata": {},
   "outputs": [
    {
     "data": {
      "text/plain": [
       "7"
      ]
     },
     "execution_count": 135,
     "metadata": {},
     "output_type": "execute_result"
    }
   ],
   "source": [
    "a1[-3]"
   ]
  },
  {
   "cell_type": "code",
   "execution_count": 136,
   "id": "1f087007",
   "metadata": {},
   "outputs": [
    {
     "data": {
      "text/plain": [
       "array([0, 1, 2, 3, 4, 5, 6, 7, 8, 9])"
      ]
     },
     "execution_count": 136,
     "metadata": {},
     "output_type": "execute_result"
    }
   ],
   "source": [
    "a1"
   ]
  },
  {
   "cell_type": "code",
   "execution_count": 138,
   "id": "701af7c0",
   "metadata": {},
   "outputs": [
    {
     "data": {
      "text/plain": [
       "array([6, 7, 8, 9])"
      ]
     },
     "execution_count": 138,
     "metadata": {},
     "output_type": "execute_result"
    }
   ],
   "source": [
    "a1[-4:]"
   ]
  },
  {
   "cell_type": "code",
   "execution_count": 139,
   "id": "12c15d6c",
   "metadata": {},
   "outputs": [
    {
     "data": {
      "text/plain": [
       "array([6, 7])"
      ]
     },
     "execution_count": 139,
     "metadata": {},
     "output_type": "execute_result"
    }
   ],
   "source": [
    "a1[-4:-2]"
   ]
  },
  {
   "cell_type": "code",
   "execution_count": 140,
   "id": "b3c28d14",
   "metadata": {},
   "outputs": [
    {
     "data": {
      "text/plain": [
       "array([ 0,  1,  2,  3,  4,  5,  6,  7,  8,  9, 10, 11, 12, 13, 14, 15, 16,\n",
       "       17, 18, 19])"
      ]
     },
     "execution_count": 140,
     "metadata": {},
     "output_type": "execute_result"
    }
   ],
   "source": [
    "b2=np.arange(20)\n",
    "b2"
   ]
  },
  {
   "cell_type": "code",
   "execution_count": 141,
   "id": "87951765",
   "metadata": {},
   "outputs": [
    {
     "data": {
      "text/plain": [
       "array([ 5,  6,  7,  8,  9, 10, 11, 12, 13, 14, 15, 16, 17, 18, 19])"
      ]
     },
     "execution_count": 141,
     "metadata": {},
     "output_type": "execute_result"
    }
   ],
   "source": [
    "b2[5:]"
   ]
  },
  {
   "cell_type": "markdown",
   "id": "c701dbc2",
   "metadata": {},
   "source": [
    "# Nan function\n",
    "whenever we do not know any data then it will shyow nan\n",
    "#nan represent always missing data\n",
    "there are two function 1 is random and rand is similar it give us positive data\n",
    "2nd is randn function it give us some postive data and some negative data"
   ]
  },
  {
   "cell_type": "code",
   "execution_count": 142,
   "id": "d5cedff2",
   "metadata": {},
   "outputs": [
    {
     "data": {
      "text/plain": [
       "array([ 1.,  2., nan,  4., nan,  6.,  7.])"
      ]
     },
     "execution_count": 142,
     "metadata": {},
     "output_type": "execute_result"
    }
   ],
   "source": [
    "c2=np.array([1,2,np.nan,4,np.nan,6,7])\n",
    "c2"
   ]
  },
  {
   "cell_type": "code",
   "execution_count": 143,
   "id": "d66c2cc4",
   "metadata": {},
   "outputs": [
    {
     "data": {
      "text/plain": [
       "array([[0.5286173 , 0.54319421],\n",
       "       [0.71845186, 0.25609384]])"
      ]
     },
     "execution_count": 143,
     "metadata": {},
     "output_type": "execute_result"
    }
   ],
   "source": [
    "np.random.rand(2,2)"
   ]
  },
  {
   "cell_type": "code",
   "execution_count": 144,
   "id": "9b0fc5d8",
   "metadata": {},
   "outputs": [
    {
     "data": {
      "text/plain": [
       "array([[ 1.18974822, -0.14613336, -1.31214574],\n",
       "       [-0.24095073,  0.68825171,  0.67296456],\n",
       "       [-0.14281232,  0.06986792,  0.17769923]])"
      ]
     },
     "execution_count": 144,
     "metadata": {},
     "output_type": "execute_result"
    }
   ],
   "source": [
    "np.random.randn(3,3) #(+ve and some -ve data)\n",
    "#randn function will generate any no. between 0 and 1."
   ]
  },
  {
   "cell_type": "code",
   "execution_count": null,
   "id": "5abb9f35",
   "metadata": {},
   "outputs": [],
   "source": []
  },
  {
   "cell_type": "code",
   "execution_count": null,
   "id": "a02e1133",
   "metadata": {},
   "outputs": [],
   "source": []
  },
  {
   "cell_type": "code",
   "execution_count": null,
   "id": "ec1efe56",
   "metadata": {},
   "outputs": [],
   "source": []
  },
  {
   "cell_type": "code",
   "execution_count": null,
   "id": "c340d42c",
   "metadata": {},
   "outputs": [],
   "source": []
  }
 ],
 "metadata": {
  "kernelspec": {
   "display_name": "Python 3 (ipykernel)",
   "language": "python",
   "name": "python3"
  },
  "language_info": {
   "codemirror_mode": {
    "name": "ipython",
    "version": 3
   },
   "file_extension": ".py",
   "mimetype": "text/x-python",
   "name": "python",
   "nbconvert_exporter": "python",
   "pygments_lexer": "ipython3",
   "version": "3.11.5"
  }
 },
 "nbformat": 4,
 "nbformat_minor": 5
}
