{
 "cells": [
  {
   "cell_type": "code",
   "execution_count": 1,
   "id": "38ef0405",
   "metadata": {},
   "outputs": [],
   "source": [
    "def myf():\n",
    "    print(\"hello\")"
   ]
  },
  {
   "cell_type": "code",
   "execution_count": 2,
   "id": "2add421e",
   "metadata": {},
   "outputs": [
    {
     "name": "stdout",
     "output_type": "stream",
     "text": [
      "hello\n"
     ]
    }
   ],
   "source": [
    "myf()"
   ]
  },
  {
   "cell_type": "code",
   "execution_count": 3,
   "id": "9dd4999c",
   "metadata": {},
   "outputs": [
    {
     "name": "stdout",
     "output_type": "stream",
     "text": [
      "0\n",
      "2\n",
      "4\n",
      "end of the while loop\n"
     ]
    }
   ],
   "source": [
    "i=0\n",
    "while(i<5):\n",
    "    print(i)\n",
    "    i=i+2\n",
    "print(\"end of the while loop\")"
   ]
  },
  {
   "cell_type": "code",
   "execution_count": 4,
   "id": "d50bdd33",
   "metadata": {},
   "outputs": [
    {
     "ename": "ZeroDivisionError",
     "evalue": "division by zero",
     "output_type": "error",
     "traceback": [
      "\u001b[1;31m---------------------------------------------------------------------------\u001b[0m",
      "\u001b[1;31mZeroDivisionError\u001b[0m                         Traceback (most recent call last)",
      "Cell \u001b[1;32mIn[4], line 1\u001b[0m\n\u001b[1;32m----> 1\u001b[0m \u001b[38;5;241m12\u001b[39m\u001b[38;5;241m/\u001b[39m\u001b[38;5;241m0\u001b[39m\n",
      "\u001b[1;31mZeroDivisionError\u001b[0m: division by zero"
     ]
    }
   ],
   "source": [
    "12/0"
   ]
  },
  {
   "cell_type": "code",
   "execution_count": null,
   "id": "472782df",
   "metadata": {},
   "outputs": [],
   "source": [
    "def testf(k):\n",
    "    result=30/k\n",
    "    print(result)"
   ]
  },
  {
   "cell_type": "code",
   "execution_count": null,
   "id": "cccb8a85",
   "metadata": {},
   "outputs": [],
   "source": [
    "k=int(input(\"enter k=\"))\n",
    "testf(k)"
   ]
  },
  {
   "cell_type": "markdown",
   "id": "fab0600b",
   "metadata": {},
   "source": [
    "# handling exception"
   ]
  },
  {
   "cell_type": "code",
   "execution_count": null,
   "id": "ad268641",
   "metadata": {},
   "outputs": [],
   "source": [
    "try:\n",
    "    79/0\n",
    "except ZeroDivisionError as err:\n",
    "    print('Handling run time error:',err)"
   ]
  },
  {
   "cell_type": "code",
   "execution_count": null,
   "id": "449a6590",
   "metadata": {},
   "outputs": [],
   "source": [
    "try:\n",
    "    8+m*2\n",
    "except NameError as err:\n",
    "    print('Handling run time error:',err)"
   ]
  },
  {
   "cell_type": "code",
   "execution_count": null,
   "id": "f9c6a036",
   "metadata": {},
   "outputs": [],
   "source": [
    "try:\n",
    "    i=int(input('value = '))\n",
    "    p=50/i\n",
    "except ZeroDivisionError:\n",
    "    print(\"Zero division error\")\n",
    "except NameError:\n",
    "    print('check name of variable:',NameError)\n",
    "else:\n",
    "    print(p)"
   ]
  },
  {
   "cell_type": "code",
   "execution_count": null,
   "id": "2fb3d397",
   "metadata": {},
   "outputs": [],
   "source": [
    "a=[10,20,30,40]\n",
    "try:\n",
    "    print(a[0])\n",
    "    print(a[1])\n",
    "    print(a[2])\n",
    "except:\n",
    "    print(\"out of range\")\n",
    "else:\n",
    "    print('hello')\n",
    "finally:\n",
    "    print('End of the program')"
   ]
  },
  {
   "cell_type": "code",
   "execution_count": null,
   "id": "3889c340",
   "metadata": {},
   "outputs": [],
   "source": [
    "try:\n",
    "    i=int(input(\"value i\"))\n",
    "    p=50/i\n",
    "except:\n",
    "    print('an error occured')\n",
    "else:\n",
    "    print(p)\n",
    "finally:\n",
    "    print(\"end of the program\")"
   ]
  },
  {
   "cell_type": "code",
   "execution_count": null,
   "id": "a197db9b",
   "metadata": {},
   "outputs": [],
   "source": [
    "try:\n",
    "    i=int(input('value = '))\n",
    "    p=50/i\n",
    "except ZeroDivisionError as err:\n",
    "    print(\"Zero division error:\",err)\n",
    "else:\n",
    "    print(p)"
   ]
  },
  {
   "cell_type": "code",
   "execution_count": null,
   "id": "35951910",
   "metadata": {},
   "outputs": [],
   "source": [
    "try:\n",
    "    c=2\n",
    "    d=2+c\n",
    "except NameError as err:\n",
    "    print(\"check name\")\n",
    "except IndentationError as err:\n",
    "    print(\"check indent\")\n",
    "else:\n",
    "    print(d)\n",
    "finally:\n",
    "    print(\"this line will be execute always\")"
   ]
  },
  {
   "cell_type": "markdown",
   "id": "a454e0cf",
   "metadata": {},
   "source": [
    "# OOPS \n",
    "#is the object oriented programming technology.\n",
    "we have some function inside the c++ and python as well that fuction is modular approach we have to need security inside that function we called that OOPS.\n",
    "so basically OOPS is a concept barier security is provide to entire code to entire data and program.\n",
    "when we are talking about security it means it giving us encapsulation means we are making capsule() inside we will writing code. and also gives us Modularization, Inheritance.its means if we have variable inside capsule so nobady can't change this variable\n",
    "when we are work with OOPS then CLASS concept being introduced CLASS is the key word which is helping us to make the code during the OOPS."
   ]
  },
  {
   "cell_type": "code",
   "execution_count": null,
   "id": "e2940a0e",
   "metadata": {},
   "outputs": [],
   "source": [
    "class student:\n",
    "    def __init__(self,rollno,name):\n",
    "         self.rollno=rollno\n",
    "         self.name=name\n",
    "    def display(self):\n",
    "        print(self.rollno,self.name)\n",
    "    "
   ]
  },
  {
   "cell_type": "code",
   "execution_count": null,
   "id": "a45b267f",
   "metadata": {},
   "outputs": [],
   "source": [
    "st=student(1,\"john\")"
   ]
  },
  {
   "cell_type": "code",
   "execution_count": null,
   "id": "ee4d3040",
   "metadata": {},
   "outputs": [],
   "source": [
    "st.display()"
   ]
  },
  {
   "cell_type": "code",
   "execution_count": null,
   "id": "2008ebed",
   "metadata": {},
   "outputs": [],
   "source": [
    "class name:\n",
    "    def __init__(self,rollno,name):\n",
    "        self.rollno=rollno\n",
    "        self.name=name\n",
    "    def display (self):\n",
    "        print(self.rollno,self.name)\n",
    "        "
   ]
  },
  {
   "cell_type": "code",
   "execution_count": null,
   "id": "2a5291a3",
   "metadata": {},
   "outputs": [],
   "source": [
    "detl=name(2,\"alice\")"
   ]
  },
  {
   "cell_type": "code",
   "execution_count": null,
   "id": "49e2e0fa",
   "metadata": {},
   "outputs": [],
   "source": [
    "detl.display()"
   ]
  },
  {
   "cell_type": "code",
   "execution_count": null,
   "id": "6fc17055",
   "metadata": {},
   "outputs": [],
   "source": [
    "detl.name"
   ]
  },
  {
   "cell_type": "code",
   "execution_count": null,
   "id": "7015e592",
   "metadata": {},
   "outputs": [],
   "source": [
    "class student:\n",
    "    def __init__ (self,rollno,name):\n",
    "        self.rollno=rollno\n",
    "        self.name=name\n",
    "    def display (self):\n",
    "        print(\"Rollno =\",self.rollno)\n",
    "        print(\"Name =\",self.name)"
   ]
  },
  {
   "cell_type": "code",
   "execution_count": null,
   "id": "c855352d",
   "metadata": {},
   "outputs": [],
   "source": [
    "stud1=student(1,\"rob\")"
   ]
  },
  {
   "cell_type": "code",
   "execution_count": null,
   "id": "0d46219c",
   "metadata": {},
   "outputs": [],
   "source": [
    "stud1.display ()"
   ]
  },
  {
   "cell_type": "code",
   "execution_count": null,
   "id": "0ec2ec7d",
   "metadata": {},
   "outputs": [],
   "source": [
    "stud2=student(2,\"alicee\")"
   ]
  },
  {
   "cell_type": "code",
   "execution_count": null,
   "id": "82aae43e",
   "metadata": {},
   "outputs": [],
   "source": [
    "stud2.display ()"
   ]
  },
  {
   "cell_type": "code",
   "execution_count": null,
   "id": "442f1e96",
   "metadata": {},
   "outputs": [],
   "source": [
    "stud1.rollno"
   ]
  },
  {
   "cell_type": "code",
   "execution_count": null,
   "id": "62ad8922",
   "metadata": {},
   "outputs": [],
   "source": [
    "stud1.name"
   ]
  },
  {
   "cell_type": "code",
   "execution_count": null,
   "id": "379e8791",
   "metadata": {},
   "outputs": [],
   "source": [
    "stud3=student(3,\"smith\")"
   ]
  },
  {
   "cell_type": "code",
   "execution_count": null,
   "id": "97649838",
   "metadata": {},
   "outputs": [],
   "source": [
    "stud3.display ()"
   ]
  },
  {
   "cell_type": "code",
   "execution_count": null,
   "id": "92d5fed4",
   "metadata": {},
   "outputs": [],
   "source": [
    "class Employee:\n",
    "    company=\"Google\"\n",
    "    def __init__ (self,empNo,name):\n",
    "        self.empNo=empNo\n",
    "        self.name=name\n",
    "    def display (self):\n",
    "        print(\"EmpNo =\",self.empNo)\n",
    "        print(\"Name =\",self.name)\n",
    "        "
   ]
  },
  {
   "cell_type": "code",
   "execution_count": null,
   "id": "279e1515",
   "metadata": {},
   "outputs": [],
   "source": [
    "emp1=Employee(101,\"rekha\")"
   ]
  },
  {
   "cell_type": "code",
   "execution_count": null,
   "id": "e50ae564",
   "metadata": {},
   "outputs": [],
   "source": [
    "emp1.display()"
   ]
  },
  {
   "cell_type": "code",
   "execution_count": null,
   "id": "aabdcdda",
   "metadata": {},
   "outputs": [],
   "source": [
    "emp2=Employee(102,\"rushda\")"
   ]
  },
  {
   "cell_type": "code",
   "execution_count": null,
   "id": "40a3ac11",
   "metadata": {},
   "outputs": [],
   "source": [
    "emp2.display()"
   ]
  },
  {
   "cell_type": "code",
   "execution_count": null,
   "id": "2e1f7e75",
   "metadata": {},
   "outputs": [],
   "source": [
    "emp3=Employee(103,\"Mentose\")"
   ]
  },
  {
   "cell_type": "code",
   "execution_count": null,
   "id": "51b19123",
   "metadata": {},
   "outputs": [],
   "source": [
    "emp3.display()"
   ]
  },
  {
   "cell_type": "code",
   "execution_count": null,
   "id": "a659b7be",
   "metadata": {},
   "outputs": [],
   "source": [
    "Employee.company"
   ]
  },
  {
   "cell_type": "code",
   "execution_count": null,
   "id": "72d30054",
   "metadata": {},
   "outputs": [],
   "source": [
    "class Employe:\n",
    "    def __init__(self,name,age):\n",
    "        print(\"initialized method called\")\n",
    "        self.name=name\n",
    "        self.age=age\n",
    "    def getdata(self,name,age):\n",
    "        print(\"get data method called\")\n",
    "        self.name=name\n",
    "        self.age=age\n",
    "    def displaydata(self):\n",
    "        print(\"Name\",self.name)\n",
    "        print(\"Age\",self.age)\n",
    "        \n",
    "    "
   ]
  },
  {
   "cell_type": "code",
   "execution_count": null,
   "id": "0d601762",
   "metadata": {},
   "outputs": [],
   "source": [
    "def main():\n",
    "    e=Employe(\"william\",35)\n",
    "    e.displaydata()\n",
    "    e.getdata(\"john\",25)\n",
    "    e.displaydata()\n",
    "  "
   ]
  },
  {
   "cell_type": "code",
   "execution_count": null,
   "id": "c2d9032e",
   "metadata": {},
   "outputs": [],
   "source": [
    "if __name__==\"__main__\":\n",
    "    main()\n"
   ]
  },
  {
   "cell_type": "markdown",
   "id": "b2a823c0",
   "metadata": {},
   "source": [
    "# Creat a Player Class with name age and sports associated with the players"
   ]
  },
  {
   "cell_type": "code",
   "execution_count": 10,
   "id": "8fc0e4bc",
   "metadata": {},
   "outputs": [
    {
     "name": "stdout",
     "output_type": "stream",
     "text": [
      "initialized data for players\n",
      "players detail : virat 26 cricket\n",
      "getdata for players\n",
      "players detail : richard 29 cricket\n",
      "initialized data for players\n",
      "players detail : Dhoni 68 cricket\n",
      "getdata for players\n",
      "players detail : vivian 52 cricket\n"
     ]
    }
   ],
   "source": [
    "class Player:\n",
    "    def __init__(self,name,age,sport):\n",
    "        print(\"initialized data for players\")\n",
    "        self.name=name\n",
    "        self.age=age\n",
    "        self.sport=sport\n",
    "        \n",
    "    def getdata (self,name,age,sport):\n",
    "        print (\"getdata for players\")\n",
    "        self.name=name\n",
    "        self.age=age\n",
    "        self.sport=sport\n",
    "        \n",
    "    def displaydata(self):\n",
    "        print(\"players detail :\",self.name,self.age,self.sport)\n",
    "        \n",
    "def main():\n",
    "    p1=Player(\"virat\",26,\"cricket\")\n",
    "    p1.displaydata()\n",
    "    \n",
    "    p1.getdata(\"richard\",29,\"cricket\")\n",
    "    p1.displaydata()\n",
    "    \n",
    "    p2=Player(\"Dhoni\",68,\"cricket\")\n",
    "    p2.displaydata()\n",
    "    \n",
    "    p2.getdata(\"vivian\",52,\"cricket\")\n",
    "    p2.displaydata()\n",
    "    \n",
    "if __name__ == \"__main__\":\n",
    "    main()\n",
    "    \n",
    "        "
   ]
  },
  {
   "cell_type": "code",
   "execution_count": 16,
   "id": "6f8b7517",
   "metadata": {},
   "outputs": [],
   "source": [
    "# a simple class For car\n",
    "#constructor for initialize\n",
    "class car:\n",
    "    def __init__(self,company,carcolor):\n",
    "        self.company=company\n",
    "        self.carcolor=carcolor\n",
    "    \n",
    "    def display(self):\n",
    "        print(\"this is a\",self.company,self.carcolor)\n",
    "        "
   ]
  },
  {
   "cell_type": "code",
   "execution_count": 17,
   "id": "c131e436",
   "metadata": {},
   "outputs": [
    {
     "name": "stdout",
     "output_type": "stream",
     "text": [
      "this is a farari red\n"
     ]
    }
   ],
   "source": [
    "#we can use instance variable for initialized the constructor initialize\n",
    "c1=car(\"farari\",\"red\")\n",
    "c1.display()"
   ]
  },
  {
   "cell_type": "code",
   "execution_count": 19,
   "id": "f60cfb18",
   "metadata": {},
   "outputs": [],
   "source": [
    "# we can use main function also for show the oitput\n",
    "def main():\n",
    "    c2=car(\"lamborgini\",\"white\")\n",
    "    c2.display()"
   ]
  },
  {
   "cell_type": "code",
   "execution_count": 21,
   "id": "64e896af",
   "metadata": {},
   "outputs": [
    {
     "name": "stdout",
     "output_type": "stream",
     "text": [
      "this is a lamborgini white\n"
     ]
    }
   ],
   "source": [
    "if __name__==\"__main__\":\n",
    "    main()"
   ]
  },
  {
   "cell_type": "markdown",
   "id": "d1d5e3c9",
   "metadata": {},
   "source": [
    "# in another way creat class for car"
   ]
  },
  {
   "cell_type": "code",
   "execution_count": 24,
   "id": "437aefa2",
   "metadata": {},
   "outputs": [
    {
     "name": "stdout",
     "output_type": "stream",
     "text": [
      "this is a wegonar black\n",
      "this is a thar red\n",
      "this is a santro yellow\n",
      "this is a marcities brown\n"
     ]
    }
   ],
   "source": [
    "class car:\n",
    "    def __init__(self,company,carcolor):\n",
    "        self.company=company\n",
    "        self.carcolor=carcolor\n",
    "        \n",
    "    def getdata(self,company,carcolor):\n",
    "        self.company=company\n",
    "        self.carcolor=carcolor\n",
    "        \n",
    "        \n",
    "    def display(self):\n",
    "        print(\"this is a\",self.company,self.carcolor)\n",
    "        \n",
    "def main():\n",
    "    cr=car(\"wegonar\",\"black\")\n",
    "    cr.display()\n",
    "    \n",
    "    cr.getdata(\"thar\",\"red\")\n",
    "    cr.display()\n",
    "    \n",
    "    cr1=car(\"santro\",\"yellow\")\n",
    "    cr1.display()\n",
    "    \n",
    "    cr1.getdata(\"marcities\",\"brown\")\n",
    "    cr1.display()\n",
    "    \n",
    "if __name__==\"__main__\":\n",
    "    main()\n",
    "        "
   ]
  },
  {
   "cell_type": "code",
   "execution_count": null,
   "id": "278f1f03",
   "metadata": {},
   "outputs": [],
   "source": []
  },
  {
   "cell_type": "code",
   "execution_count": 25,
   "id": "6aa3300a",
   "metadata": {},
   "outputs": [
    {
     "name": "stdout",
     "output_type": "stream",
     "text": [
      "this is a wegonar black\n",
      "this is a thar red\n",
      "this is a santro yellow\n",
      "this is a marcities brown\n"
     ]
    }
   ],
   "source": [
    "#main function is the entry point its ue earlier when at that time we dont have jupiternotebooke \n",
    "we had use another python compiler. but now in jupiternotebook we can run code directrly without main function. \n",
    "class car:\n",
    "    def __init__(self,company,carcolor):\n",
    "        self.company=company\n",
    "        self.carcolor=carcolor\n",
    "        \n",
    "    def getdata(self,company,carcolor):\n",
    "        self.company=company\n",
    "        self.carcolor=carcolor\n",
    "        \n",
    "        \n",
    "    def display(self):\n",
    "        print(\"this is a\",self.company,self.carcolor)\n",
    "        \n",
    "    cr=car(\"wegonar\",\"black\")\n",
    "    cr.display()\n",
    "    \n",
    "    cr.getdata(\"thar\",\"red\")\n",
    "    cr.display()\n",
    "    \n",
    "    cr1=car(\"santro\",\"yellow\")\n",
    "    cr1.display()\n",
    "    \n",
    "    cr1.getdata(\"marcities\",\"brown\")\n",
    "    cr1.display()\n",
    "        "
   ]
  },
  {
   "cell_type": "code",
   "execution_count": null,
   "id": "28ec201e",
   "metadata": {},
   "outputs": [],
   "source": []
  },
  {
   "cell_type": "code",
   "execution_count": null,
   "id": "3f3effa2",
   "metadata": {},
   "outputs": [],
   "source": []
  },
  {
   "cell_type": "code",
   "execution_count": null,
   "id": "6b2d3142",
   "metadata": {},
   "outputs": [],
   "source": []
  },
  {
   "cell_type": "code",
   "execution_count": null,
   "id": "af9c0307",
   "metadata": {},
   "outputs": [],
   "source": []
  },
  {
   "cell_type": "code",
   "execution_count": null,
   "id": "926b2428",
   "metadata": {},
   "outputs": [],
   "source": []
  },
  {
   "cell_type": "code",
   "execution_count": null,
   "id": "dcaf9a61",
   "metadata": {},
   "outputs": [],
   "source": []
  },
  {
   "cell_type": "code",
   "execution_count": null,
   "id": "897f32dd",
   "metadata": {},
   "outputs": [],
   "source": []
  }
 ],
 "metadata": {
  "kernelspec": {
   "display_name": "Python 3 (ipykernel)",
   "language": "python",
   "name": "python3"
  },
  "language_info": {
   "codemirror_mode": {
    "name": "ipython",
    "version": 3
   },
   "file_extension": ".py",
   "mimetype": "text/x-python",
   "name": "python",
   "nbconvert_exporter": "python",
   "pygments_lexer": "ipython3",
   "version": "3.11.5"
  }
 },
 "nbformat": 4,
 "nbformat_minor": 5
}
