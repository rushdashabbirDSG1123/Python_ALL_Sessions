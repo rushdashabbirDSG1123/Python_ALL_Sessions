{
 "cells": [
  {
   "cell_type": "markdown",
   "id": "8dc4470c",
   "metadata": {},
   "source": [
    "# file input output operation"
   ]
  },
  {
   "cell_type": "code",
   "execution_count": 1,
   "id": "04fd8f35",
   "metadata": {},
   "outputs": [],
   "source": [
    "d=open('C:\\\\testfolder\\\\march 10 demo.txt','w')"
   ]
  },
  {
   "cell_type": "code",
   "execution_count": 2,
   "id": "c6747c1c",
   "metadata": {},
   "outputs": [],
   "source": [
    "d.write(\"we are enjoying python command\")\n",
    "d.close()"
   ]
  },
  {
   "cell_type": "code",
   "execution_count": 3,
   "id": "74fd3d41",
   "metadata": {},
   "outputs": [
    {
     "name": "stdout",
     "output_type": "stream",
     "text": [
      "we are enjoying python command\n"
     ]
    }
   ],
   "source": [
    "readfile=open('C:\\\\testfolder\\\\march 10 demo.txt','r')\n",
    "print(readfile.read())\n",
    "\n",
    "readfile.close()"
   ]
  },
  {
   "cell_type": "code",
   "execution_count": 4,
   "id": "decc0766",
   "metadata": {},
   "outputs": [],
   "source": [
    "appfile=open('C:\\\\testfolder\\\\march 10 demo.txt','a')\n",
    "appfile.write(\"\\n this month has end of the financial year\")\n",
    "appfile.close()"
   ]
  },
  {
   "cell_type": "code",
   "execution_count": 5,
   "id": "387a4597",
   "metadata": {},
   "outputs": [
    {
     "name": "stdout",
     "output_type": "stream",
     "text": [
      "we are enjoying python command\n",
      " this month has end of the financial year\n"
     ]
    }
   ],
   "source": [
    "readfile=open('C:\\\\testfolder\\\\march 10 demo.txt','r')\n",
    "print(readfile.read())\n",
    "\n",
    "readfile.close()"
   ]
  },
  {
   "cell_type": "code",
   "execution_count": 6,
   "id": "491db43a",
   "metadata": {},
   "outputs": [
    {
     "name": "stdout",
     "output_type": "stream",
     "text": [
      "the file opened succesfully\n",
      "we are enjoying python command\n",
      " this month has end of the financial year\n"
     ]
    }
   ],
   "source": [
    "#this will throw an exception if the file doesn't exist but it open successfully because this folder present in the folder.\n",
    "try:\n",
    "    d=open('C:\\\\testfolder\\\\march 10 demo.txt','r')\n",
    "except IOError:\n",
    "    print(\"file not found\")\n",
    "else:\n",
    "    print(\"the file opened succesfully\")\n",
    "    print(d.read())\n",
    "    d.close()"
   ]
  },
  {
   "cell_type": "code",
   "execution_count": 7,
   "id": "89813a1f",
   "metadata": {},
   "outputs": [
    {
     "name": "stdout",
     "output_type": "stream",
     "text": [
      "the file opened succesfully\n"
     ]
    },
    {
     "ename": "ValueError",
     "evalue": "I/O operation on closed file.",
     "output_type": "error",
     "traceback": [
      "\u001b[1;31m---------------------------------------------------------------------------\u001b[0m",
      "\u001b[1;31mValueError\u001b[0m                                Traceback (most recent call last)",
      "Cell \u001b[1;32mIn[7], line 8\u001b[0m\n\u001b[0;32m      6\u001b[0m \u001b[38;5;28;01melse\u001b[39;00m:\n\u001b[0;32m      7\u001b[0m     \u001b[38;5;28mprint\u001b[39m(\u001b[38;5;124m\"\u001b[39m\u001b[38;5;124mthe file opened succesfully\u001b[39m\u001b[38;5;124m\"\u001b[39m)\n\u001b[1;32m----> 8\u001b[0m     \u001b[38;5;28mprint\u001b[39m(d\u001b[38;5;241m.\u001b[39mread())\n\u001b[0;32m      9\u001b[0m     d\u001b[38;5;241m.\u001b[39mclose()\n",
      "\u001b[1;31mValueError\u001b[0m: I/O operation on closed file."
     ]
    }
   ],
   "source": [
    "#this will throw an exception if the file doesn't exist.\n",
    "try:\n",
    "    open('demofile.txt','r')\n",
    "except IOError:\n",
    "    print(\"file not found\")\n",
    "else:\n",
    "    print(\"the file opened succesfully\")\n",
    "    print(d.read())\n",
    "    d.close()"
   ]
  },
  {
   "cell_type": "code",
   "execution_count": null,
   "id": "c7b3c1d1",
   "metadata": {},
   "outputs": [],
   "source": [
    "a=open('C:\\\\demofolder\\\\demofile.txt','w')"
   ]
  },
  {
   "cell_type": "code",
   "execution_count": null,
   "id": "737f4b0b",
   "metadata": {},
   "outputs": [],
   "source": [
    "a.write(\"this is my demo file\")\n",
    "a.close()"
   ]
  },
  {
   "cell_type": "code",
   "execution_count": null,
   "id": "b7e4f357",
   "metadata": {},
   "outputs": [],
   "source": [
    "readfile1=open('C:\\\\demofolder\\\\demofile.txt','r')\n",
    "print(readfile1.read())\n",
    "\n",
    "readfile1.close()"
   ]
  },
  {
   "cell_type": "code",
   "execution_count": null,
   "id": "4dac4d03",
   "metadata": {},
   "outputs": [],
   "source": [
    "append=open('C:\\\\demofolder\\\\demofile.txt','a')\n",
    "append.write('\\n now i want check my file')\n",
    "append.close()\n"
   ]
  },
  {
   "cell_type": "code",
   "execution_count": null,
   "id": "388ecc7f",
   "metadata": {},
   "outputs": [],
   "source": [
    "append=open('C:\\\\demofolder\\\\demofile.txt','r')\n",
    "print(append.read())\n",
    "append.close()"
   ]
  },
  {
   "cell_type": "code",
   "execution_count": null,
   "id": "3db8d002",
   "metadata": {},
   "outputs": [],
   "source": [
    "try:\n",
    "    appendfile=open('demofile.txt','a')\n",
    "except IOError:\n",
    "     print(\"the file not found\")\n",
    "else:\n",
    "    print(\"the file oppend sucsessfully\")\n",
    "    appendfile.write(\"\\n this is the next line\")"
   ]
  },
  {
   "cell_type": "code",
   "execution_count": null,
   "id": "bb7041f4",
   "metadata": {},
   "outputs": [],
   "source": [
    "append=open('C:\\\\demofolder\\\\demofile.txt','r')\n",
    "print(append.read())\n",
    "append.close()"
   ]
  },
  {
   "cell_type": "markdown",
   "id": "6e0d7b1f",
   "metadata": {},
   "source": [
    "# inheritance\n",
    "#inheritance make the code reuseable this is the basic concept of inheritance there are 4 type of inheritance\n",
    "1.single inheritance\n",
    "2.multi-level inheritance\n",
    "3.multiple inheritance\n",
    "4.hirerchical inheritance\n"
   ]
  },
  {
   "cell_type": "markdown",
   "id": "71d165c8",
   "metadata": {},
   "source": [
    "# 1. single inheritance"
   ]
  },
  {
   "cell_type": "code",
   "execution_count": null,
   "id": "41bfe652",
   "metadata": {},
   "outputs": [],
   "source": [
    "# base class\n",
    "class bird:\n",
    "    def speak(self):\n",
    "        print(\"bird speaking\")"
   ]
  },
  {
   "cell_type": "code",
   "execution_count": null,
   "id": "0095e7b7",
   "metadata": {},
   "outputs": [],
   "source": [
    "#child class sparrow inherit the base class bird\n",
    "#sparow is derived class\n",
    "class sparrow(bird):\n",
    "    def chirp (self):\n",
    "        print(\"sparrow chirping\")\n",
    "        \n",
    "# instance object creation\n",
    "sp=sparrow()\n",
    "sp.chirp()\n",
    "sp.speak()"
   ]
  },
  {
   "cell_type": "markdown",
   "id": "421a984e",
   "metadata": {},
   "source": [
    "# 2. multi-level inheritance\n"
   ]
  },
  {
   "cell_type": "code",
   "execution_count": null,
   "id": "90c1848a",
   "metadata": {},
   "outputs": [],
   "source": [
    "class grandfather:\n",
    "    def speak(self):\n",
    "        print(\"grand father speaking\")\n",
    "        \n",
    "class father(grandfather):\n",
    "    def sleep(self):\n",
    "        print(\"father sleeping\")\n",
    "        \n",
    "class child(father):\n",
    "    def eat(self):\n",
    "        print(\"eating bread\")\n",
    "\n",
    "ch=child()\n",
    "ch.speak()\n",
    "ch.sleep()\n",
    "ch.eat()"
   ]
  },
  {
   "cell_type": "markdown",
   "id": "2490972d",
   "metadata": {},
   "source": [
    "# 3.python multiple inheritance"
   ]
  },
  {
   "cell_type": "code",
   "execution_count": null,
   "id": "7cf9930e",
   "metadata": {},
   "outputs": [],
   "source": [
    "class calculation1:\n",
    "    def summation(self,a,b):\n",
    "        return a+b;\n",
    "class calculation2:\n",
    "    def multiplication(self,a,b):\n",
    "        return a*b;\n",
    "class derived(calculation1,calculation2):\n",
    "    def devide(self,a,b):\n",
    "        return a/b;\n",
    "d=derived()\n",
    "print(d.summation(10,20))\n",
    "print(d.multiplication(10,20))\n",
    "print(d.devide(20,10))"
   ]
  },
  {
   "cell_type": "markdown",
   "id": "cb5eb77c",
   "metadata": {},
   "source": [
    "# method overriding\n",
    "#in both class have same method name"
   ]
  },
  {
   "cell_type": "code",
   "execution_count": null,
   "id": "6937e200",
   "metadata": {},
   "outputs": [],
   "source": [
    "class animal:\n",
    "    def speak(self):\n",
    "        print('speaking')\n",
    "        \n",
    "class dog(animal):\n",
    "    def speak (self):\n",
    "        print('barking')\n",
    "d=dog()\n",
    "d.speak()\n"
   ]
  },
  {
   "cell_type": "code",
   "execution_count": null,
   "id": "77eecae4",
   "metadata": {},
   "outputs": [],
   "source": [
    "class bank:\n",
    "    def getroi(self):\n",
    "        return 11;\n",
    "class SBI(bank):\n",
    "    def getroi(self):\n",
    "        return 7;\n",
    "class ICICI (SBI):\n",
    "    def getroi(self):\n",
    "        return 8;\n",
    "b1=bank()\n",
    "b2=SBI()\n",
    "b3=ICICI()\n",
    "\n",
    "print(\"bank rate of intrest:\",b1.getroi());\n",
    "print(\"SBI rate of intrest:\",b2.getroi());\n",
    "print(\"ICICI rate of interest:\",b3.getroi());"
   ]
  },
  {
   "cell_type": "code",
   "execution_count": null,
   "id": "b5a85d7b",
   "metadata": {},
   "outputs": [],
   "source": [
    "# if we are not use instance different in overriding then we can not get answer properly \n",
    "class bank:\n",
    "    def getroi(self):\n",
    "        return 11;\n",
    "class SBI(bank):\n",
    "    def getroi(self):\n",
    "        return 7;\n",
    "class ICICI (SBI):\n",
    "    def getroi(self):\n",
    "        return 8;\n",
    "\n",
    "b3=ICICI()\n",
    "b3.getroi()\n",
    "print(\"bank rate of intrest:\",b3.getroi());\n",
    "print(\"SBI rate of intrest:\",b3.getroi());\n",
    "print(\"ICICI rate of interest:\",b3.getroi());"
   ]
  },
  {
   "cell_type": "markdown",
   "id": "e74552a4",
   "metadata": {},
   "source": [
    "# Data abstraction"
   ]
  },
  {
   "cell_type": "code",
   "execution_count": null,
   "id": "d6d7b4cd",
   "metadata": {},
   "outputs": [],
   "source": [
    "class employee:\n",
    "    __count = 0;\n",
    "    \n",
    "    def __init__(self):\n",
    "        employee.__count=employee.__count+1\n",
    "        \n",
    "    def display (self):\n",
    "        print(\"the number of employees\",employee.__count)\n",
    "        \n",
    "emp=employee()\n",
    "\n",
    "try:\n",
    "    print(emp.__count)\n",
    "except (AttributeError):\n",
    "    print(\"AttributeError:employee object has no attribute__count\")\n",
    "finally:\n",
    "    emp.display()"
   ]
  },
  {
   "cell_type": "code",
   "execution_count": null,
   "id": "90a3bf71",
   "metadata": {},
   "outputs": [],
   "source": [
    "class employee:\n",
    "    __count = 0;\n",
    "    \n",
    "    def __init__(self):\n",
    "        employee.__count=employee.__count+1\n",
    "        \n",
    "    def display (self):\n",
    "        print(\"the number of employees\",employee.__count)\n",
    "        \n",
    "emp=employee()\n",
    "\n",
    "try:\n",
    "    print(emp.__count)\n",
    "except (Exception):\n",
    "    print(\"AttributeError:employee object has no attribute__count\",Exception)\n",
    "finally:\n",
    "    emp.display()"
   ]
  },
  {
   "cell_type": "markdown",
   "id": "f0f4d8e0",
   "metadata": {},
   "source": [
    "# Regular Expression\\\n",
    "#function-----Description.\n",
    "Findall- return alist containing all matches\n",
    "Search- Return a matchobject if there is a match anywhere in the string\n",
    "Split- return alist where the string has been split at each match\n",
    "Sub- replace one or many matches wuth string."
   ]
  },
  {
   "cell_type": "markdown",
   "id": "0c1487d2",
   "metadata": {},
   "source": [
    "# Use findall\n"
   ]
  },
  {
   "cell_type": "code",
   "execution_count": 8,
   "id": "60b6d1ab",
   "metadata": {},
   "outputs": [],
   "source": [
    "import re"
   ]
  },
  {
   "cell_type": "code",
   "execution_count": 9,
   "id": "4d5e6360",
   "metadata": {},
   "outputs": [
    {
     "name": "stdout",
     "output_type": "stream",
     "text": [
      "['data science', 'data science']\n"
     ]
    }
   ],
   "source": [
    "pattern=\"data science\"\n",
    "text=\"data science is a stream and it is a part of AI you can solve many complex problem using data science tools & techs\"\n",
    "matches= re.findall(pattern,text)\n",
    "print(matches)"
   ]
  },
  {
   "cell_type": "code",
   "execution_count": 10,
   "id": "602f3ff1",
   "metadata": {},
   "outputs": [],
   "source": [
    "# extracting digit from a string\n",
    "pattern=\"\\d+\" # this mean find digit\n",
    "text=\"there are 123 apples and 456 oranges\"\n",
    "matches= re.findall(pattern,text)\n"
   ]
  },
  {
   "cell_type": "code",
   "execution_count": 11,
   "id": "37c11cff",
   "metadata": {},
   "outputs": [
    {
     "data": {
      "text/plain": [
       "['123', '456']"
      ]
     },
     "execution_count": 11,
     "metadata": {},
     "output_type": "execute_result"
    }
   ],
   "source": [
    "matches"
   ]
  },
  {
   "cell_type": "code",
   "execution_count": 12,
   "id": "c07e26c8",
   "metadata": {},
   "outputs": [
    {
     "name": "stdout",
     "output_type": "stream",
     "text": [
      "['50']\n",
      "['60']\n",
      "['50']\n"
     ]
    }
   ],
   "source": [
    "#extracting digit from alist of string\n",
    "price=['apple cost Rs 50','Rs 60 for each pineapple','Rs 50 per watermelon']\n",
    "for msg in price:\n",
    "    matches= re.findall (\"\\d+\",msg)\n",
    "    print(matches)"
   ]
  },
  {
   "cell_type": "markdown",
   "id": "d2a93592",
   "metadata": {},
   "source": [
    "# search"
   ]
  },
  {
   "cell_type": "code",
   "execution_count": 13,
   "id": "2b0456fb",
   "metadata": {},
   "outputs": [
    {
     "name": "stdout",
     "output_type": "stream",
     "text": [
      "None\n"
     ]
    }
   ],
   "source": [
    "test=\"India china USA\"\n",
    "x= re.search (\"france\",test)\n",
    "print(x)"
   ]
  },
  {
   "cell_type": "code",
   "execution_count": 14,
   "id": "8ded7afd",
   "metadata": {},
   "outputs": [
    {
     "name": "stdout",
     "output_type": "stream",
     "text": [
      "None\n",
      "None\n",
      "<re.Match object; span=(11, 17), match='banana'>\n",
      "<re.Match object; span=(62, 68), match='banana'>\n",
      "None\n"
     ]
    }
   ],
   "source": [
    "msges=['Banana are not only very delicious pieces of fruit',\n",
    "       'the are also super heathy','Eating two banana a day can do wonders for your heath',\n",
    "      'For example. but did you ever think of stickly aneedle into a banana? probably not',\n",
    "      'but you should because it super handy!']\n",
    "for msg in msges:\n",
    "    search=re.search(\"banana\",msg)\n",
    "    print(search)"
   ]
  },
  {
   "cell_type": "code",
   "execution_count": 15,
   "id": "a8e91267",
   "metadata": {},
   "outputs": [
    {
     "name": "stdout",
     "output_type": "stream",
     "text": [
      "None\n"
     ]
    }
   ],
   "source": [
    "msg1 = \" This product is really Great\"\n",
    "\n",
    "search = re.search(\"^This.*Great$\", msg1)\n",
    "print (search)"
   ]
  },
  {
   "cell_type": "markdown",
   "id": "cc6d68a4",
   "metadata": {},
   "source": [
    "# split method"
   ]
  },
  {
   "cell_type": "code",
   "execution_count": 16,
   "id": "4fb7a9ec",
   "metadata": {},
   "outputs": [
    {
     "name": "stdout",
     "output_type": "stream",
     "text": [
      "['', 'India', 'is', 'a', 'beutiful', 'country']\n"
     ]
    }
   ],
   "source": [
    "# split at each which space character (\\s is split by space) its conver into list\n",
    "text=\" India is a beutiful country\"\n",
    "x=re.split(\"\\s\",text)\n",
    "print(x)"
   ]
  },
  {
   "cell_type": "markdown",
   "id": "0cee3ddc",
   "metadata": {},
   "source": [
    "# sub method"
   ]
  },
  {
   "cell_type": "code",
   "execution_count": 17,
   "id": "915616d4",
   "metadata": {},
   "outputs": [
    {
     "name": "stdout",
     "output_type": "stream",
     "text": [
      "this====function====replace====wuth====assigned====char\n"
     ]
    }
   ],
   "source": [
    "sub_=\"this function replace wuth assigned char\"\n",
    "x=re.sub(\"\\s\",\"====\",sub_)\n",
    "print(x)"
   ]
  },
  {
   "cell_type": "code",
   "execution_count": 18,
   "id": "4d9bc69d",
   "metadata": {},
   "outputs": [
    {
     "name": "stdout",
     "output_type": "stream",
     "text": [
      " this item cost $ 2500\n"
     ]
    }
   ],
   "source": [
    "text=\" this item cost Rs 2500\"\n",
    "replace_text=re.sub(\"Rs\",\"$\",text)\n",
    "print(replace_text)"
   ]
  },
  {
   "cell_type": "code",
   "execution_count": null,
   "id": "2f9cd1a1",
   "metadata": {},
   "outputs": [],
   "source": []
  }
 ],
 "metadata": {
  "kernelspec": {
   "display_name": "Python 3 (ipykernel)",
   "language": "python",
   "name": "python3"
  },
  "language_info": {
   "codemirror_mode": {
    "name": "ipython",
    "version": 3
   },
   "file_extension": ".py",
   "mimetype": "text/x-python",
   "name": "python",
   "nbconvert_exporter": "python",
   "pygments_lexer": "ipython3",
   "version": "3.11.5"
  }
 },
 "nbformat": 4,
 "nbformat_minor": 5
}
