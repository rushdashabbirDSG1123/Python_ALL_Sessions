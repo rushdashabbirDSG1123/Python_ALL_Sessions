{
 "cells": [
  {
   "cell_type": "markdown",
   "id": "3551e36a",
   "metadata": {},
   "source": [
    "# list"
   ]
  },
  {
   "cell_type": "code",
   "execution_count": 1,
   "id": "2fc19f8b",
   "metadata": {},
   "outputs": [],
   "source": [
    "fruitlist=['banana','kiwi','barries','grapes',]"
   ]
  },
  {
   "cell_type": "code",
   "execution_count": 2,
   "id": "30730e8c",
   "metadata": {},
   "outputs": [
    {
     "data": {
      "text/plain": [
       "['banana', 'kiwi', 'barries', 'grapes']"
      ]
     },
     "execution_count": 2,
     "metadata": {},
     "output_type": "execute_result"
    }
   ],
   "source": [
    "fruitlist"
   ]
  },
  {
   "cell_type": "code",
   "execution_count": 3,
   "id": "470c8d3e",
   "metadata": {},
   "outputs": [
    {
     "data": {
      "text/plain": [
       "4"
      ]
     },
     "execution_count": 3,
     "metadata": {},
     "output_type": "execute_result"
    }
   ],
   "source": [
    "len(fruitlist)"
   ]
  },
  {
   "cell_type": "code",
   "execution_count": 4,
   "id": "95a98808",
   "metadata": {},
   "outputs": [],
   "source": [
    "fruitlist.append('guava')"
   ]
  },
  {
   "cell_type": "code",
   "execution_count": 5,
   "id": "fc6c00e7",
   "metadata": {},
   "outputs": [
    {
     "data": {
      "text/plain": [
       "['banana', 'kiwi', 'barries', 'grapes', 'guava']"
      ]
     },
     "execution_count": 5,
     "metadata": {},
     "output_type": "execute_result"
    }
   ],
   "source": [
    "fruitlist"
   ]
  },
  {
   "cell_type": "code",
   "execution_count": 6,
   "id": "fb4b50b7",
   "metadata": {},
   "outputs": [],
   "source": [
    "fruitlist.append('mango')"
   ]
  },
  {
   "cell_type": "code",
   "execution_count": 7,
   "id": "8478bcc4",
   "metadata": {},
   "outputs": [
    {
     "data": {
      "text/plain": [
       "['banana', 'kiwi', 'barries', 'grapes', 'guava', 'mango']"
      ]
     },
     "execution_count": 7,
     "metadata": {},
     "output_type": "execute_result"
    }
   ],
   "source": [
    "fruitlist"
   ]
  },
  {
   "cell_type": "code",
   "execution_count": 8,
   "id": "3f401e01",
   "metadata": {},
   "outputs": [
    {
     "data": {
      "text/plain": [
       "6"
      ]
     },
     "execution_count": 8,
     "metadata": {},
     "output_type": "execute_result"
    }
   ],
   "source": [
    "len(fruitlist)"
   ]
  },
  {
   "cell_type": "code",
   "execution_count": 9,
   "id": "4fc13d2e",
   "metadata": {},
   "outputs": [],
   "source": [
    "fruitlist.sort() In accending order"
   ]
  },
  {
   "cell_type": "code",
   "execution_count": 10,
   "id": "467d8731",
   "metadata": {},
   "outputs": [
    {
     "data": {
      "text/plain": [
       "['banana', 'barries', 'grapes', 'guava', 'kiwi', 'mango']"
      ]
     },
     "execution_count": 10,
     "metadata": {},
     "output_type": "execute_result"
    }
   ],
   "source": [
    "fruitlist"
   ]
  },
  {
   "cell_type": "code",
   "execution_count": 12,
   "id": "3039272e",
   "metadata": {},
   "outputs": [],
   "source": [
    "fruitlist.reverse() In descending order"
   ]
  },
  {
   "cell_type": "code",
   "execution_count": 13,
   "id": "aa8244d4",
   "metadata": {},
   "outputs": [
    {
     "data": {
      "text/plain": [
       "['mango', 'kiwi', 'guava', 'grapes', 'barries', 'banana']"
      ]
     },
     "execution_count": 13,
     "metadata": {},
     "output_type": "execute_result"
    }
   ],
   "source": [
    "fruitlist"
   ]
  },
  {
   "cell_type": "code",
   "execution_count": 14,
   "id": "f260abbf",
   "metadata": {},
   "outputs": [
    {
     "data": {
      "text/plain": [
       "'guava'"
      ]
     },
     "execution_count": 14,
     "metadata": {},
     "output_type": "execute_result"
    }
   ],
   "source": [
    "fruitlist[2] Indexing"
   ]
  },
  {
   "cell_type": "code",
   "execution_count": 15,
   "id": "94b0e686",
   "metadata": {},
   "outputs": [
    {
     "data": {
      "text/plain": [
       "['guava', 'grapes', 'barries']"
      ]
     },
     "execution_count": 15,
     "metadata": {},
     "output_type": "execute_result"
    }
   ],
   "source": [
    "fruitlist[2:5] slice indexing"
   ]
  },
  {
   "cell_type": "code",
   "execution_count": 16,
   "id": "c6574e25",
   "metadata": {},
   "outputs": [
    {
     "data": {
      "text/plain": [
       "'banana'"
      ]
     },
     "execution_count": 16,
     "metadata": {},
     "output_type": "execute_result"
    }
   ],
   "source": [
    "fruitlist[-1] negative indexing"
   ]
  },
  {
   "cell_type": "code",
   "execution_count": 17,
   "id": "3906e28a",
   "metadata": {},
   "outputs": [
    {
     "data": {
      "text/plain": [
       "['guava', 'grapes']"
      ]
     },
     "execution_count": 17,
     "metadata": {},
     "output_type": "execute_result"
    }
   ],
   "source": [
    "fruitlist[-4:-2]"
   ]
  },
  {
   "cell_type": "code",
   "execution_count": 25,
   "id": "1235470b",
   "metadata": {},
   "outputs": [],
   "source": [
    "fruitlist.insert(3,\"Orange\")"
   ]
  },
  {
   "cell_type": "code",
   "execution_count": 26,
   "id": "776c2ef0",
   "metadata": {},
   "outputs": [
    {
     "data": {
      "text/plain": [
       "['mango',\n",
       " 'kiwi',\n",
       " 'guava',\n",
       " 'Orange',\n",
       " 'pineapple',\n",
       " 'pineapple',\n",
       " 'pineapple',\n",
       " 'grapes',\n",
       " 'barries',\n",
       " 'banana']"
      ]
     },
     "execution_count": 26,
     "metadata": {},
     "output_type": "execute_result"
    }
   ],
   "source": [
    "fruitlist"
   ]
  },
  {
   "cell_type": "code",
   "execution_count": 27,
   "id": "0c6cc598",
   "metadata": {},
   "outputs": [
    {
     "data": {
      "text/plain": [
       "10"
      ]
     },
     "execution_count": 27,
     "metadata": {},
     "output_type": "execute_result"
    }
   ],
   "source": [
    "len(fruitlist)"
   ]
  },
  {
   "cell_type": "code",
   "execution_count": 28,
   "id": "06e81b82",
   "metadata": {},
   "outputs": [
    {
     "data": {
      "text/plain": [
       "4"
      ]
     },
     "execution_count": 28,
     "metadata": {},
     "output_type": "execute_result"
    }
   ],
   "source": [
    "fruitlist.index('pineapple')"
   ]
  },
  {
   "cell_type": "code",
   "execution_count": 29,
   "id": "b0ae848f",
   "metadata": {},
   "outputs": [],
   "source": [
    "fruitlist.remove('pineapple')"
   ]
  },
  {
   "cell_type": "code",
   "execution_count": 30,
   "id": "e069ab66",
   "metadata": {},
   "outputs": [
    {
     "data": {
      "text/plain": [
       "['mango',\n",
       " 'kiwi',\n",
       " 'guava',\n",
       " 'Orange',\n",
       " 'pineapple',\n",
       " 'pineapple',\n",
       " 'grapes',\n",
       " 'barries',\n",
       " 'banana']"
      ]
     },
     "execution_count": 30,
     "metadata": {},
     "output_type": "execute_result"
    }
   ],
   "source": [
    "fruitlist"
   ]
  },
  {
   "cell_type": "code",
   "execution_count": 31,
   "id": "472fad8a",
   "metadata": {},
   "outputs": [],
   "source": [
    "fruitlist.remove('pineapple')"
   ]
  },
  {
   "cell_type": "code",
   "execution_count": 32,
   "id": "cba2c8c2",
   "metadata": {},
   "outputs": [
    {
     "data": {
      "text/plain": [
       "['mango',\n",
       " 'kiwi',\n",
       " 'guava',\n",
       " 'Orange',\n",
       " 'pineapple',\n",
       " 'grapes',\n",
       " 'barries',\n",
       " 'banana']"
      ]
     },
     "execution_count": 32,
     "metadata": {},
     "output_type": "execute_result"
    }
   ],
   "source": [
    "fruitlist"
   ]
  },
  {
   "cell_type": "code",
   "execution_count": 33,
   "id": "e40ec9c2",
   "metadata": {},
   "outputs": [
    {
     "data": {
      "text/plain": [
       "8"
      ]
     },
     "execution_count": 33,
     "metadata": {},
     "output_type": "execute_result"
    }
   ],
   "source": [
    "len(fruitlist)"
   ]
  },
  {
   "cell_type": "code",
   "execution_count": 34,
   "id": "4001aee4",
   "metadata": {},
   "outputs": [],
   "source": [
    "fruitlist.insert(1,'strawberry')"
   ]
  },
  {
   "cell_type": "code",
   "execution_count": 35,
   "id": "be131107",
   "metadata": {},
   "outputs": [
    {
     "data": {
      "text/plain": [
       "['mango',\n",
       " 'strawberry',\n",
       " 'kiwi',\n",
       " 'guava',\n",
       " 'Orange',\n",
       " 'pineapple',\n",
       " 'grapes',\n",
       " 'barries',\n",
       " 'banana']"
      ]
     },
     "execution_count": 35,
     "metadata": {},
     "output_type": "execute_result"
    }
   ],
   "source": [
    "fruitlist"
   ]
  },
  {
   "cell_type": "code",
   "execution_count": 36,
   "id": "586d20e8",
   "metadata": {},
   "outputs": [
    {
     "data": {
      "text/plain": [
       "'banana'"
      ]
     },
     "execution_count": 36,
     "metadata": {},
     "output_type": "execute_result"
    }
   ],
   "source": [
    "fruitlist.pop()  pop()its remove the last data of the list"
   ]
  },
  {
   "cell_type": "code",
   "execution_count": 37,
   "id": "cc062b99",
   "metadata": {},
   "outputs": [
    {
     "data": {
      "text/plain": [
       "['mango',\n",
       " 'strawberry',\n",
       " 'kiwi',\n",
       " 'guava',\n",
       " 'Orange',\n",
       " 'pineapple',\n",
       " 'grapes',\n",
       " 'barries']"
      ]
     },
     "execution_count": 37,
     "metadata": {},
     "output_type": "execute_result"
    }
   ],
   "source": [
    "fruitlist"
   ]
  },
  {
   "cell_type": "code",
   "execution_count": 38,
   "id": "42865cc7",
   "metadata": {},
   "outputs": [
    {
     "data": {
      "text/plain": [
       "'Orange'"
      ]
     },
     "execution_count": 38,
     "metadata": {},
     "output_type": "execute_result"
    }
   ],
   "source": [
    " fruitlist.pop(4)  Pop(4) its remove perticular data in the list which we are mention the index no. of element that remove"
   ]
  },
  {
   "cell_type": "code",
   "execution_count": 39,
   "id": "909e5fab",
   "metadata": {},
   "outputs": [
    {
     "data": {
      "text/plain": [
       "['mango', 'strawberry', 'kiwi', 'guava', 'pineapple', 'grapes', 'barries']"
      ]
     },
     "execution_count": 39,
     "metadata": {},
     "output_type": "execute_result"
    }
   ],
   "source": [
    "fruitlist"
   ]
  },
  {
   "cell_type": "code",
   "execution_count": 40,
   "id": "602ba0e5",
   "metadata": {},
   "outputs": [],
   "source": [
    "carlist=[]"
   ]
  },
  {
   "cell_type": "code",
   "execution_count": 41,
   "id": "374e2707",
   "metadata": {},
   "outputs": [
    {
     "data": {
      "text/plain": [
       "[]"
      ]
     },
     "execution_count": 41,
     "metadata": {},
     "output_type": "execute_result"
    }
   ],
   "source": [
    "carlist"
   ]
  },
  {
   "cell_type": "code",
   "execution_count": 42,
   "id": "eb506e40",
   "metadata": {},
   "outputs": [],
   "source": [
    "carlist.append('thar')"
   ]
  },
  {
   "cell_type": "code",
   "execution_count": 43,
   "id": "0de0fafb",
   "metadata": {},
   "outputs": [
    {
     "data": {
      "text/plain": [
       "['thar']"
      ]
     },
     "execution_count": 43,
     "metadata": {},
     "output_type": "execute_result"
    }
   ],
   "source": [
    "carlist"
   ]
  },
  {
   "cell_type": "code",
   "execution_count": 44,
   "id": "6d7cea3e",
   "metadata": {},
   "outputs": [],
   "source": [
    "carlist.append(['bolero','santro','tigor'])one add inside the list but use [] we can creat another list inside the list"
   ]
  },
  {
   "cell_type": "code",
   "execution_count": 45,
   "id": "d2277000",
   "metadata": {},
   "outputs": [
    {
     "data": {
      "text/plain": [
       "['thar', ['bolero', 'santro', 'tigor']]"
      ]
     },
     "execution_count": 45,
     "metadata": {},
     "output_type": "execute_result"
    }
   ],
   "source": [
    "carlist"
   ]
  },
  {
   "cell_type": "code",
   "execution_count": 46,
   "id": "4120fee4",
   "metadata": {},
   "outputs": [],
   "source": [
    "carlist2=['seltos','bentley','tiago','harrier','tesla']"
   ]
  },
  {
   "cell_type": "code",
   "execution_count": 47,
   "id": "29c327fa",
   "metadata": {},
   "outputs": [
    {
     "data": {
      "text/plain": [
       "['seltos', 'bentley', 'tiago', 'harrier', 'tesla']"
      ]
     },
     "execution_count": 47,
     "metadata": {},
     "output_type": "execute_result"
    }
   ],
   "source": [
    "carlist2"
   ]
  },
  {
   "cell_type": "code",
   "execution_count": 48,
   "id": "e7a2ee3f",
   "metadata": {},
   "outputs": [],
   "source": [
    "carlist2.extend(['bolero', 'santro', 'tigor']) its add multiple data in the list"
   ]
  },
  {
   "cell_type": "code",
   "execution_count": 49,
   "id": "13c950a4",
   "metadata": {},
   "outputs": [
    {
     "data": {
      "text/plain": [
       "['seltos', 'bentley', 'tiago', 'harrier', 'tesla', 'bolero', 'santro', 'tigor']"
      ]
     },
     "execution_count": 49,
     "metadata": {},
     "output_type": "execute_result"
    }
   ],
   "source": [
    "carlist2"
   ]
  },
  {
   "cell_type": "code",
   "execution_count": 50,
   "id": "c356d15c",
   "metadata": {},
   "outputs": [],
   "source": [
    "carlist2.sort()"
   ]
  },
  {
   "cell_type": "code",
   "execution_count": 51,
   "id": "54bbe88a",
   "metadata": {},
   "outputs": [
    {
     "data": {
      "text/plain": [
       "['bentley', 'bolero', 'harrier', 'santro', 'seltos', 'tesla', 'tiago', 'tigor']"
      ]
     },
     "execution_count": 51,
     "metadata": {},
     "output_type": "execute_result"
    }
   ],
   "source": [
    "carlist2"
   ]
  },
  {
   "cell_type": "code",
   "execution_count": 52,
   "id": "6e24a347",
   "metadata": {},
   "outputs": [],
   "source": [
    "carlist2.reverse()"
   ]
  },
  {
   "cell_type": "code",
   "execution_count": 53,
   "id": "ece3276f",
   "metadata": {},
   "outputs": [
    {
     "data": {
      "text/plain": [
       "['tigor', 'tiago', 'tesla', 'seltos', 'santro', 'harrier', 'bolero', 'bentley']"
      ]
     },
     "execution_count": 53,
     "metadata": {},
     "output_type": "execute_result"
    }
   ],
   "source": [
    "carlist2"
   ]
  },
  {
   "cell_type": "code",
   "execution_count": 55,
   "id": "ff4f8a93",
   "metadata": {},
   "outputs": [
    {
     "data": {
      "text/plain": [
       "3"
      ]
     },
     "execution_count": 55,
     "metadata": {},
     "output_type": "execute_result"
    }
   ],
   "source": [
    "carlist2.index('seltos')"
   ]
  },
  {
   "cell_type": "code",
   "execution_count": 56,
   "id": "756fb4d6",
   "metadata": {},
   "outputs": [],
   "source": [
    "carlist2[3]='jaguar'"
   ]
  },
  {
   "cell_type": "code",
   "execution_count": 57,
   "id": "fddacccf",
   "metadata": {},
   "outputs": [
    {
     "data": {
      "text/plain": [
       "['tigor', 'tiago', 'tesla', 'jaguar', 'santro', 'harrier', 'bolero', 'bentley']"
      ]
     },
     "execution_count": 57,
     "metadata": {},
     "output_type": "execute_result"
    }
   ],
   "source": [
    "carlist2"
   ]
  },
  {
   "cell_type": "code",
   "execution_count": 59,
   "id": "e27e6931",
   "metadata": {},
   "outputs": [
    {
     "data": {
      "text/plain": [
       "7"
      ]
     },
     "execution_count": 59,
     "metadata": {},
     "output_type": "execute_result"
    }
   ],
   "source": [
    "carlist2.index('bentley')"
   ]
  },
  {
   "cell_type": "code",
   "execution_count": 60,
   "id": "346ca7c6",
   "metadata": {},
   "outputs": [],
   "source": [
    "carlist2[7]='centro'"
   ]
  },
  {
   "cell_type": "code",
   "execution_count": 61,
   "id": "89a80229",
   "metadata": {},
   "outputs": [
    {
     "data": {
      "text/plain": [
       "['tigor', 'tiago', 'tesla', 'jaguar', 'santro', 'harrier', 'bolero', 'centro']"
      ]
     },
     "execution_count": 61,
     "metadata": {},
     "output_type": "execute_result"
    }
   ],
   "source": [
    "carlist2"
   ]
  },
  {
   "cell_type": "code",
   "execution_count": 62,
   "id": "f39057ae",
   "metadata": {},
   "outputs": [],
   "source": [
    "carlist2.append('tigor')"
   ]
  },
  {
   "cell_type": "code",
   "execution_count": 63,
   "id": "8e27a78a",
   "metadata": {},
   "outputs": [
    {
     "data": {
      "text/plain": [
       "['tigor',\n",
       " 'tiago',\n",
       " 'tesla',\n",
       " 'jaguar',\n",
       " 'santro',\n",
       " 'harrier',\n",
       " 'bolero',\n",
       " 'centro',\n",
       " 'tigor']"
      ]
     },
     "execution_count": 63,
     "metadata": {},
     "output_type": "execute_result"
    }
   ],
   "source": [
    "carlist2"
   ]
  },
  {
   "cell_type": "code",
   "execution_count": 69,
   "id": "32d5d621",
   "metadata": {},
   "outputs": [
    {
     "data": {
      "text/plain": [
       "'tigor'"
      ]
     },
     "execution_count": 69,
     "metadata": {},
     "output_type": "execute_result"
    }
   ],
   "source": [
    "carlist2[0]"
   ]
  },
  {
   "cell_type": "markdown",
   "id": "8d079e6f",
   "metadata": {},
   "source": [
    "# tuple"
   ]
  },
  {
   "cell_type": "code",
   "execution_count": 77,
   "id": "6d613726",
   "metadata": {},
   "outputs": [],
   "source": [
    "t1=(12,45,36,254,358,12,45,)"
   ]
  },
  {
   "cell_type": "code",
   "execution_count": 78,
   "id": "0b09bf0f",
   "metadata": {},
   "outputs": [
    {
     "data": {
      "text/plain": [
       "(12, 45, 36, 254, 358, 12, 45)"
      ]
     },
     "execution_count": 78,
     "metadata": {},
     "output_type": "execute_result"
    }
   ],
   "source": [
    "t1"
   ]
  },
  {
   "cell_type": "code",
   "execution_count": 79,
   "id": "2eee6a10",
   "metadata": {},
   "outputs": [],
   "source": [
    "t2=(1,5,66,47,58,88,33,44,256,25,)"
   ]
  },
  {
   "cell_type": "code",
   "execution_count": 80,
   "id": "4cb9b59a",
   "metadata": {},
   "outputs": [
    {
     "data": {
      "text/plain": [
       "(1, 5, 66, 47, 58, 88, 33, 44, 256, 25)"
      ]
     },
     "execution_count": 80,
     "metadata": {},
     "output_type": "execute_result"
    }
   ],
   "source": [
    "t2"
   ]
  },
  {
   "cell_type": "code",
   "execution_count": 81,
   "id": "c0c2662b",
   "metadata": {},
   "outputs": [
    {
     "data": {
      "text/plain": [
       "66"
      ]
     },
     "execution_count": 81,
     "metadata": {},
     "output_type": "execute_result"
    }
   ],
   "source": [
    "t2[2]"
   ]
  },
  {
   "cell_type": "code",
   "execution_count": 84,
   "id": "33dbbcc1",
   "metadata": {},
   "outputs": [
    {
     "ename": "TypeError",
     "evalue": "'tuple' object is not callable",
     "output_type": "error",
     "traceback": [
      "\u001b[1;31m---------------------------------------------------------------------------\u001b[0m",
      "\u001b[1;31mTypeError\u001b[0m                                 Traceback (most recent call last)",
      "Cell \u001b[1;32mIn[84], line 1\u001b[0m\n\u001b[1;32m----> 1\u001b[0m t2(\u001b[38;5;241m2\u001b[39m)\u001b[38;5;241m==\u001b[39m\u001b[38;5;241m31\u001b[39m\n",
      "\u001b[1;31mTypeError\u001b[0m: 'tuple' object is not callable"
     ]
    }
   ],
   "source": [
    "t2(2)==31 its immutable thats why we cant change value after creation"
   ]
  },
  {
   "cell_type": "code",
   "execution_count": 76,
   "id": "14af7c73",
   "metadata": {},
   "outputs": [
    {
     "data": {
      "text/plain": [
       "[1, 5, 31, 47, 58, 88, 33, 44, 256, 25]"
      ]
     },
     "execution_count": 76,
     "metadata": {},
     "output_type": "execute_result"
    }
   ],
   "source": [
    "t2"
   ]
  },
  {
   "cell_type": "markdown",
   "id": "24b27cc5",
   "metadata": {},
   "source": [
    "# dictionary - key value pair"
   ]
  },
  {
   "cell_type": "code",
   "execution_count": 86,
   "id": "28c5d2a0",
   "metadata": {},
   "outputs": [],
   "source": [
    "d1={'Emp_no':7010,'Name':'smith','Age':34}"
   ]
  },
  {
   "cell_type": "code",
   "execution_count": 87,
   "id": "2bd0cdbb",
   "metadata": {},
   "outputs": [
    {
     "data": {
      "text/plain": [
       "{'Emp_no': 7010, 'Name': 'smith', 'Age': 34}"
      ]
     },
     "execution_count": 87,
     "metadata": {},
     "output_type": "execute_result"
    }
   ],
   "source": [
    "d1"
   ]
  },
  {
   "cell_type": "markdown",
   "id": "c2176173",
   "metadata": {},
   "source": [
    "we can see keys only or values only"
   ]
  },
  {
   "cell_type": "code",
   "execution_count": 88,
   "id": "983588ad",
   "metadata": {},
   "outputs": [
    {
     "data": {
      "text/plain": [
       "dict_keys(['Emp_no', 'Name', 'Age'])"
      ]
     },
     "execution_count": 88,
     "metadata": {},
     "output_type": "execute_result"
    }
   ],
   "source": [
    "d1.keys()"
   ]
  },
  {
   "cell_type": "code",
   "execution_count": 89,
   "id": "f6a46427",
   "metadata": {},
   "outputs": [
    {
     "data": {
      "text/plain": [
       "dict_values([7010, 'smith', 34])"
      ]
     },
     "execution_count": 89,
     "metadata": {},
     "output_type": "execute_result"
    }
   ],
   "source": [
    "d1.values()"
   ]
  },
  {
   "cell_type": "code",
   "execution_count": 90,
   "id": "93bcab8a",
   "metadata": {},
   "outputs": [
    {
     "data": {
      "text/plain": [
       "dict_items([('Emp_no', 7010), ('Name', 'smith'), ('Age', 34)])"
      ]
     },
     "execution_count": 90,
     "metadata": {},
     "output_type": "execute_result"
    }
   ],
   "source": [
    "d1.items()"
   ]
  },
  {
   "cell_type": "code",
   "execution_count": 91,
   "id": "8e1bf910",
   "metadata": {},
   "outputs": [
    {
     "data": {
      "text/plain": [
       "{'Emp_no': 7010, 'Name': 'smith', 'Age': 34}"
      ]
     },
     "execution_count": 91,
     "metadata": {},
     "output_type": "execute_result"
    }
   ],
   "source": [
    "d1"
   ]
  },
  {
   "cell_type": "markdown",
   "id": "d2c43f3e",
   "metadata": {},
   "source": [
    "we can see individual key values"
   ]
  },
  {
   "cell_type": "code",
   "execution_count": 94,
   "id": "f583a8b9",
   "metadata": {},
   "outputs": [
    {
     "data": {
      "text/plain": [
       "7010"
      ]
     },
     "execution_count": 94,
     "metadata": {},
     "output_type": "execute_result"
    }
   ],
   "source": [
    "d1['Emp_no'] "
   ]
  },
  {
   "cell_type": "code",
   "execution_count": 95,
   "id": "24b699b4",
   "metadata": {},
   "outputs": [
    {
     "data": {
      "text/plain": [
       "'smith'"
      ]
     },
     "execution_count": 95,
     "metadata": {},
     "output_type": "execute_result"
    }
   ],
   "source": [
    "d1['Name']"
   ]
  },
  {
   "cell_type": "code",
   "execution_count": 96,
   "id": "e1e4cbb5",
   "metadata": {},
   "outputs": [
    {
     "data": {
      "text/plain": [
       "34"
      ]
     },
     "execution_count": 96,
     "metadata": {},
     "output_type": "execute_result"
    }
   ],
   "source": [
    "d1['Age']"
   ]
  },
  {
   "cell_type": "code",
   "execution_count": 97,
   "id": "90102b1c",
   "metadata": {},
   "outputs": [
    {
     "data": {
      "text/plain": [
       "{'Emp_no': 7010, 'Name': 'smith', 'Age': 34}"
      ]
     },
     "execution_count": 97,
     "metadata": {},
     "output_type": "execute_result"
    }
   ],
   "source": [
    "d1"
   ]
  },
  {
   "cell_type": "code",
   "execution_count": 101,
   "id": "23c4557e",
   "metadata": {},
   "outputs": [],
   "source": [
    "d1['Age']=29 we cant change value here"
   ]
  },
  {
   "cell_type": "code",
   "execution_count": 102,
   "id": "f57482fe",
   "metadata": {},
   "outputs": [
    {
     "data": {
      "text/plain": [
       "{'Emp_no': 7010, 'Name': 'smith', 'Age': 29}"
      ]
     },
     "execution_count": 102,
     "metadata": {},
     "output_type": "execute_result"
    }
   ],
   "source": [
    "d1"
   ]
  },
  {
   "cell_type": "markdown",
   "id": "1e947006",
   "metadata": {},
   "source": [
    "we can add key value in d1"
   ]
  },
  {
   "cell_type": "code",
   "execution_count": 103,
   "id": "66e2ebb5",
   "metadata": {},
   "outputs": [],
   "source": [
    "d1.update({'salary':88888})"
   ]
  },
  {
   "cell_type": "code",
   "execution_count": 104,
   "id": "b35cf978",
   "metadata": {},
   "outputs": [
    {
     "data": {
      "text/plain": [
       "{'Emp_no': 7010, 'Name': 'smith', 'Age': 29, 'salary': 88888}"
      ]
     },
     "execution_count": 104,
     "metadata": {},
     "output_type": "execute_result"
    }
   ],
   "source": [
    "d1"
   ]
  },
  {
   "cell_type": "markdown",
   "id": "d51cf67a",
   "metadata": {},
   "source": [
    "# creat more dictionary"
   ]
  },
  {
   "cell_type": "code",
   "execution_count": 105,
   "id": "8b099003",
   "metadata": {},
   "outputs": [],
   "source": [
    "d2={1:'mercury',2:'venus',3:'earth',3:'mars',4:'Jupiter'}"
   ]
  },
  {
   "cell_type": "code",
   "execution_count": 106,
   "id": "101731c0",
   "metadata": {},
   "outputs": [
    {
     "data": {
      "text/plain": [
       "{1: 'mercury', 2: 'venus', 3: 'mars', 4: 'Jupiter'}"
      ]
     },
     "execution_count": 106,
     "metadata": {},
     "output_type": "execute_result"
    }
   ],
   "source": [
    "d2"
   ]
  },
  {
   "cell_type": "code",
   "execution_count": 107,
   "id": "6ac97f88",
   "metadata": {},
   "outputs": [],
   "source": [
    "d2.update({5:'Moon'})"
   ]
  },
  {
   "cell_type": "code",
   "execution_count": 108,
   "id": "616a262f",
   "metadata": {},
   "outputs": [
    {
     "data": {
      "text/plain": [
       "{1: 'mercury', 2: 'venus', 3: 'mars', 4: 'Jupiter', 5: 'Moon'}"
      ]
     },
     "execution_count": 108,
     "metadata": {},
     "output_type": "execute_result"
    }
   ],
   "source": [
    "d2"
   ]
  },
  {
   "cell_type": "code",
   "execution_count": 109,
   "id": "5ea40a44",
   "metadata": {},
   "outputs": [],
   "source": [
    "d3={'empno':[1,2,3],'Name':['john','Jack','smith'],'Age':[32,35,36]}"
   ]
  },
  {
   "cell_type": "code",
   "execution_count": 110,
   "id": "6051dc71",
   "metadata": {},
   "outputs": [
    {
     "data": {
      "text/plain": [
       "{'empno': [1, 2, 3], 'Name': ['john', 'Jack', 'smith'], 'Age': [32, 35, 36]}"
      ]
     },
     "execution_count": 110,
     "metadata": {},
     "output_type": "execute_result"
    }
   ],
   "source": [
    "d3"
   ]
  },
  {
   "cell_type": "code",
   "execution_count": 111,
   "id": "f00280c9",
   "metadata": {},
   "outputs": [
    {
     "data": {
      "text/plain": [
       "dict_values([[1, 2, 3], ['john', 'Jack', 'smith'], [32, 35, 36]])"
      ]
     },
     "execution_count": 111,
     "metadata": {},
     "output_type": "execute_result"
    }
   ],
   "source": [
    "d3.values()"
   ]
  },
  {
   "cell_type": "code",
   "execution_count": 112,
   "id": "b7b5c4bc",
   "metadata": {},
   "outputs": [
    {
     "data": {
      "text/plain": [
       "dict_keys(['empno', 'Name', 'Age'])"
      ]
     },
     "execution_count": 112,
     "metadata": {},
     "output_type": "execute_result"
    }
   ],
   "source": [
    "d3.keys()"
   ]
  },
  {
   "cell_type": "code",
   "execution_count": 113,
   "id": "3301f0db",
   "metadata": {},
   "outputs": [
    {
     "data": {
      "text/plain": [
       "dict_items([('empno', [1, 2, 3]), ('Name', ['john', 'Jack', 'smith']), ('Age', [32, 35, 36])])"
      ]
     },
     "execution_count": 113,
     "metadata": {},
     "output_type": "execute_result"
    }
   ],
   "source": [
    "d3.items()"
   ]
  },
  {
   "cell_type": "markdown",
   "id": "60b0a03a",
   "metadata": {},
   "source": [
    "THERE ARE INDEXED"
   ]
  },
  {
   "cell_type": "code",
   "execution_count": 114,
   "id": "24c374c7",
   "metadata": {},
   "outputs": [
    {
     "data": {
      "text/plain": [
       "[1, 2, 3]"
      ]
     },
     "execution_count": 114,
     "metadata": {},
     "output_type": "execute_result"
    }
   ],
   "source": [
    "d3['empno']"
   ]
  },
  {
   "cell_type": "code",
   "execution_count": 116,
   "id": "c30d3132",
   "metadata": {},
   "outputs": [
    {
     "data": {
      "text/plain": [
       "['john', 'Jack', 'smith']"
      ]
     },
     "execution_count": 116,
     "metadata": {},
     "output_type": "execute_result"
    }
   ],
   "source": [
    "d3['Name']"
   ]
  },
  {
   "cell_type": "code",
   "execution_count": 117,
   "id": "b3d9ba5d",
   "metadata": {},
   "outputs": [
    {
     "data": {
      "text/plain": [
       "[32, 35, 36]"
      ]
     },
     "execution_count": 117,
     "metadata": {},
     "output_type": "execute_result"
    }
   ],
   "source": [
    "d3['Age']"
   ]
  },
  {
   "cell_type": "code",
   "execution_count": 119,
   "id": "32b745fb",
   "metadata": {},
   "outputs": [
    {
     "data": {
      "text/plain": [
       "36"
      ]
     },
     "execution_count": 119,
     "metadata": {},
     "output_type": "execute_result"
    }
   ],
   "source": [
    "d3['Age'][2] index"
   ]
  },
  {
   "cell_type": "code",
   "execution_count": 120,
   "id": "49d43ed5",
   "metadata": {},
   "outputs": [
    {
     "data": {
      "text/plain": [
       "'john'"
      ]
     },
     "execution_count": 120,
     "metadata": {},
     "output_type": "execute_result"
    }
   ],
   "source": [
    "d3['Name'][0]"
   ]
  },
  {
   "cell_type": "code",
   "execution_count": 129,
   "id": "5e23b6b1",
   "metadata": {},
   "outputs": [],
   "source": [
    "d3['Name']='Andrew'mutable we can change here value"
   ]
  },
  {
   "cell_type": "code",
   "execution_count": 122,
   "id": "7ddefed9",
   "metadata": {},
   "outputs": [
    {
     "data": {
      "text/plain": [
       "{'empno': [1, 2, 3], 'Name': 'Andrew', 'Age': [32, 35, 36]}"
      ]
     },
     "execution_count": 122,
     "metadata": {},
     "output_type": "execute_result"
    }
   ],
   "source": [
    "d3"
   ]
  },
  {
   "cell_type": "markdown",
   "id": "c91b41f1",
   "metadata": {},
   "source": [
    "Get method is used to get data or values"
   ]
  },
  {
   "cell_type": "code",
   "execution_count": 124,
   "id": "dd026ce3",
   "metadata": {},
   "outputs": [
    {
     "data": {
      "text/plain": [
       "[32, 35, 36]"
      ]
     },
     "execution_count": 124,
     "metadata": {},
     "output_type": "execute_result"
    }
   ],
   "source": [
    "d3.get('Age')"
   ]
  },
  {
   "cell_type": "code",
   "execution_count": 125,
   "id": "f2115a87",
   "metadata": {},
   "outputs": [
    {
     "data": {
      "text/plain": [
       "[1, 2, 3]"
      ]
     },
     "execution_count": 125,
     "metadata": {},
     "output_type": "execute_result"
    }
   ],
   "source": [
    "d3.get('empno')"
   ]
  },
  {
   "cell_type": "code",
   "execution_count": 126,
   "id": "9f6a2bc5",
   "metadata": {},
   "outputs": [
    {
     "data": {
      "text/plain": [
       "'Andrew'"
      ]
     },
     "execution_count": 126,
     "metadata": {},
     "output_type": "execute_result"
    }
   ],
   "source": [
    "d3.get('Name')"
   ]
  },
  {
   "cell_type": "code",
   "execution_count": 127,
   "id": "49f39286",
   "metadata": {},
   "outputs": [
    {
     "data": {
      "text/plain": [
       "{'empno': [1, 2, 3], 'Name': 'Andrew', 'Age': [32, 35, 36]}"
      ]
     },
     "execution_count": 127,
     "metadata": {},
     "output_type": "execute_result"
    }
   ],
   "source": [
    "d3"
   ]
  },
  {
   "cell_type": "code",
   "execution_count": 130,
   "id": "0a5d1791",
   "metadata": {},
   "outputs": [],
   "source": [
    "d3['Name']='Andrew','john','jack'"
   ]
  },
  {
   "cell_type": "code",
   "execution_count": 131,
   "id": "18aeaf4f",
   "metadata": {},
   "outputs": [
    {
     "data": {
      "text/plain": [
       "{'empno': [1, 2, 3], 'Name': ('Andrew', 'john', 'jack'), 'Age': [32, 35, 36]}"
      ]
     },
     "execution_count": 131,
     "metadata": {},
     "output_type": "execute_result"
    }
   ],
   "source": [
    "d3"
   ]
  },
  {
   "cell_type": "code",
   "execution_count": 135,
   "id": "b4d59a7a",
   "metadata": {},
   "outputs": [
    {
     "data": {
      "text/plain": [
       "('Andrew', 'john', 'jack')"
      ]
     },
     "execution_count": 135,
     "metadata": {},
     "output_type": "execute_result"
    }
   ],
   "source": [
    "d3.pop('Name')"
   ]
  },
  {
   "cell_type": "code",
   "execution_count": 136,
   "id": "824eaf20",
   "metadata": {},
   "outputs": [
    {
     "data": {
      "text/plain": [
       "{'empno': [1, 2, 3], 'Age': [32, 35, 36]}"
      ]
     },
     "execution_count": 136,
     "metadata": {},
     "output_type": "execute_result"
    }
   ],
   "source": [
    "d3"
   ]
  },
  {
   "cell_type": "code",
   "execution_count": 138,
   "id": "c4142d3b",
   "metadata": {},
   "outputs": [],
   "source": [
    "d3.update({'Name':['Andrew','john','jack']})"
   ]
  },
  {
   "cell_type": "code",
   "execution_count": 139,
   "id": "82881d01",
   "metadata": {},
   "outputs": [
    {
     "data": {
      "text/plain": [
       "{'empno': [1, 2, 3], 'Age': [32, 35, 36], 'Name': ['Andrew', 'john', 'jack']}"
      ]
     },
     "execution_count": 139,
     "metadata": {},
     "output_type": "execute_result"
    }
   ],
   "source": [
    "d3"
   ]
  },
  {
   "cell_type": "code",
   "execution_count": null,
   "id": "3387395c",
   "metadata": {},
   "outputs": [],
   "source": []
  },
  {
   "cell_type": "code",
   "execution_count": null,
   "id": "d5fbad6f",
   "metadata": {},
   "outputs": [],
   "source": []
  },
  {
   "cell_type": "code",
   "execution_count": null,
   "id": "a19b2f4c",
   "metadata": {},
   "outputs": [],
   "source": []
  },
  {
   "cell_type": "code",
   "execution_count": null,
   "id": "aba598f1",
   "metadata": {},
   "outputs": [],
   "source": []
  },
  {
   "cell_type": "code",
   "execution_count": null,
   "id": "78131816",
   "metadata": {},
   "outputs": [],
   "source": []
  },
  {
   "cell_type": "code",
   "execution_count": null,
   "id": "c8750a51",
   "metadata": {},
   "outputs": [],
   "source": []
  },
  {
   "cell_type": "code",
   "execution_count": null,
   "id": "69a27ec7",
   "metadata": {},
   "outputs": [],
   "source": []
  },
  {
   "cell_type": "code",
   "execution_count": null,
   "id": "c68d2280",
   "metadata": {},
   "outputs": [],
   "source": []
  },
  {
   "cell_type": "code",
   "execution_count": null,
   "id": "1e88796a",
   "metadata": {},
   "outputs": [],
   "source": []
  },
  {
   "cell_type": "code",
   "execution_count": null,
   "id": "04f12ced",
   "metadata": {},
   "outputs": [],
   "source": []
  },
  {
   "cell_type": "code",
   "execution_count": null,
   "id": "4db53a7a",
   "metadata": {},
   "outputs": [],
   "source": []
  },
  {
   "cell_type": "code",
   "execution_count": null,
   "id": "df2ee16e",
   "metadata": {},
   "outputs": [],
   "source": []
  },
  {
   "cell_type": "code",
   "execution_count": null,
   "id": "a3150e4d",
   "metadata": {},
   "outputs": [],
   "source": []
  },
  {
   "cell_type": "code",
   "execution_count": null,
   "id": "5ec735b9",
   "metadata": {},
   "outputs": [],
   "source": []
  },
  {
   "cell_type": "code",
   "execution_count": null,
   "id": "0e3a9020",
   "metadata": {},
   "outputs": [],
   "source": []
  },
  {
   "cell_type": "code",
   "execution_count": null,
   "id": "19527837",
   "metadata": {},
   "outputs": [],
   "source": []
  }
 ],
 "metadata": {
  "kernelspec": {
   "display_name": "Python 3 (ipykernel)",
   "language": "python",
   "name": "python3"
  },
  "language_info": {
   "codemirror_mode": {
    "name": "ipython",
    "version": 3
   },
   "file_extension": ".py",
   "mimetype": "text/x-python",
   "name": "python",
   "nbconvert_exporter": "python",
   "pygments_lexer": "ipython3",
   "version": "3.11.5"
  }
 },
 "nbformat": 4,
 "nbformat_minor": 5
}
