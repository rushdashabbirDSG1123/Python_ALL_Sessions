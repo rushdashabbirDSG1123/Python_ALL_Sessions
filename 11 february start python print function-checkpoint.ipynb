{
 "cells": [
  {
   "cell_type": "markdown",
   "id": "f36a9976",
   "metadata": {},
   "source": [
    "# Starting python"
   ]
  },
  {
   "cell_type": "code",
   "execution_count": 1,
   "id": "725e4142",
   "metadata": {},
   "outputs": [
    {
     "data": {
      "text/plain": [
       "1"
      ]
     },
     "execution_count": 1,
     "metadata": {},
     "output_type": "execute_result"
    }
   ],
   "source": [
    "3-2"
   ]
  },
  {
   "cell_type": "code",
   "execution_count": 2,
   "id": "8b675f39",
   "metadata": {},
   "outputs": [
    {
     "data": {
      "text/plain": [
       "2"
      ]
     },
     "execution_count": 2,
     "metadata": {},
     "output_type": "execute_result"
    }
   ],
   "source": [
    "4-2"
   ]
  },
  {
   "cell_type": "code",
   "execution_count": 3,
   "id": "ab4ee0dc",
   "metadata": {},
   "outputs": [
    {
     "data": {
      "text/plain": [
       "2.0"
      ]
     },
     "execution_count": 3,
     "metadata": {},
     "output_type": "execute_result"
    }
   ],
   "source": [
    "4/2"
   ]
  },
  {
   "cell_type": "code",
   "execution_count": 4,
   "id": "18e9b602",
   "metadata": {},
   "outputs": [
    {
     "data": {
      "text/plain": [
       "2"
      ]
     },
     "execution_count": 4,
     "metadata": {},
     "output_type": "execute_result"
    }
   ],
   "source": [
    "# floar division (//) will remove the decimal value\n",
    "4//2"
   ]
  },
  {
   "cell_type": "code",
   "execution_count": 5,
   "id": "f457dec3",
   "metadata": {},
   "outputs": [
    {
     "data": {
      "text/plain": [
       "2"
      ]
     },
     "execution_count": 5,
     "metadata": {},
     "output_type": "execute_result"
    }
   ],
   "source": [
    "5//2"
   ]
  },
  {
   "cell_type": "code",
   "execution_count": 6,
   "id": "70052b92",
   "metadata": {},
   "outputs": [
    {
     "data": {
      "text/plain": [
       "2.5"
      ]
     },
     "execution_count": 6,
     "metadata": {},
     "output_type": "execute_result"
    }
   ],
   "source": [
    "5/2"
   ]
  },
  {
   "cell_type": "code",
   "execution_count": 7,
   "id": "b1a8d3f8",
   "metadata": {},
   "outputs": [
    {
     "data": {
      "text/plain": [
       "1"
      ]
     },
     "execution_count": 7,
     "metadata": {},
     "output_type": "execute_result"
    }
   ],
   "source": [
    "#modulus symbol (%) if we want to get reminder as the answer\n",
    "5%2\n"
   ]
  },
  {
   "cell_type": "code",
   "execution_count": 8,
   "id": "003999d6",
   "metadata": {},
   "outputs": [
    {
     "data": {
      "text/plain": [
       "2.5"
      ]
     },
     "execution_count": 8,
     "metadata": {},
     "output_type": "execute_result"
    }
   ],
   "source": [
    "#if we want to get quetiont as the answer then use division symbol (/)\n",
    "5/2"
   ]
  },
  {
   "cell_type": "code",
   "execution_count": 9,
   "id": "96cd67ac",
   "metadata": {},
   "outputs": [
    {
     "data": {
      "text/plain": [
       "4"
      ]
     },
     "execution_count": 9,
     "metadata": {},
     "output_type": "execute_result"
    }
   ],
   "source": [
    "#for square (**) use this symbol \n",
    "2**2"
   ]
  },
  {
   "cell_type": "code",
   "execution_count": 10,
   "id": "9ded565a",
   "metadata": {},
   "outputs": [
    {
     "data": {
      "text/plain": [
       "16"
      ]
     },
     "execution_count": 10,
     "metadata": {},
     "output_type": "execute_result"
    }
   ],
   "source": [
    "4**2"
   ]
  },
  {
   "cell_type": "code",
   "execution_count": 11,
   "id": "eced4d06",
   "metadata": {},
   "outputs": [
    {
     "data": {
      "text/plain": [
       "64"
      ]
     },
     "execution_count": 11,
     "metadata": {},
     "output_type": "execute_result"
    }
   ],
   "source": [
    "8**2"
   ]
  },
  {
   "cell_type": "code",
   "execution_count": 12,
   "id": "a8a9f533",
   "metadata": {},
   "outputs": [
    {
     "name": "stdout",
     "output_type": "stream",
     "text": [
      "hello\n"
     ]
    }
   ],
   "source": [
    "#print command \n",
    "print(\"hello\")"
   ]
  },
  {
   "cell_type": "code",
   "execution_count": 13,
   "id": "542be4cc",
   "metadata": {},
   "outputs": [
    {
     "name": "stdout",
     "output_type": "stream",
     "text": [
      "today i am writing code for learning python i am fresher in python\n"
     ]
    }
   ],
   "source": [
    "print (\"today i am writing code for learning python i am fresher in python\")"
   ]
  },
  {
   "cell_type": "code",
   "execution_count": 14,
   "id": "ef051581",
   "metadata": {},
   "outputs": [],
   "source": [
    "#use of vraiable\n",
    "a=10"
   ]
  },
  {
   "cell_type": "code",
   "execution_count": 15,
   "id": "6fdf190a",
   "metadata": {},
   "outputs": [
    {
     "data": {
      "text/plain": [
       "10"
      ]
     },
     "execution_count": 15,
     "metadata": {},
     "output_type": "execute_result"
    }
   ],
   "source": [
    "a"
   ]
  },
  {
   "cell_type": "code",
   "execution_count": 16,
   "id": "ebdcf28b",
   "metadata": {},
   "outputs": [],
   "source": [
    "b=50"
   ]
  },
  {
   "cell_type": "code",
   "execution_count": 17,
   "id": "4309b83e",
   "metadata": {},
   "outputs": [
    {
     "data": {
      "text/plain": [
       "50"
      ]
     },
     "execution_count": 17,
     "metadata": {},
     "output_type": "execute_result"
    }
   ],
   "source": [
    "b"
   ]
  },
  {
   "cell_type": "code",
   "execution_count": 18,
   "id": "bb057ee0",
   "metadata": {},
   "outputs": [],
   "source": [
    "a=10\n",
    "b=20"
   ]
  },
  {
   "cell_type": "code",
   "execution_count": 19,
   "id": "83fd9ec2",
   "metadata": {},
   "outputs": [
    {
     "data": {
      "text/plain": [
       "-10"
      ]
     },
     "execution_count": 19,
     "metadata": {},
     "output_type": "execute_result"
    }
   ],
   "source": [
    "a-b"
   ]
  },
  {
   "cell_type": "code",
   "execution_count": 20,
   "id": "80e14865",
   "metadata": {},
   "outputs": [
    {
     "data": {
      "text/plain": [
       "200"
      ]
     },
     "execution_count": 20,
     "metadata": {},
     "output_type": "execute_result"
    }
   ],
   "source": [
    "a*b"
   ]
  },
  {
   "cell_type": "code",
   "execution_count": 21,
   "id": "9a1ee622",
   "metadata": {},
   "outputs": [
    {
     "data": {
      "text/plain": [
       "30"
      ]
     },
     "execution_count": 21,
     "metadata": {},
     "output_type": "execute_result"
    }
   ],
   "source": [
    "a+b"
   ]
  },
  {
   "cell_type": "code",
   "execution_count": 22,
   "id": "16f740d7",
   "metadata": {},
   "outputs": [
    {
     "data": {
      "text/plain": [
       "100"
      ]
     },
     "execution_count": 22,
     "metadata": {},
     "output_type": "execute_result"
    }
   ],
   "source": [
    "a**2"
   ]
  },
  {
   "cell_type": "code",
   "execution_count": 23,
   "id": "5f3d2835",
   "metadata": {},
   "outputs": [
    {
     "data": {
      "text/plain": [
       "400"
      ]
     },
     "execution_count": 23,
     "metadata": {},
     "output_type": "execute_result"
    }
   ],
   "source": [
    "b**2"
   ]
  },
  {
   "cell_type": "code",
   "execution_count": 25,
   "id": "570eabcd",
   "metadata": {},
   "outputs": [],
   "source": [
    "# area of rectangle\n",
    "l=10\n",
    "b=2\n",
    "area=l*b"
   ]
  },
  {
   "cell_type": "code",
   "execution_count": 26,
   "id": "7d65582e",
   "metadata": {},
   "outputs": [
    {
     "data": {
      "text/plain": [
       "20"
      ]
     },
     "execution_count": 26,
     "metadata": {},
     "output_type": "execute_result"
    }
   ],
   "source": [
    "area"
   ]
  },
  {
   "cell_type": "code",
   "execution_count": null,
   "id": "3d25e4d6",
   "metadata": {},
   "outputs": [],
   "source": []
  },
  {
   "cell_type": "code",
   "execution_count": null,
   "id": "8ba7a8b5",
   "metadata": {},
   "outputs": [],
   "source": [
    "leangth=20"
   ]
  },
  {
   "cell_type": "code",
   "execution_count": null,
   "id": "f899191d",
   "metadata": {},
   "outputs": [],
   "source": [
    "breath=30"
   ]
  },
  {
   "cell_type": "code",
   "execution_count": null,
   "id": "5f43075f",
   "metadata": {},
   "outputs": [],
   "source": [
    "are=leangth * breath"
   ]
  },
  {
   "cell_type": "code",
   "execution_count": null,
   "id": "58419b4d",
   "metadata": {},
   "outputs": [],
   "source": [
    "length=40\n",
    "breath=6\n",
    "area=length*breath"
   ]
  },
  {
   "cell_type": "code",
   "execution_count": null,
   "id": "9b62d307",
   "metadata": {},
   "outputs": [],
   "source": [
    "area"
   ]
  },
  {
   "cell_type": "code",
   "execution_count": 27,
   "id": "973519ab",
   "metadata": {},
   "outputs": [
    {
     "name": "stdout",
     "output_type": "stream",
     "text": [
      "print area of rectangle = 20\n"
     ]
    }
   ],
   "source": [
    "print(\"print area of rectangle =\",area)"
   ]
  },
  {
   "cell_type": "code",
   "execution_count": 30,
   "id": "cb4ff1de",
   "metadata": {},
   "outputs": [],
   "source": [
    "d=24"
   ]
  },
  {
   "cell_type": "code",
   "execution_count": 31,
   "id": "c1d70033",
   "metadata": {},
   "outputs": [
    {
     "data": {
      "text/plain": [
       "24"
      ]
     },
     "execution_count": 31,
     "metadata": {},
     "output_type": "execute_result"
    }
   ],
   "source": [
    "d"
   ]
  },
  {
   "cell_type": "code",
   "execution_count": 32,
   "id": "7995bfd8",
   "metadata": {},
   "outputs": [
    {
     "name": "stdout",
     "output_type": "stream",
     "text": [
      "24\n"
     ]
    }
   ],
   "source": [
    "print(d)"
   ]
  },
  {
   "cell_type": "code",
   "execution_count": null,
   "id": "d7d53406",
   "metadata": {},
   "outputs": [],
   "source": [
    "a=10"
   ]
  },
  {
   "cell_type": "code",
   "execution_count": null,
   "id": "10440d0a",
   "metadata": {},
   "outputs": [],
   "source": [
    "b=2"
   ]
  },
  {
   "cell_type": "code",
   "execution_count": 35,
   "id": "c17ed647",
   "metadata": {},
   "outputs": [],
   "source": [
    "n=a-b"
   ]
  },
  {
   "cell_type": "code",
   "execution_count": 36,
   "id": "0769d40d",
   "metadata": {},
   "outputs": [
    {
     "data": {
      "text/plain": [
       "8"
      ]
     },
     "execution_count": 36,
     "metadata": {},
     "output_type": "execute_result"
    }
   ],
   "source": [
    "n"
   ]
  },
  {
   "cell_type": "code",
   "execution_count": null,
   "id": "4cd8cc9f",
   "metadata": {},
   "outputs": [],
   "source": [
    "# length function\n"
   ]
  },
  {
   "cell_type": "code",
   "execution_count": null,
   "id": "b2caa3a9",
   "metadata": {},
   "outputs": [],
   "source": [
    "len('a,b,c,d,g,f')"
   ]
  },
  {
   "cell_type": "code",
   "execution_count": null,
   "id": "9ea3f1ac",
   "metadata": {},
   "outputs": [],
   "source": [
    "len('ABC')"
   ]
  },
  {
   "cell_type": "code",
   "execution_count": null,
   "id": "aa22913e",
   "metadata": {},
   "outputs": [],
   "source": [
    "len('london')"
   ]
  },
  {
   "cell_type": "code",
   "execution_count": null,
   "id": "ea0ed963",
   "metadata": {},
   "outputs": [],
   "source": [
    "city=\"SYDNEY\""
   ]
  },
  {
   "cell_type": "code",
   "execution_count": null,
   "id": "b699d319",
   "metadata": {},
   "outputs": [],
   "source": [
    "city"
   ]
  },
  {
   "cell_type": "code",
   "execution_count": null,
   "id": "2beb1143",
   "metadata": {},
   "outputs": [],
   "source": [
    "len(city)"
   ]
  },
  {
   "cell_type": "code",
   "execution_count": null,
   "id": "f2b4fce7",
   "metadata": {},
   "outputs": [],
   "source": [
    "type(city)"
   ]
  },
  {
   "cell_type": "code",
   "execution_count": null,
   "id": "dd6561cf",
   "metadata": {},
   "outputs": [],
   "source": []
  },
  {
   "cell_type": "code",
   "execution_count": null,
   "id": "e937eeb5",
   "metadata": {},
   "outputs": [],
   "source": [
    "len('city')"
   ]
  },
  {
   "cell_type": "code",
   "execution_count": null,
   "id": "f163607c",
   "metadata": {},
   "outputs": [],
   "source": [
    "700>200"
   ]
  },
  {
   "cell_type": "code",
   "execution_count": null,
   "id": "50fffb03",
   "metadata": {},
   "outputs": [],
   "source": [
    "700<200"
   ]
  },
  {
   "cell_type": "code",
   "execution_count": null,
   "id": "91d6667e",
   "metadata": {},
   "outputs": [],
   "source": [
    "700!=200"
   ]
  },
  {
   "cell_type": "code",
   "execution_count": null,
   "id": "1bd3b99a",
   "metadata": {},
   "outputs": [],
   "source": [
    "700==200"
   ]
  },
  {
   "cell_type": "code",
   "execution_count": null,
   "id": "44db5613",
   "metadata": {},
   "outputs": [],
   "source": [
    "a=100"
   ]
  },
  {
   "cell_type": "code",
   "execution_count": null,
   "id": "a19ff62f",
   "metadata": {},
   "outputs": [],
   "source": [
    "b=200"
   ]
  },
  {
   "cell_type": "code",
   "execution_count": null,
   "id": "81b9dffa",
   "metadata": {},
   "outputs": [],
   "source": [
    "a>b"
   ]
  },
  {
   "cell_type": "code",
   "execution_count": null,
   "id": "ea6ff2d7",
   "metadata": {},
   "outputs": [],
   "source": [
    "a<b"
   ]
  },
  {
   "cell_type": "code",
   "execution_count": null,
   "id": "de515194",
   "metadata": {},
   "outputs": [],
   "source": [
    "a==b"
   ]
  },
  {
   "cell_type": "code",
   "execution_count": null,
   "id": "91b3b1bb",
   "metadata": {},
   "outputs": [],
   "source": [
    "price=285"
   ]
  },
  {
   "cell_type": "code",
   "execution_count": null,
   "id": "e9c0c8c3",
   "metadata": {},
   "outputs": [],
   "source": [
    "type(price)"
   ]
  },
  {
   "cell_type": "code",
   "execution_count": null,
   "id": "e37ef2a3",
   "metadata": {},
   "outputs": [],
   "source": [
    "float(price)"
   ]
  },
  {
   "cell_type": "code",
   "execution_count": null,
   "id": "65a265e3",
   "metadata": {},
   "outputs": [],
   "source": [
    "p='123'"
   ]
  },
  {
   "cell_type": "code",
   "execution_count": null,
   "id": "10698099",
   "metadata": {},
   "outputs": [],
   "source": [
    "type(p)"
   ]
  },
  {
   "cell_type": "code",
   "execution_count": null,
   "id": "9267bf62",
   "metadata": {},
   "outputs": [],
   "source": [
    "int(p)"
   ]
  },
  {
   "cell_type": "code",
   "execution_count": null,
   "id": "cd42c7ce",
   "metadata": {},
   "outputs": [],
   "source": [
    "a=\"1875\""
   ]
  },
  {
   "cell_type": "code",
   "execution_count": null,
   "id": "f512ed56",
   "metadata": {},
   "outputs": [],
   "source": [
    "type(a)"
   ]
  },
  {
   "cell_type": "code",
   "execution_count": null,
   "id": "64d9288f",
   "metadata": {},
   "outputs": [],
   "source": [
    "h=int(a)"
   ]
  },
  {
   "cell_type": "code",
   "execution_count": null,
   "id": "b62190d9",
   "metadata": {},
   "outputs": [],
   "source": [
    "h"
   ]
  },
  {
   "cell_type": "code",
   "execution_count": null,
   "id": "3be8c257",
   "metadata": {},
   "outputs": [],
   "source": [
    "type(h)"
   ]
  },
  {
   "cell_type": "code",
   "execution_count": null,
   "id": "c70f11dd",
   "metadata": {},
   "outputs": [],
   "source": [
    "h=17"
   ]
  },
  {
   "cell_type": "code",
   "execution_count": null,
   "id": "61ff1259",
   "metadata": {},
   "outputs": [],
   "source": [
    "float(h)"
   ]
  },
  {
   "cell_type": "code",
   "execution_count": null,
   "id": "7707f015",
   "metadata": {},
   "outputs": [],
   "source": [
    "a='17'"
   ]
  },
  {
   "cell_type": "code",
   "execution_count": null,
   "id": "c2e9a103",
   "metadata": {},
   "outputs": [],
   "source": [
    "type(a)"
   ]
  },
  {
   "cell_type": "code",
   "execution_count": null,
   "id": "e5c01577",
   "metadata": {},
   "outputs": [],
   "source": [
    "h=int(a)"
   ]
  },
  {
   "cell_type": "code",
   "execution_count": null,
   "id": "269db693",
   "metadata": {},
   "outputs": [],
   "source": [
    "h"
   ]
  },
  {
   "cell_type": "code",
   "execution_count": null,
   "id": "0aaa8399",
   "metadata": {},
   "outputs": [],
   "source": [
    "type(h)"
   ]
  },
  {
   "cell_type": "code",
   "execution_count": null,
   "id": "57b4dc66",
   "metadata": {},
   "outputs": [],
   "source": []
  },
  {
   "cell_type": "code",
   "execution_count": null,
   "id": "3cbaf432",
   "metadata": {},
   "outputs": [],
   "source": []
  },
  {
   "cell_type": "code",
   "execution_count": null,
   "id": "d877d282",
   "metadata": {},
   "outputs": [],
   "source": []
  },
  {
   "cell_type": "code",
   "execution_count": null,
   "id": "f30f0f10",
   "metadata": {},
   "outputs": [],
   "source": []
  },
  {
   "cell_type": "code",
   "execution_count": null,
   "id": "16db6919",
   "metadata": {},
   "outputs": [],
   "source": []
  },
  {
   "cell_type": "code",
   "execution_count": null,
   "id": "63053627",
   "metadata": {},
   "outputs": [],
   "source": []
  },
  {
   "cell_type": "code",
   "execution_count": null,
   "id": "c24a646e",
   "metadata": {},
   "outputs": [],
   "source": []
  },
  {
   "cell_type": "code",
   "execution_count": null,
   "id": "c72cabc8",
   "metadata": {},
   "outputs": [],
   "source": []
  },
  {
   "cell_type": "code",
   "execution_count": null,
   "id": "bfb48fd9",
   "metadata": {},
   "outputs": [],
   "source": []
  },
  {
   "cell_type": "code",
   "execution_count": null,
   "id": "37969fa9",
   "metadata": {},
   "outputs": [],
   "source": []
  }
 ],
 "metadata": {
  "kernelspec": {
   "display_name": "Python 3 (ipykernel)",
   "language": "python",
   "name": "python3"
  },
  "language_info": {
   "codemirror_mode": {
    "name": "ipython",
    "version": 3
   },
   "file_extension": ".py",
   "mimetype": "text/x-python",
   "name": "python",
   "nbconvert_exporter": "python",
   "pygments_lexer": "ipython3",
   "version": "3.11.5"
  }
 },
 "nbformat": 4,
 "nbformat_minor": 5
}
