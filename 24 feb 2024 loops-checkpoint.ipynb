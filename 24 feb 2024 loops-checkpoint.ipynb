{
 "cells": [
  {
   "cell_type": "markdown",
   "id": "0f045682",
   "metadata": {},
   "source": [
    "# Loops"
   ]
  },
  {
   "cell_type": "code",
   "execution_count": 3,
   "id": "4988afa5",
   "metadata": {},
   "outputs": [
    {
     "name": "stdout",
     "output_type": "stream",
     "text": [
      "0\n",
      "1\n",
      "2\n",
      "3\n"
     ]
    }
   ],
   "source": [
    "k=0\n",
    "while(k<=3):\n",
    "    print(k)\n",
    "    k=k+1"
   ]
  },
  {
   "cell_type": "code",
   "execution_count": null,
   "id": "69572738",
   "metadata": {},
   "outputs": [],
   "source": [
    "end perameter for new line or output get with space"
   ]
  },
  {
   "cell_type": "code",
   "execution_count": 8,
   "id": "9b284426",
   "metadata": {},
   "outputs": [
    {
     "name": "stdout",
     "output_type": "stream",
     "text": [
      "1 2 3 4 5 6 7 8 9 10 "
     ]
    }
   ],
   "source": [
    "p=1\n",
    "while(p<=10):\n",
    "    print(p,end=\" \")\n",
    "    p=p+1"
   ]
  },
  {
   "cell_type": "code",
   "execution_count": 12,
   "id": "7ef7fc16",
   "metadata": {},
   "outputs": [
    {
     "name": "stdout",
     "output_type": "stream",
     "text": [
      "0 6 12 18 24 30 36 42 48 54 60 66 72 78 84 90 96 "
     ]
    }
   ],
   "source": [
    "i=0\n",
    "while(i<=100):\n",
    "    print(i,end=\" \")\n",
    "    i=i+6"
   ]
  },
  {
   "cell_type": "code",
   "execution_count": 14,
   "id": "2d4bc0cd",
   "metadata": {},
   "outputs": [
    {
     "name": "stdout",
     "output_type": "stream",
     "text": [
      "0\n",
      "inside loop\n",
      "6\n",
      "inside loop\n",
      "12\n",
      "inside loop\n",
      "18\n",
      "inside loop\n",
      "24\n",
      "inside loop\n",
      "30\n",
      "inside loop\n",
      "36\n",
      "inside loop\n",
      "42\n",
      "inside loop\n",
      "48\n",
      "inside loop\n",
      "54\n",
      "inside loop\n",
      "60\n",
      "inside loop\n",
      "66\n",
      "inside loop\n",
      "72\n",
      "inside loop\n",
      "78\n",
      "inside loop\n",
      "84\n",
      "inside loop\n",
      "90\n",
      "inside loop\n",
      "96\n",
      "inside loop\n",
      "End of the loop\n"
     ]
    }
   ],
   "source": [
    "i=0\n",
    "while(i<=100):\n",
    "    print(i)\n",
    "    print(\"inside loop\")\n",
    "    i=i+6\n",
    "print(\"End of the loop\")"
   ]
  },
  {
   "cell_type": "code",
   "execution_count": 3,
   "id": "98dfa131",
   "metadata": {},
   "outputs": [
    {
     "name": "stdout",
     "output_type": "stream",
     "text": [
      "3 * 0 = 0\n",
      "3 * 1 = 3\n",
      "3 * 2 = 6\n",
      "3 * 3 = 9\n",
      "3 * 4 = 12\n",
      "3 * 5 = 15\n",
      "3 * 6 = 18\n",
      "3 * 7 = 21\n",
      "3 * 8 = 24\n",
      "3 * 9 = 27\n",
      "3 * 10 = 30\n"
     ]
    }
   ],
   "source": [
    "i=0\n",
    "while(i<=10):\n",
    "    print('3','*',i,'=',3*i)\n",
    "    i=i+1"
   ]
  },
  {
   "cell_type": "code",
   "execution_count": 5,
   "id": "8d164ef3",
   "metadata": {},
   "outputs": [
    {
     "name": "stdout",
     "output_type": "stream",
     "text": [
      "enter value for table generation3\n",
      "3 * 0 = 0\n",
      "3 * 1 = 3\n",
      "3 * 2 = 6\n",
      "3 * 3 = 9\n",
      "3 * 4 = 12\n",
      "3 * 5 = 15\n",
      "3 * 6 = 18\n",
      "3 * 7 = 21\n",
      "3 * 8 = 24\n",
      "3 * 9 = 27\n",
      "3 * 10 = 30\n"
     ]
    }
   ],
   "source": [
    "i=0\n",
    "j=int(input(\"enter value for table generation\"))\n",
    "while(i<=10):\n",
    "    print(j,\"*\",i,\"=\",j*i)\n",
    "    i=i+1"
   ]
  },
  {
   "cell_type": "code",
   "execution_count": 8,
   "id": "19325a1d",
   "metadata": {},
   "outputs": [
    {
     "name": "stdout",
     "output_type": "stream",
     "text": [
      "0\n",
      "1\n",
      "3\n",
      "6\n",
      "10\n",
      "15\n",
      "21\n",
      "28\n",
      "36\n",
      "45\n",
      "55\n",
      "grand total = 55\n"
     ]
    }
   ],
   "source": [
    "i=0\n",
    "total=0\n",
    "while(i<=10):\n",
    "    total=total+i\n",
    "    print(total)\n",
    "    i=i+1\n",
    "    \n",
    "print(\"grand total =\",total)"
   ]
  },
  {
   "cell_type": "markdown",
   "id": "b43b829e",
   "metadata": {},
   "source": [
    "# For Loop"
   ]
  },
  {
   "cell_type": "code",
   "execution_count": 9,
   "id": "8761eaf0",
   "metadata": {},
   "outputs": [
    {
     "name": "stdout",
     "output_type": "stream",
     "text": [
      "10\n",
      "20\n",
      "30\n"
     ]
    }
   ],
   "source": [
    "for index in [10,20,30,]:\n",
    "    print(index)"
   ]
  },
  {
   "cell_type": "code",
   "execution_count": 10,
   "id": "26636fef",
   "metadata": {},
   "outputs": [
    {
     "name": "stdout",
     "output_type": "stream",
     "text": [
      "11\n",
      "22\n",
      "33\n",
      "44\n",
      "55\n",
      "66\n",
      "77\n",
      "88\n"
     ]
    }
   ],
   "source": [
    "for index in [11,22,33,44,55,66,77,88]:\n",
    "    print(index)"
   ]
  },
  {
   "cell_type": "code",
   "execution_count": 1,
   "id": "5a8e6820",
   "metadata": {},
   "outputs": [],
   "source": [
    "dict1={1:\"sum\",2:\"Moon\",3:\"Planets\"}"
   ]
  },
  {
   "cell_type": "code",
   "execution_count": 2,
   "id": "4c36ef0c",
   "metadata": {},
   "outputs": [
    {
     "data": {
      "text/plain": [
       "{1: 'sum', 2: 'Moon', 3: 'Planets'}"
      ]
     },
     "execution_count": 2,
     "metadata": {},
     "output_type": "execute_result"
    }
   ],
   "source": [
    "dict1"
   ]
  },
  {
   "cell_type": "code",
   "execution_count": 3,
   "id": "45fe50ab",
   "metadata": {},
   "outputs": [
    {
     "name": "stdout",
     "output_type": "stream",
     "text": [
      "1\n",
      "2\n",
      "3\n"
     ]
    }
   ],
   "source": [
    "for i in dict1:\n",
    "    print(i)\n",
    "    "
   ]
  },
  {
   "cell_type": "code",
   "execution_count": 4,
   "id": "13253f64",
   "metadata": {},
   "outputs": [
    {
     "name": "stdout",
     "output_type": "stream",
     "text": [
      "sum\n",
      "Moon\n",
      "Planets\n"
     ]
    }
   ],
   "source": [
    "for i in dict1:\n",
    "    print(dict1[i])"
   ]
  },
  {
   "cell_type": "markdown",
   "id": "4391487c",
   "metadata": {},
   "source": [
    "# range"
   ]
  },
  {
   "cell_type": "code",
   "execution_count": 5,
   "id": "e13a5a1a",
   "metadata": {},
   "outputs": [
    {
     "data": {
      "text/plain": [
       "range(0, 14)"
      ]
     },
     "execution_count": 5,
     "metadata": {},
     "output_type": "execute_result"
    }
   ],
   "source": [
    "range(14)"
   ]
  },
  {
   "cell_type": "code",
   "execution_count": 6,
   "id": "46d8152c",
   "metadata": {},
   "outputs": [
    {
     "data": {
      "text/plain": [
       "[0, 1, 2, 3, 4, 5, 6, 7, 8, 9, 10, 11, 12, 13]"
      ]
     },
     "execution_count": 6,
     "metadata": {},
     "output_type": "execute_result"
    }
   ],
   "source": [
    "list(range(14))"
   ]
  },
  {
   "cell_type": "code",
   "execution_count": 7,
   "id": "11e61304",
   "metadata": {},
   "outputs": [
    {
     "data": {
      "text/plain": [
       "[1, 2, 3, 4, 5, 6, 7, 8, 9, 10, 11, 12, 13]"
      ]
     },
     "execution_count": 7,
     "metadata": {},
     "output_type": "execute_result"
    }
   ],
   "source": [
    "list(range(1,14))"
   ]
  },
  {
   "cell_type": "code",
   "execution_count": 8,
   "id": "49ca35d7",
   "metadata": {},
   "outputs": [
    {
     "data": {
      "text/plain": [
       "[2, 4, 6, 8, 10, 12, 14, 16, 18, 20]"
      ]
     },
     "execution_count": 8,
     "metadata": {},
     "output_type": "execute_result"
    }
   ],
   "source": [
    "list(range(2,22,2))"
   ]
  },
  {
   "cell_type": "markdown",
   "id": "c930a401",
   "metadata": {},
   "source": [
    "append method used with for loop for creating list"
   ]
  },
  {
   "cell_type": "code",
   "execution_count": 1,
   "id": "39a98ce2",
   "metadata": {},
   "outputs": [
    {
     "name": "stdout",
     "output_type": "stream",
     "text": [
      "enter any city nameNew York\n",
      "['New York']\n",
      "enter any city namedehli\n",
      "['New York', 'dehli']\n",
      "enter any city namebanaras\n",
      "['New York', 'dehli', 'banaras']\n",
      "complete city list = ['New York', 'dehli', 'banaras']\n"
     ]
    }
   ],
   "source": [
    "citylist=[]\n",
    "for p in range(3):\n",
    "    city=input(\"enter any city name\")\n",
    "    citylist.append(city)\n",
    "    print(citylist)\n",
    "print(\"complete city list =\",citylist)"
   ]
  },
  {
   "cell_type": "markdown",
   "id": "b6dc92cf",
   "metadata": {},
   "source": [
    "# if and else statement"
   ]
  },
  {
   "cell_type": "code",
   "execution_count": 3,
   "id": "9fc83319",
   "metadata": {},
   "outputs": [
    {
     "name": "stdout",
     "output_type": "stream",
     "text": [
      "need more work hard\n"
     ]
    }
   ],
   "source": [
    "marks=90\n",
    "if marks<50:\n",
    "    print(\"good\")\n",
    "else:\n",
    "    print(\"need more work hard\")"
   ]
  },
  {
   "cell_type": "code",
   "execution_count": 4,
   "id": "830a709c",
   "metadata": {},
   "outputs": [
    {
     "name": "stdout",
     "output_type": "stream",
     "text": [
      "odd Number\n"
     ]
    }
   ],
   "source": [
    "num=15\n",
    "if num%2==0:\n",
    "    print(\"even number\")\n",
    "else:\n",
    "    print(\"odd Number\")"
   ]
  },
  {
   "cell_type": "code",
   "execution_count": null,
   "id": "17a7ab90",
   "metadata": {},
   "outputs": [],
   "source": []
  },
  {
   "cell_type": "code",
   "execution_count": null,
   "id": "340c3acc",
   "metadata": {},
   "outputs": [],
   "source": []
  },
  {
   "cell_type": "code",
   "execution_count": null,
   "id": "904e1b28",
   "metadata": {},
   "outputs": [],
   "source": []
  },
  {
   "cell_type": "code",
   "execution_count": null,
   "id": "0c3b2a12",
   "metadata": {},
   "outputs": [],
   "source": []
  },
  {
   "cell_type": "code",
   "execution_count": null,
   "id": "ee8867ce",
   "metadata": {},
   "outputs": [],
   "source": []
  },
  {
   "cell_type": "code",
   "execution_count": null,
   "id": "5fdb973c",
   "metadata": {},
   "outputs": [],
   "source": []
  },
  {
   "cell_type": "code",
   "execution_count": null,
   "id": "d06f1103",
   "metadata": {},
   "outputs": [],
   "source": []
  },
  {
   "cell_type": "code",
   "execution_count": null,
   "id": "a3fbe57d",
   "metadata": {},
   "outputs": [],
   "source": []
  },
  {
   "cell_type": "code",
   "execution_count": null,
   "id": "ba2b8faf",
   "metadata": {},
   "outputs": [],
   "source": []
  },
  {
   "cell_type": "code",
   "execution_count": null,
   "id": "08f93220",
   "metadata": {},
   "outputs": [],
   "source": []
  },
  {
   "cell_type": "code",
   "execution_count": null,
   "id": "9fba715c",
   "metadata": {},
   "outputs": [],
   "source": []
  },
  {
   "cell_type": "code",
   "execution_count": null,
   "id": "01f02c89",
   "metadata": {},
   "outputs": [],
   "source": []
  },
  {
   "cell_type": "code",
   "execution_count": null,
   "id": "bba749b5",
   "metadata": {},
   "outputs": [],
   "source": []
  }
 ],
 "metadata": {
  "kernelspec": {
   "display_name": "Python 3 (ipykernel)",
   "language": "python",
   "name": "python3"
  },
  "language_info": {
   "codemirror_mode": {
    "name": "ipython",
    "version": 3
   },
   "file_extension": ".py",
   "mimetype": "text/x-python",
   "name": "python",
   "nbconvert_exporter": "python",
   "pygments_lexer": "ipython3",
   "version": "3.11.5"
  }
 },
 "nbformat": 4,
 "nbformat_minor": 5
}
