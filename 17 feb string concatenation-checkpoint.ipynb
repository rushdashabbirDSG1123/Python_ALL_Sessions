{
 "cells": [
  {
   "cell_type": "markdown",
   "id": "d9dddaab",
   "metadata": {},
   "source": [
    "# string concatenation"
   ]
  },
  {
   "cell_type": "code",
   "execution_count": 2,
   "id": "1817ca1a",
   "metadata": {},
   "outputs": [
    {
     "data": {
      "text/plain": [
       "'Hello World'"
      ]
     },
     "execution_count": 2,
     "metadata": {},
     "output_type": "execute_result"
    }
   ],
   "source": [
    "\"Hello\"+ \" World\""
   ]
  },
  {
   "cell_type": "code",
   "execution_count": 3,
   "id": "9065d910",
   "metadata": {},
   "outputs": [
    {
     "data": {
      "text/plain": [
       "'Elonmusk'"
      ]
     },
     "execution_count": 3,
     "metadata": {},
     "output_type": "execute_result"
    }
   ],
   "source": [
    "\"Elon\"+\"musk\""
   ]
  },
  {
   "cell_type": "code",
   "execution_count": 5,
   "id": "f36f1dda",
   "metadata": {},
   "outputs": [
    {
     "data": {
      "text/plain": [
       "'Elonmusk is the First CEO OF X Campany'"
      ]
     },
     "execution_count": 5,
     "metadata": {},
     "output_type": "execute_result"
    }
   ],
   "source": [
    "\"Elon\"+\"musk\"+\" is the First\"+\" CEO OF X Campany\""
   ]
  },
  {
   "cell_type": "code",
   "execution_count": 6,
   "id": "affb2bb0",
   "metadata": {},
   "outputs": [
    {
     "data": {
      "text/plain": [
       "'Green land'"
      ]
     },
     "execution_count": 6,
     "metadata": {},
     "output_type": "execute_result"
    }
   ],
   "source": [
    "'Green'+' land'"
   ]
  },
  {
   "cell_type": "code",
   "execution_count": 7,
   "id": "4201cc09",
   "metadata": {},
   "outputs": [
    {
     "data": {
      "text/plain": [
       "16"
      ]
     },
     "execution_count": 7,
     "metadata": {},
     "output_type": "execute_result"
    }
   ],
   "source": [
    "14+2"
   ]
  },
  {
   "cell_type": "code",
   "execution_count": 8,
   "id": "fd9126d4",
   "metadata": {},
   "outputs": [
    {
     "data": {
      "text/plain": [
       "'142'"
      ]
     },
     "execution_count": 8,
     "metadata": {},
     "output_type": "execute_result"
    }
   ],
   "source": [
    "'14'+'2'"
   ]
  },
  {
   "cell_type": "code",
   "execution_count": 9,
   "id": "a72b9f74",
   "metadata": {},
   "outputs": [],
   "source": [
    "a=78"
   ]
  },
  {
   "cell_type": "code",
   "execution_count": 10,
   "id": "62f72218",
   "metadata": {},
   "outputs": [
    {
     "data": {
      "text/plain": [
       "78"
      ]
     },
     "execution_count": 10,
     "metadata": {},
     "output_type": "execute_result"
    }
   ],
   "source": [
    "a"
   ]
  },
  {
   "cell_type": "code",
   "execution_count": 11,
   "id": "ba267b25",
   "metadata": {},
   "outputs": [],
   "source": [
    "country='france'"
   ]
  },
  {
   "cell_type": "code",
   "execution_count": 12,
   "id": "fc07e866",
   "metadata": {},
   "outputs": [
    {
     "data": {
      "text/plain": [
       "'france'"
      ]
     },
     "execution_count": 12,
     "metadata": {},
     "output_type": "execute_result"
    }
   ],
   "source": [
    "country"
   ]
  },
  {
   "cell_type": "markdown",
   "id": "ed49a295",
   "metadata": {},
   "source": [
    "# User Input"
   ]
  },
  {
   "cell_type": "code",
   "execution_count": 31,
   "id": "8be244b6",
   "metadata": {},
   "outputs": [
    {
     "name": "stdout",
     "output_type": "stream",
     "text": [
      "enter any country nameUS\n"
     ]
    }
   ],
   "source": [
    "Country=input('enter any country name')"
   ]
  },
  {
   "cell_type": "code",
   "execution_count": 32,
   "id": "849dcd19",
   "metadata": {},
   "outputs": [
    {
     "data": {
      "text/plain": [
       "'US'"
      ]
     },
     "execution_count": 32,
     "metadata": {},
     "output_type": "execute_result"
    }
   ],
   "source": [
    "Country"
   ]
  },
  {
   "cell_type": "code",
   "execution_count": 3,
   "id": "3ac93dea",
   "metadata": {},
   "outputs": [
    {
     "name": "stdout",
     "output_type": "stream",
     "text": [
      "Enter any city namedehli\n"
     ]
    }
   ],
   "source": [
    "City=input('Enter any city name')"
   ]
  },
  {
   "cell_type": "code",
   "execution_count": 6,
   "id": "2f45eb48",
   "metadata": {},
   "outputs": [
    {
     "data": {
      "text/plain": [
       "'dehli'"
      ]
     },
     "execution_count": 6,
     "metadata": {},
     "output_type": "execute_result"
    }
   ],
   "source": [
    "City"
   ]
  },
  {
   "cell_type": "code",
   "execution_count": 1,
   "id": "48f273ef",
   "metadata": {},
   "outputs": [
    {
     "name": "stdout",
     "output_type": "stream",
     "text": [
      "enter the value of a10\n"
     ]
    }
   ],
   "source": [
    "a=input('enter the value of a')"
   ]
  },
  {
   "cell_type": "code",
   "execution_count": 2,
   "id": "586193fe",
   "metadata": {},
   "outputs": [
    {
     "data": {
      "text/plain": [
       "'10'"
      ]
     },
     "execution_count": 2,
     "metadata": {},
     "output_type": "execute_result"
    }
   ],
   "source": [
    "a"
   ]
  },
  {
   "cell_type": "code",
   "execution_count": 3,
   "id": "5a5f56f7",
   "metadata": {},
   "outputs": [
    {
     "name": "stdout",
     "output_type": "stream",
     "text": [
      "enter the value of b80\n"
     ]
    }
   ],
   "source": [
    "b=input(\"enter the value of b\")"
   ]
  },
  {
   "cell_type": "code",
   "execution_count": 4,
   "id": "694cd0e4",
   "metadata": {},
   "outputs": [
    {
     "data": {
      "text/plain": [
       "'80'"
      ]
     },
     "execution_count": 4,
     "metadata": {},
     "output_type": "execute_result"
    }
   ],
   "source": [
    "b"
   ]
  },
  {
   "cell_type": "code",
   "execution_count": 5,
   "id": "e833ca19",
   "metadata": {},
   "outputs": [
    {
     "data": {
      "text/plain": [
       "'1080'"
      ]
     },
     "execution_count": 5,
     "metadata": {},
     "output_type": "execute_result"
    }
   ],
   "source": [
    "a+b"
   ]
  },
  {
   "cell_type": "markdown",
   "id": "1ee228ab",
   "metadata": {},
   "source": [
    "# typecasting"
   ]
  },
  {
   "cell_type": "code",
   "execution_count": 6,
   "id": "f52a0aed",
   "metadata": {
    "scrolled": true
   },
   "outputs": [
    {
     "data": {
      "text/plain": [
       "90"
      ]
     },
     "execution_count": 6,
     "metadata": {},
     "output_type": "execute_result"
    }
   ],
   "source": [
    "int(a)+int(b)"
   ]
  },
  {
   "cell_type": "code",
   "execution_count": 7,
   "id": "275baf62",
   "metadata": {},
   "outputs": [],
   "source": [
    "p=75"
   ]
  },
  {
   "cell_type": "code",
   "execution_count": 11,
   "id": "9c6fa363",
   "metadata": {},
   "outputs": [
    {
     "data": {
      "text/plain": [
       "int"
      ]
     },
     "execution_count": 11,
     "metadata": {},
     "output_type": "execute_result"
    }
   ],
   "source": [
    "type(p)"
   ]
  },
  {
   "cell_type": "code",
   "execution_count": 8,
   "id": "ed5e4f82",
   "metadata": {},
   "outputs": [
    {
     "data": {
      "text/plain": [
       "75"
      ]
     },
     "execution_count": 8,
     "metadata": {},
     "output_type": "execute_result"
    }
   ],
   "source": [
    "p"
   ]
  },
  {
   "cell_type": "code",
   "execution_count": 9,
   "id": "9ba39abf",
   "metadata": {},
   "outputs": [
    {
     "data": {
      "text/plain": [
       "75.0"
      ]
     },
     "execution_count": 9,
     "metadata": {},
     "output_type": "execute_result"
    }
   ],
   "source": [
    "float(p)"
   ]
  },
  {
   "cell_type": "code",
   "execution_count": 12,
   "id": "3f0ba810",
   "metadata": {},
   "outputs": [],
   "source": [
    "h=10.2"
   ]
  },
  {
   "cell_type": "code",
   "execution_count": 13,
   "id": "960c8d92",
   "metadata": {},
   "outputs": [
    {
     "data": {
      "text/plain": [
       "float"
      ]
     },
     "execution_count": 13,
     "metadata": {},
     "output_type": "execute_result"
    }
   ],
   "source": [
    "type(h)"
   ]
  },
  {
   "cell_type": "code",
   "execution_count": 14,
   "id": "d42b37ca",
   "metadata": {},
   "outputs": [
    {
     "data": {
      "text/plain": [
       "10"
      ]
     },
     "execution_count": 14,
     "metadata": {},
     "output_type": "execute_result"
    }
   ],
   "source": [
    "int(h)"
   ]
  },
  {
   "cell_type": "code",
   "execution_count": 15,
   "id": "aaeb7d42",
   "metadata": {},
   "outputs": [],
   "source": [
    "g=\"14\""
   ]
  },
  {
   "cell_type": "code",
   "execution_count": 16,
   "id": "b1d447ed",
   "metadata": {},
   "outputs": [
    {
     "data": {
      "text/plain": [
       "'14'"
      ]
     },
     "execution_count": 16,
     "metadata": {},
     "output_type": "execute_result"
    }
   ],
   "source": [
    "g"
   ]
  },
  {
   "cell_type": "code",
   "execution_count": 17,
   "id": "aa12dcce",
   "metadata": {},
   "outputs": [
    {
     "data": {
      "text/plain": [
       "str"
      ]
     },
     "execution_count": 17,
     "metadata": {},
     "output_type": "execute_result"
    }
   ],
   "source": [
    "type(g)"
   ]
  },
  {
   "cell_type": "code",
   "execution_count": 20,
   "id": "5d8fc7d0",
   "metadata": {},
   "outputs": [],
   "source": [
    "s=int(g) here we assign the value"
   ]
  },
  {
   "cell_type": "code",
   "execution_count": 21,
   "id": "cf1158b6",
   "metadata": {},
   "outputs": [
    {
     "data": {
      "text/plain": [
       "14"
      ]
     },
     "execution_count": 21,
     "metadata": {},
     "output_type": "execute_result"
    }
   ],
   "source": [
    "s"
   ]
  },
  {
   "cell_type": "code",
   "execution_count": 22,
   "id": "70be6263",
   "metadata": {},
   "outputs": [
    {
     "data": {
      "text/plain": [
       "int"
      ]
     },
     "execution_count": 22,
     "metadata": {},
     "output_type": "execute_result"
    }
   ],
   "source": [
    "type(s)"
   ]
  },
  {
   "cell_type": "markdown",
   "id": "623344a7",
   "metadata": {},
   "source": [
    "Are of rectangle\n",
    "Length=75\n",
    "Breadth=24\n",
    "Are of rec =Length*breadth"
   ]
  },
  {
   "cell_type": "code",
   "execution_count": 36,
   "id": "405b98b2",
   "metadata": {},
   "outputs": [
    {
     "name": "stdout",
     "output_type": "stream",
     "text": [
      "enter length75\n"
     ]
    }
   ],
   "source": [
    "length=int(input('enter length'))"
   ]
  },
  {
   "cell_type": "code",
   "execution_count": 37,
   "id": "d5199ecd",
   "metadata": {},
   "outputs": [
    {
     "data": {
      "text/plain": [
       "75"
      ]
     },
     "execution_count": 37,
     "metadata": {},
     "output_type": "execute_result"
    }
   ],
   "source": [
    "length"
   ]
  },
  {
   "cell_type": "code",
   "execution_count": 38,
   "id": "61a5ef1b",
   "metadata": {},
   "outputs": [
    {
     "data": {
      "text/plain": [
       "int"
      ]
     },
     "execution_count": 38,
     "metadata": {},
     "output_type": "execute_result"
    }
   ],
   "source": [
    "type(length)"
   ]
  },
  {
   "cell_type": "code",
   "execution_count": 39,
   "id": "a6a77d9d",
   "metadata": {},
   "outputs": [
    {
     "name": "stdout",
     "output_type": "stream",
     "text": [
      "enter breadth24\n"
     ]
    }
   ],
   "source": [
    "breadth=int(input('enter breadth'))"
   ]
  },
  {
   "cell_type": "code",
   "execution_count": 40,
   "id": "d9aa15b3",
   "metadata": {},
   "outputs": [
    {
     "data": {
      "text/plain": [
       "24"
      ]
     },
     "execution_count": 40,
     "metadata": {},
     "output_type": "execute_result"
    }
   ],
   "source": [
    "breadth"
   ]
  },
  {
   "cell_type": "code",
   "execution_count": 41,
   "id": "d12a9464",
   "metadata": {},
   "outputs": [
    {
     "data": {
      "text/plain": [
       "int"
      ]
     },
     "execution_count": 41,
     "metadata": {},
     "output_type": "execute_result"
    }
   ],
   "source": [
    "type(breadth)"
   ]
  },
  {
   "cell_type": "code",
   "execution_count": 48,
   "id": "16aede00",
   "metadata": {},
   "outputs": [],
   "source": [
    "Area=length*breadth"
   ]
  },
  {
   "cell_type": "code",
   "execution_count": 49,
   "id": "65e0c3a0",
   "metadata": {},
   "outputs": [
    {
     "data": {
      "text/plain": [
       "1800"
      ]
     },
     "execution_count": 49,
     "metadata": {},
     "output_type": "execute_result"
    }
   ],
   "source": [
    "Area"
   ]
  },
  {
   "cell_type": "markdown",
   "id": "3666015b",
   "metadata": {},
   "source": [
    "Area of a circle"
   ]
  },
  {
   "cell_type": "code",
   "execution_count": 65,
   "id": "0d08e561",
   "metadata": {},
   "outputs": [
    {
     "name": "stdout",
     "output_type": "stream",
     "text": [
      "enter of radius78.45\n",
      "radius= 78.45\n",
      "are of circle is= 19324.82385\n",
      "are of circle is= 19324.82\n"
     ]
    }
   ],
   "source": [
    "pi=3.14\n",
    "\n",
    "radius=float(input('enter of radius'))\n",
    "print(\"radius=\",radius)\n",
    "\n",
    "area=pi*(radius**2)\n",
    "print ('are of circle is=',area)\n",
    "print ('are of circle is=', round(area,2))"
   ]
  },
  {
   "cell_type": "code",
   "execution_count": 60,
   "id": "5052de02",
   "metadata": {},
   "outputs": [
    {
     "data": {
      "text/plain": [
       "float"
      ]
     },
     "execution_count": 60,
     "metadata": {},
     "output_type": "execute_result"
    }
   ],
   "source": [
    "type(radius)"
   ]
  },
  {
   "cell_type": "markdown",
   "id": "74c76d85",
   "metadata": {},
   "source": [
    "# Data structure\n",
    "data structure are the 4 types\n",
    "1. list\n",
    "2.tuples\n",
    "3.dictionery\n",
    "4.sets\n",
    "data structure are the basically collection of elements or collection of datas,"
   ]
  },
  {
   "cell_type": "markdown",
   "id": "371daa5e",
   "metadata": {},
   "source": [
    "1.List "
   ]
  },
  {
   "cell_type": "code",
   "execution_count": 66,
   "id": "9aef8e34",
   "metadata": {},
   "outputs": [],
   "source": [
    "list1=[]"
   ]
  },
  {
   "cell_type": "code",
   "execution_count": 67,
   "id": "09c06bc7",
   "metadata": {},
   "outputs": [
    {
     "data": {
      "text/plain": [
       "[]"
      ]
     },
     "execution_count": 67,
     "metadata": {},
     "output_type": "execute_result"
    }
   ],
   "source": [
    "list1"
   ]
  },
  {
   "cell_type": "code",
   "execution_count": 68,
   "id": "8da80e4a",
   "metadata": {},
   "outputs": [],
   "source": [
    "list2=[1,2,3,4,5,6,7,8,9,] ist integers list "
   ]
  },
  {
   "cell_type": "code",
   "execution_count": 69,
   "id": "c5ba5b32",
   "metadata": {},
   "outputs": [
    {
     "data": {
      "text/plain": [
       "[1, 2, 3, 4, 5, 6, 7, 8, 9]"
      ]
     },
     "execution_count": 69,
     "metadata": {},
     "output_type": "execute_result"
    }
   ],
   "source": [
    "list2"
   ]
  },
  {
   "cell_type": "code",
   "execution_count": 70,
   "id": "38d5c009",
   "metadata": {},
   "outputs": [],
   "source": [
    "list3=[55,11,22,33,45,67,89]"
   ]
  },
  {
   "cell_type": "code",
   "execution_count": 71,
   "id": "48648a6d",
   "metadata": {},
   "outputs": [
    {
     "data": {
      "text/plain": [
       "[55, 11, 22, 33, 45, 67, 89]"
      ]
     },
     "execution_count": 71,
     "metadata": {},
     "output_type": "execute_result"
    }
   ],
   "source": [
    "list3"
   ]
  },
  {
   "cell_type": "code",
   "execution_count": 73,
   "id": "68adbb6a",
   "metadata": {},
   "outputs": [],
   "source": [
    "list4=[34.5,42.3,55.2,66.2,89.0] its float list"
   ]
  },
  {
   "cell_type": "code",
   "execution_count": 74,
   "id": "8e529874",
   "metadata": {},
   "outputs": [
    {
     "data": {
      "text/plain": [
       "[34.5, 42.3, 55.2, 66.2, 89.0]"
      ]
     },
     "execution_count": 74,
     "metadata": {},
     "output_type": "execute_result"
    }
   ],
   "source": [
    "list4"
   ]
  },
  {
   "cell_type": "code",
   "execution_count": 75,
   "id": "af1f0717",
   "metadata": {},
   "outputs": [],
   "source": [
    "list5=['A','B','C','D','E','F'] its character list"
   ]
  },
  {
   "cell_type": "code",
   "execution_count": 76,
   "id": "b9985c24",
   "metadata": {},
   "outputs": [
    {
     "data": {
      "text/plain": [
       "['A', 'B', 'C', 'D', 'E', 'F']"
      ]
     },
     "execution_count": 76,
     "metadata": {},
     "output_type": "execute_result"
    }
   ],
   "source": [
    "list5"
   ]
  },
  {
   "cell_type": "code",
   "execution_count": 77,
   "id": "48e3b95d",
   "metadata": {},
   "outputs": [],
   "source": [
    "list6=['pen','rubber','book','notebook'] its string list"
   ]
  },
  {
   "cell_type": "code",
   "execution_count": 78,
   "id": "820d0acf",
   "metadata": {},
   "outputs": [
    {
     "data": {
      "text/plain": [
       "['pen', 'rubber', 'book', 'notebook']"
      ]
     },
     "execution_count": 78,
     "metadata": {},
     "output_type": "execute_result"
    }
   ],
   "source": [
    "list6"
   ]
  },
  {
   "cell_type": "code",
   "execution_count": 79,
   "id": "da4df46a",
   "metadata": {},
   "outputs": [],
   "source": [
    "list7=[44,34,2,'A',\"B\",\"pencil\",True] its mix of datatypes list"
   ]
  },
  {
   "cell_type": "code",
   "execution_count": 80,
   "id": "67b9d0a1",
   "metadata": {},
   "outputs": [
    {
     "data": {
      "text/plain": [
       "[44, 34, 2, 'A', 'B', 'pencil', True]"
      ]
     },
     "execution_count": 80,
     "metadata": {},
     "output_type": "execute_result"
    }
   ],
   "source": [
    "list7"
   ]
  },
  {
   "cell_type": "markdown",
   "id": "2c06d3d8",
   "metadata": {},
   "source": [
    "# Indexing , positive indexing"
   ]
  },
  {
   "cell_type": "code",
   "execution_count": 81,
   "id": "1aa03539",
   "metadata": {},
   "outputs": [
    {
     "data": {
      "text/plain": [
       "55"
      ]
     },
     "execution_count": 81,
     "metadata": {},
     "output_type": "execute_result"
    }
   ],
   "source": [
    "list3[0]"
   ]
  },
  {
   "cell_type": "code",
   "execution_count": 83,
   "id": "70e5809f",
   "metadata": {},
   "outputs": [
    {
     "data": {
      "text/plain": [
       "33"
      ]
     },
     "execution_count": 83,
     "metadata": {},
     "output_type": "execute_result"
    }
   ],
   "source": [
    "list3[3]"
   ]
  },
  {
   "cell_type": "markdown",
   "id": "1afecdb2",
   "metadata": {},
   "source": [
    "# slicing "
   ]
  },
  {
   "cell_type": "code",
   "execution_count": 84,
   "id": "f5b176b1",
   "metadata": {},
   "outputs": [],
   "source": [
    "list8=[44,67,55,33,85,46,54,59]"
   ]
  },
  {
   "cell_type": "code",
   "execution_count": 85,
   "id": "0fea37ec",
   "metadata": {},
   "outputs": [
    {
     "data": {
      "text/plain": [
       "[44, 67, 55, 33, 85, 46, 54, 59]"
      ]
     },
     "execution_count": 85,
     "metadata": {},
     "output_type": "execute_result"
    }
   ],
   "source": [
    "list8"
   ]
  },
  {
   "cell_type": "code",
   "execution_count": 86,
   "id": "26b4df55",
   "metadata": {},
   "outputs": [
    {
     "data": {
      "text/plain": [
       "33"
      ]
     },
     "execution_count": 86,
     "metadata": {},
     "output_type": "execute_result"
    }
   ],
   "source": [
    "list8[3]"
   ]
  },
  {
   "cell_type": "code",
   "execution_count": 87,
   "id": "531bf0e3",
   "metadata": {},
   "outputs": [
    {
     "data": {
      "text/plain": [
       "[44, 67, 55, 33]"
      ]
     },
     "execution_count": 87,
     "metadata": {},
     "output_type": "execute_result"
    }
   ],
   "source": [
    "list8[0:4]"
   ]
  },
  {
   "cell_type": "code",
   "execution_count": 88,
   "id": "f87ac184",
   "metadata": {},
   "outputs": [
    {
     "data": {
      "text/plain": [
       "[55, 33, 85]"
      ]
     },
     "execution_count": 88,
     "metadata": {},
     "output_type": "execute_result"
    }
   ],
   "source": [
    "list8[2:5]"
   ]
  },
  {
   "cell_type": "markdown",
   "id": "2b26b19a",
   "metadata": {},
   "source": [
    "negative indexing its start from right to left direction or its not consider 0 its start from -1,"
   ]
  },
  {
   "cell_type": "code",
   "execution_count": 89,
   "id": "a76b9fde",
   "metadata": {},
   "outputs": [
    {
     "data": {
      "text/plain": [
       "54"
      ]
     },
     "execution_count": 89,
     "metadata": {},
     "output_type": "execute_result"
    }
   ],
   "source": [
    "list8[-2]"
   ]
  },
  {
   "cell_type": "code",
   "execution_count": 91,
   "id": "e695a19d",
   "metadata": {},
   "outputs": [
    {
     "data": {
      "text/plain": [
       "[33, 85]"
      ]
     },
     "execution_count": 91,
     "metadata": {},
     "output_type": "execute_result"
    }
   ],
   "source": [
    "list8[-5:-3]"
   ]
  },
  {
   "cell_type": "code",
   "execution_count": null,
   "id": "4df67f7e",
   "metadata": {},
   "outputs": [],
   "source": [
    " "
   ]
  },
  {
   "cell_type": "code",
   "execution_count": null,
   "id": "f307bc12",
   "metadata": {},
   "outputs": [],
   "source": []
  }
 ],
 "metadata": {
  "kernelspec": {
   "display_name": "Python 3 (ipykernel)",
   "language": "python",
   "name": "python3"
  },
  "language_info": {
   "codemirror_mode": {
    "name": "ipython",
    "version": 3
   },
   "file_extension": ".py",
   "mimetype": "text/x-python",
   "name": "python",
   "nbconvert_exporter": "python",
   "pygments_lexer": "ipython3",
   "version": "3.11.5"
  }
 },
 "nbformat": 4,
 "nbformat_minor": 5
}
