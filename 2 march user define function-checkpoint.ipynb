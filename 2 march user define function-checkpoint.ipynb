{
 "cells": [
  {
   "cell_type": "markdown",
   "id": "61ba3d6d",
   "metadata": {},
   "source": [
    "# Function Userdefine function"
   ]
  },
  {
   "cell_type": "code",
   "execution_count": null,
   "id": "f03f7186",
   "metadata": {},
   "outputs": [],
   "source": [
    "# function defination\n",
    "\n",
    "\n",
    "def function1():\n",
    "    print(\"am in function\")"
   ]
  },
  {
   "cell_type": "code",
   "execution_count": 7,
   "id": "4937574a",
   "metadata": {},
   "outputs": [
    {
     "name": "stdout",
     "output_type": "stream",
     "text": [
      "am in function\n"
     ]
    }
   ],
   "source": [
    "# function calling\n",
    "\n",
    "function1()"
   ]
  },
  {
   "cell_type": "code",
   "execution_count": 8,
   "id": "733206c1",
   "metadata": {},
   "outputs": [],
   "source": [
    "def function2():\n",
    "    print(\"am in Function2\")"
   ]
  },
  {
   "cell_type": "code",
   "execution_count": 9,
   "id": "86959b80",
   "metadata": {},
   "outputs": [
    {
     "name": "stdout",
     "output_type": "stream",
     "text": [
      "am in Function2\n"
     ]
    }
   ],
   "source": [
    "function2()"
   ]
  },
  {
   "cell_type": "code",
   "execution_count": 10,
   "id": "906aed86",
   "metadata": {},
   "outputs": [],
   "source": [
    "def function3():\n",
    "    print(\"hello learning to write function\")"
   ]
  },
  {
   "cell_type": "code",
   "execution_count": 11,
   "id": "67918c0d",
   "metadata": {},
   "outputs": [
    {
     "name": "stdout",
     "output_type": "stream",
     "text": [
      "hello learning to write function\n"
     ]
    }
   ],
   "source": [
    "function3()"
   ]
  },
  {
   "cell_type": "code",
   "execution_count": 12,
   "id": "8f8a1895",
   "metadata": {},
   "outputs": [],
   "source": [
    "def function4():\n",
    "    print(\"function are modular chunk\")\n",
    "    print(\"enjoying function writing\")"
   ]
  },
  {
   "cell_type": "code",
   "execution_count": 14,
   "id": "b3dad9f3",
   "metadata": {},
   "outputs": [
    {
     "name": "stdout",
     "output_type": "stream",
     "text": [
      "function are modular chunk\n",
      "enjoying function writing\n"
     ]
    }
   ],
   "source": [
    "function4()"
   ]
  },
  {
   "cell_type": "code",
   "execution_count": 16,
   "id": "5f94b5a4",
   "metadata": {},
   "outputs": [],
   "source": [
    "  def myfunction():\n",
    "        print('inside the function')"
   ]
  },
  {
   "cell_type": "code",
   "execution_count": 18,
   "id": "5f1e21ab",
   "metadata": {},
   "outputs": [
    {
     "name": "stdout",
     "output_type": "stream",
     "text": [
      "inside the function\n"
     ]
    }
   ],
   "source": [
    "myfunction()"
   ]
  },
  {
   "cell_type": "code",
   "execution_count": 19,
   "id": "a1f5a4fb",
   "metadata": {},
   "outputs": [],
   "source": [
    "def addfunction():\n",
    "    a=10\n",
    "    b=20\n",
    "    c=a+b\n",
    "    print(\"the sum is =\",c)"
   ]
  },
  {
   "cell_type": "code",
   "execution_count": 20,
   "id": "0ddd5c7d",
   "metadata": {},
   "outputs": [
    {
     "name": "stdout",
     "output_type": "stream",
     "text": [
      "the sum is = 30\n"
     ]
    }
   ],
   "source": [
    "addfunction()"
   ]
  },
  {
   "cell_type": "code",
   "execution_count": 25,
   "id": "e12cb198",
   "metadata": {},
   "outputs": [],
   "source": [
    "def divisionfunc():\n",
    "    a=80\n",
    "    b=5\n",
    "    c=a/b\n",
    "    print(\"the division is =\",c)"
   ]
  },
  {
   "cell_type": "code",
   "execution_count": 26,
   "id": "85408ce0",
   "metadata": {},
   "outputs": [
    {
     "name": "stdout",
     "output_type": "stream",
     "text": [
      "the division is = 16.0\n"
     ]
    }
   ],
   "source": [
    "divisionfunc()"
   ]
  },
  {
   "cell_type": "code",
   "execution_count": 23,
   "id": "4e8d42b1",
   "metadata": {},
   "outputs": [],
   "source": [
    "def subfunction():\n",
    "    a=80\n",
    "    b=5\n",
    "    c=a-b\n",
    "    print(\"the subtraction is =\",c)"
   ]
  },
  {
   "cell_type": "code",
   "execution_count": 24,
   "id": "a37cbbb1",
   "metadata": {},
   "outputs": [
    {
     "name": "stdout",
     "output_type": "stream",
     "text": [
      "the subtraction is = 75\n"
     ]
    }
   ],
   "source": [
    "subfunction()"
   ]
  },
  {
   "cell_type": "code",
   "execution_count": 27,
   "id": "10bf9547",
   "metadata": {},
   "outputs": [],
   "source": [
    "def multyfunction():\n",
    "    a=80\n",
    "    b=5\n",
    "    c=a*b\n",
    "    print(\"the subtraction is =\",c)"
   ]
  },
  {
   "cell_type": "code",
   "execution_count": 28,
   "id": "0606120e",
   "metadata": {},
   "outputs": [
    {
     "name": "stdout",
     "output_type": "stream",
     "text": [
      "the subtraction is = 400\n"
     ]
    }
   ],
   "source": [
    "multyfunction()"
   ]
  },
  {
   "cell_type": "code",
   "execution_count": 33,
   "id": "426aef0b",
   "metadata": {},
   "outputs": [],
   "source": [
    "def squre_function():\n",
    "    a=5\n",
    "    b=a**2\n",
    "    print(\"the squre of 5 is =\",b)"
   ]
  },
  {
   "cell_type": "code",
   "execution_count": 34,
   "id": "104485e1",
   "metadata": {},
   "outputs": [
    {
     "name": "stdout",
     "output_type": "stream",
     "text": [
      "the squre of 5 is = 25\n"
     ]
    }
   ],
   "source": [
    "squre_function()"
   ]
  },
  {
   "cell_type": "code",
   "execution_count": 40,
   "id": "c45f634b",
   "metadata": {},
   "outputs": [],
   "source": [
    "def rectarea_func():\n",
    "    length= int(input(\"enter length\"))\n",
    "    breadth=int(input(\"enter breadth\"))\n",
    "    area= length*breadth\n",
    "    print(\"are of rectangle\",area)\n",
    "    "
   ]
  },
  {
   "cell_type": "code",
   "execution_count": 41,
   "id": "c65657b6",
   "metadata": {},
   "outputs": [
    {
     "name": "stdout",
     "output_type": "stream",
     "text": [
      "enter length50\n",
      "enter breadth20\n",
      "are of rectangle 1000\n"
     ]
    }
   ],
   "source": [
    "rectarea_func()"
   ]
  },
  {
   "cell_type": "code",
   "execution_count": 44,
   "id": "6ff7e419",
   "metadata": {},
   "outputs": [],
   "source": [
    "def area_circle_function():\n",
    "    pi=float(input(\"enter pi value\"))\n",
    "    radius=float(input(\"enter radius value\"))\n",
    "    area_circle=pi*(radius**2)\n",
    "    print('are of circle is =',area_circle)"
   ]
  },
  {
   "cell_type": "code",
   "execution_count": 46,
   "id": "4a619c45",
   "metadata": {},
   "outputs": [
    {
     "name": "stdout",
     "output_type": "stream",
     "text": [
      "enter pi value3.14\n",
      "enter radius value22\n",
      "are of circle is = 1519.76\n"
     ]
    }
   ],
   "source": [
    "area_circle_function()"
   ]
  },
  {
   "cell_type": "code",
   "execution_count": 1,
   "id": "7141d9e5",
   "metadata": {},
   "outputs": [],
   "source": [
    "def add_func(a,b):\n",
    "    c=a+b\n",
    "    print(\"sum =\",c)"
   ]
  },
  {
   "cell_type": "code",
   "execution_count": 2,
   "id": "6cdae9b1",
   "metadata": {},
   "outputs": [
    {
     "name": "stdout",
     "output_type": "stream",
     "text": [
      "sum = 33\n"
     ]
    }
   ],
   "source": [
    "add_func(15,18)"
   ]
  },
  {
   "cell_type": "code",
   "execution_count": 7,
   "id": "c94644ca",
   "metadata": {},
   "outputs": [],
   "source": [
    "def sub_func(a,b):\n",
    "    c=a-b\n",
    "    print(\"sub =\",c)"
   ]
  },
  {
   "cell_type": "code",
   "execution_count": 8,
   "id": "b79d7589",
   "metadata": {},
   "outputs": [
    {
     "name": "stdout",
     "output_type": "stream",
     "text": [
      "sub = -81\n"
     ]
    }
   ],
   "source": [
    "sub_func(16,97)"
   ]
  },
  {
   "cell_type": "code",
   "execution_count": 9,
   "id": "8678271d",
   "metadata": {},
   "outputs": [],
   "source": [
    "def multy_func(a,b):\n",
    "    c=a*b\n",
    "    print(\"multy=\",c)"
   ]
  },
  {
   "cell_type": "code",
   "execution_count": 10,
   "id": "282a043e",
   "metadata": {},
   "outputs": [
    {
     "name": "stdout",
     "output_type": "stream",
     "text": [
      "multy= 450\n"
     ]
    }
   ],
   "source": [
    "multy_func(15,30)"
   ]
  },
  {
   "cell_type": "code",
   "execution_count": 12,
   "id": "53d89e06",
   "metadata": {},
   "outputs": [],
   "source": [
    "def area_rectangle_func(l,b):\n",
    "    area=l*b\n",
    "    print(\"area of rectangle =\",area)"
   ]
  },
  {
   "cell_type": "code",
   "execution_count": 13,
   "id": "947b856a",
   "metadata": {},
   "outputs": [
    {
     "name": "stdout",
     "output_type": "stream",
     "text": [
      "area of rectangle = 525\n"
     ]
    }
   ],
   "source": [
    "area_rectangle_func(35,15)"
   ]
  },
  {
   "cell_type": "code",
   "execution_count": 14,
   "id": "79f89b9c",
   "metadata": {},
   "outputs": [],
   "source": [
    "#perametric function with input user\n",
    "def area_rectf(l,b):\n",
    "    area=l*b\n",
    "    print(\"area of rectangle =\",area)"
   ]
  },
  {
   "cell_type": "code",
   "execution_count": 15,
   "id": "81c4e50f",
   "metadata": {},
   "outputs": [
    {
     "name": "stdout",
     "output_type": "stream",
     "text": [
      "enter any l value34\n",
      "enter any b value15\n",
      "area of rectangle = 510\n"
     ]
    }
   ],
   "source": [
    "l=int(input(\"enter any l value\"))\n",
    "b=int(input(\"enter any b value\"))\n",
    "area_rectf(l,b)"
   ]
  },
  {
   "cell_type": "code",
   "execution_count": null,
   "id": "1caf2b45",
   "metadata": {},
   "outputs": [],
   "source": []
  },
  {
   "cell_type": "code",
   "execution_count": null,
   "id": "76d1ca7f",
   "metadata": {},
   "outputs": [],
   "source": []
  },
  {
   "cell_type": "code",
   "execution_count": null,
   "id": "b1dec038",
   "metadata": {},
   "outputs": [],
   "source": []
  },
  {
   "cell_type": "code",
   "execution_count": null,
   "id": "d6201a5b",
   "metadata": {},
   "outputs": [],
   "source": []
  },
  {
   "cell_type": "code",
   "execution_count": null,
   "id": "32459cb6",
   "metadata": {},
   "outputs": [],
   "source": []
  },
  {
   "cell_type": "code",
   "execution_count": null,
   "id": "d152d6c9",
   "metadata": {},
   "outputs": [],
   "source": []
  },
  {
   "cell_type": "code",
   "execution_count": null,
   "id": "d05e80db",
   "metadata": {},
   "outputs": [],
   "source": []
  },
  {
   "cell_type": "code",
   "execution_count": null,
   "id": "33fbb05b",
   "metadata": {},
   "outputs": [],
   "source": []
  },
  {
   "cell_type": "code",
   "execution_count": null,
   "id": "f2855b13",
   "metadata": {},
   "outputs": [],
   "source": []
  },
  {
   "cell_type": "code",
   "execution_count": null,
   "id": "dabf7f79",
   "metadata": {},
   "outputs": [],
   "source": []
  },
  {
   "cell_type": "code",
   "execution_count": null,
   "id": "ba1edacb",
   "metadata": {},
   "outputs": [],
   "source": []
  },
  {
   "cell_type": "code",
   "execution_count": null,
   "id": "f7d437a9",
   "metadata": {},
   "outputs": [],
   "source": []
  },
  {
   "cell_type": "code",
   "execution_count": null,
   "id": "3b95c331",
   "metadata": {},
   "outputs": [],
   "source": []
  },
  {
   "cell_type": "code",
   "execution_count": null,
   "id": "38854ddf",
   "metadata": {},
   "outputs": [],
   "source": []
  },
  {
   "cell_type": "code",
   "execution_count": null,
   "id": "c06eda2a",
   "metadata": {},
   "outputs": [],
   "source": []
  }
 ],
 "metadata": {
  "kernelspec": {
   "display_name": "Python 3 (ipykernel)",
   "language": "python",
   "name": "python3"
  },
  "language_info": {
   "codemirror_mode": {
    "name": "ipython",
    "version": 3
   },
   "file_extension": ".py",
   "mimetype": "text/x-python",
   "name": "python",
   "nbconvert_exporter": "python",
   "pygments_lexer": "ipython3",
   "version": "3.11.5"
  }
 },
 "nbformat": 4,
 "nbformat_minor": 5
}
