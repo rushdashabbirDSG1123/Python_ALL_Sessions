{
 "cells": [
  {
   "cell_type": "markdown",
   "id": "44e4a974",
   "metadata": {},
   "source": [
    "# inner and outer function"
   ]
  },
  {
   "cell_type": "code",
   "execution_count": 6,
   "id": "48723eb7",
   "metadata": {},
   "outputs": [],
   "source": [
    "def addfun():\n",
    "    a=10\n",
    "    b=4\n",
    "    c=a+b\n",
    "    return c"
   ]
  },
  {
   "cell_type": "code",
   "execution_count": 7,
   "id": "6add3351",
   "metadata": {},
   "outputs": [],
   "source": [
    "def calculator_func():\n",
    "    addresult=addfun()\n",
    "    print(\"addition =\",addresult)"
   ]
  },
  {
   "cell_type": "code",
   "execution_count": 8,
   "id": "da17778e",
   "metadata": {},
   "outputs": [
    {
     "name": "stdout",
     "output_type": "stream",
     "text": [
      "addition = 14\n"
     ]
    }
   ],
   "source": [
    "calculator_func()"
   ]
  },
  {
   "cell_type": "code",
   "execution_count": 6,
   "id": "0c4cafae",
   "metadata": {},
   "outputs": [],
   "source": [
    "def addfun(a,b):\n",
    "    a=10\n",
    "    b=4\n",
    "    c=a+b\n",
    "    return c\n",
    "def minusfunc(a,b):\n",
    "    x=80\n",
    "    y=7\n",
    "    z=x-y\n",
    "    return z"
   ]
  },
  {
   "cell_type": "code",
   "execution_count": 9,
   "id": "a6191c94",
   "metadata": {},
   "outputs": [],
   "source": [
    "def calculatorfun3():\n",
    "    a=int(input('enter a'))\n",
    "    b=int(input(\"enter b\"))\n",
    "    addresult = addfun(a,b)\n",
    "    print(\"addition =\",addresult)\n",
    "    minusresult = minusfunc(a,b)\n",
    "    print(\"subtraction =\",minusresult)"
   ]
  },
  {
   "cell_type": "code",
   "execution_count": 10,
   "id": "8ed77370",
   "metadata": {},
   "outputs": [
    {
     "name": "stdout",
     "output_type": "stream",
     "text": [
      "enter a10\n",
      "enter b5\n",
      "addition = 14\n",
      "subtraction = 73\n"
     ]
    }
   ],
   "source": [
    "calculatorfun3()"
   ]
  },
  {
   "cell_type": "code",
   "execution_count": 30,
   "id": "542b7d7f",
   "metadata": {},
   "outputs": [],
   "source": [
    "# we can write this also\n",
    "\n",
    "def calculatorfun3():\n",
    "    addresult = addfun()\n",
    "    print(\"addition =\",addresult)\n",
    "    minusresult = minusfunc()\n",
    "    print(\"subtraction =\",minusresult)"
   ]
  },
  {
   "cell_type": "code",
   "execution_count": 31,
   "id": "e8194c76",
   "metadata": {},
   "outputs": [
    {
     "name": "stdout",
     "output_type": "stream",
     "text": [
      "addition = 14\n",
      "subtraction = 73\n"
     ]
    }
   ],
   "source": [
    "calculatorfun3()"
   ]
  },
  {
   "cell_type": "markdown",
   "id": "11b2a498",
   "metadata": {},
   "source": [
    "# Lambda function"
   ]
  },
  {
   "cell_type": "code",
   "execution_count": 34,
   "id": "5322a0b4",
   "metadata": {},
   "outputs": [
    {
     "data": {
      "text/plain": [
       "6"
      ]
     },
     "execution_count": 34,
     "metadata": {},
     "output_type": "execute_result"
    }
   ],
   "source": [
    "t=lambda x:x+2\n",
    "t(4)"
   ]
  },
  {
   "cell_type": "code",
   "execution_count": 35,
   "id": "5777a2bc",
   "metadata": {},
   "outputs": [
    {
     "data": {
      "text/plain": [
       "12"
      ]
     },
     "execution_count": 35,
     "metadata": {},
     "output_type": "execute_result"
    }
   ],
   "source": [
    "t(10)"
   ]
  },
  {
   "cell_type": "code",
   "execution_count": 36,
   "id": "943edb45",
   "metadata": {},
   "outputs": [
    {
     "data": {
      "text/plain": [
       "22"
      ]
     },
     "execution_count": 36,
     "metadata": {},
     "output_type": "execute_result"
    }
   ],
   "source": [
    "t(20)"
   ]
  },
  {
   "cell_type": "code",
   "execution_count": 37,
   "id": "8d040f80",
   "metadata": {},
   "outputs": [
    {
     "data": {
      "text/plain": [
       "12"
      ]
     },
     "execution_count": 37,
     "metadata": {},
     "output_type": "execute_result"
    }
   ],
   "source": [
    "j= lambda p:p+10\n",
    "j(2)"
   ]
  },
  {
   "cell_type": "code",
   "execution_count": 38,
   "id": "36068b07",
   "metadata": {},
   "outputs": [
    {
     "data": {
      "text/plain": [
       "50"
      ]
     },
     "execution_count": 38,
     "metadata": {},
     "output_type": "execute_result"
    }
   ],
   "source": [
    "j(40)"
   ]
  },
  {
   "cell_type": "code",
   "execution_count": 39,
   "id": "72a2d579",
   "metadata": {},
   "outputs": [
    {
     "data": {
      "text/plain": [
       "40"
      ]
     },
     "execution_count": 39,
     "metadata": {},
     "output_type": "execute_result"
    }
   ],
   "source": [
    "j= lambda p:p-10\n",
    "j(50)"
   ]
  },
  {
   "cell_type": "code",
   "execution_count": 40,
   "id": "04fcad42",
   "metadata": {},
   "outputs": [
    {
     "data": {
      "text/plain": [
       "200"
      ]
     },
     "execution_count": 40,
     "metadata": {},
     "output_type": "execute_result"
    }
   ],
   "source": [
    "j= lambda p:p*10\n",
    "j(20)"
   ]
  },
  {
   "cell_type": "code",
   "execution_count": 41,
   "id": "72c8def7",
   "metadata": {},
   "outputs": [
    {
     "data": {
      "text/plain": [
       "20"
      ]
     },
     "execution_count": 41,
     "metadata": {},
     "output_type": "execute_result"
    }
   ],
   "source": [
    "j(2)"
   ]
  },
  {
   "cell_type": "code",
   "execution_count": 44,
   "id": "bf5b7cf6",
   "metadata": {},
   "outputs": [
    {
     "data": {
      "text/plain": [
       "4"
      ]
     },
     "execution_count": 44,
     "metadata": {},
     "output_type": "execute_result"
    }
   ],
   "source": [
    "j= lambda p:p**2\n",
    "j(2)"
   ]
  },
  {
   "cell_type": "code",
   "execution_count": 45,
   "id": "21a1decd",
   "metadata": {},
   "outputs": [
    {
     "data": {
      "text/plain": [
       "25"
      ]
     },
     "execution_count": 45,
     "metadata": {},
     "output_type": "execute_result"
    }
   ],
   "source": [
    "j(5)"
   ]
  },
  {
   "cell_type": "code",
   "execution_count": 46,
   "id": "257a3b7b",
   "metadata": {},
   "outputs": [
    {
     "data": {
      "text/plain": [
       "49"
      ]
     },
     "execution_count": 46,
     "metadata": {},
     "output_type": "execute_result"
    }
   ],
   "source": [
    "j(7)"
   ]
  },
  {
   "cell_type": "code",
   "execution_count": 47,
   "id": "4bf2563e",
   "metadata": {},
   "outputs": [
    {
     "data": {
      "text/plain": [
       "144"
      ]
     },
     "execution_count": 47,
     "metadata": {},
     "output_type": "execute_result"
    }
   ],
   "source": [
    "j(12)"
   ]
  },
  {
   "cell_type": "code",
   "execution_count": 48,
   "id": "df764e08",
   "metadata": {},
   "outputs": [
    {
     "data": {
      "text/plain": [
       "27"
      ]
     },
     "execution_count": 48,
     "metadata": {},
     "output_type": "execute_result"
    }
   ],
   "source": [
    "t=lambda a, b:a+b\n",
    "t(12,15)"
   ]
  },
  {
   "cell_type": "code",
   "execution_count": 49,
   "id": "31a91dd0",
   "metadata": {},
   "outputs": [
    {
     "data": {
      "text/plain": [
       "5"
      ]
     },
     "execution_count": 49,
     "metadata": {},
     "output_type": "execute_result"
    }
   ],
   "source": [
    "t(2,3)"
   ]
  },
  {
   "cell_type": "markdown",
   "id": "643d8b93",
   "metadata": {},
   "source": [
    "# map function"
   ]
  },
  {
   "cell_type": "code",
   "execution_count": 12,
   "id": "5bd2c549",
   "metadata": {},
   "outputs": [],
   "source": [
    "list1=[10,20,30,40,50,60]\n",
    "\n",
    "var=filter(lambda x:x>40,list1)"
   ]
  },
  {
   "cell_type": "code",
   "execution_count": 13,
   "id": "60070d76",
   "metadata": {},
   "outputs": [
    {
     "name": "stdout",
     "output_type": "stream",
     "text": [
      "[50, 60]\n"
     ]
    }
   ],
   "source": [
    "print(list(var))"
   ]
  },
  {
   "cell_type": "code",
   "execution_count": 14,
   "id": "e4b40787",
   "metadata": {},
   "outputs": [],
   "source": [
    "list2=[10,20,30,40,50,60]\n",
    "list3=map(lambda x:x*5,list2)"
   ]
  },
  {
   "cell_type": "code",
   "execution_count": 18,
   "id": "4817b31b",
   "metadata": {},
   "outputs": [
    {
     "name": "stdout",
     "output_type": "stream",
     "text": [
      "[50, 100, 150, 200, 250, 300]\n"
     ]
    }
   ],
   "source": [
    "print(list(list3))"
   ]
  },
  {
   "cell_type": "code",
   "execution_count": 19,
   "id": "ba3a8b29",
   "metadata": {},
   "outputs": [],
   "source": [
    "mylist=[10,20,30,40,50,60]\n",
    "list8=filter(lambda x:x>40,mylist)"
   ]
  },
  {
   "cell_type": "code",
   "execution_count": 20,
   "id": "52118fbb",
   "metadata": {},
   "outputs": [
    {
     "name": "stdout",
     "output_type": "stream",
     "text": [
      "[50, 60]\n"
     ]
    }
   ],
   "source": [
    "print(list(list8))"
   ]
  },
  {
   "cell_type": "code",
   "execution_count": null,
   "id": "6db1a911",
   "metadata": {},
   "outputs": [],
   "source": []
  },
  {
   "cell_type": "code",
   "execution_count": null,
   "id": "2d6e9ce2",
   "metadata": {},
   "outputs": [],
   "source": []
  }
 ],
 "metadata": {
  "kernelspec": {
   "display_name": "Python 3 (ipykernel)",
   "language": "python",
   "name": "python3"
  },
  "language_info": {
   "codemirror_mode": {
    "name": "ipython",
    "version": 3
   },
   "file_extension": ".py",
   "mimetype": "text/x-python",
   "name": "python",
   "nbconvert_exporter": "python",
   "pygments_lexer": "ipython3",
   "version": "3.11.5"
  }
 },
 "nbformat": 4,
 "nbformat_minor": 5
}
