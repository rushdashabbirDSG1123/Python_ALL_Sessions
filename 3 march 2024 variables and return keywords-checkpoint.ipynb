{
 "cells": [
  {
   "cell_type": "markdown",
   "id": "f3e5679b",
   "metadata": {},
   "source": [
    "# variables"
   ]
  },
  {
   "cell_type": "code",
   "execution_count": 1,
   "id": "d6d2cdc5",
   "metadata": {},
   "outputs": [],
   "source": [
    "def f2(*args):\n",
    "    return(sum(args))"
   ]
  },
  {
   "cell_type": "code",
   "execution_count": 2,
   "id": "1e042da1",
   "metadata": {},
   "outputs": [],
   "source": [
    "v=f2(1,2,3,5,6)"
   ]
  },
  {
   "cell_type": "code",
   "execution_count": 3,
   "id": "283dc15a",
   "metadata": {},
   "outputs": [
    {
     "data": {
      "text/plain": [
       "17"
      ]
     },
     "execution_count": 3,
     "metadata": {},
     "output_type": "execute_result"
    }
   ],
   "source": [
    "v"
   ]
  },
  {
   "cell_type": "code",
   "execution_count": 4,
   "id": "a5f50291",
   "metadata": {},
   "outputs": [
    {
     "data": {
      "text/plain": [
       "17"
      ]
     },
     "execution_count": 4,
     "metadata": {},
     "output_type": "execute_result"
    }
   ],
   "source": [
    "v"
   ]
  },
  {
   "cell_type": "code",
   "execution_count": 5,
   "id": "df49cdf8",
   "metadata": {},
   "outputs": [],
   "source": [
    "# 2 types of variable \n",
    "#global variable & local variable\n",
    "#global variable are defined outside of the function like age =20 \n",
    "#local variable are define only inside of the function there life span is very less like\n",
    "def function1():\n",
    "    a=10\n",
    "    b=20\n",
    "    c=a+b\n",
    "    print ('sum of a & b =',c)\n",
    "# here a & b are local variable because its work only inside the function\n",
    "\n"
   ]
  },
  {
   "cell_type": "code",
   "execution_count": 6,
   "id": "99e4032d",
   "metadata": {},
   "outputs": [
    {
     "name": "stdout",
     "output_type": "stream",
     "text": [
      "sum of a & b = 30\n"
     ]
    }
   ],
   "source": [
    "function1()"
   ]
  },
  {
   "cell_type": "code",
   "execution_count": 7,
   "id": "2441202d",
   "metadata": {},
   "outputs": [],
   "source": [
    "def addfunction():\n",
    "    a=10\n",
    "    b=5\n",
    "    result=a+b\n",
    "    return result # here we can write print stamement also "
   ]
  },
  {
   "cell_type": "code",
   "execution_count": 8,
   "id": "b749a729",
   "metadata": {},
   "outputs": [
    {
     "data": {
      "text/plain": [
       "15"
      ]
     },
     "execution_count": 8,
     "metadata": {},
     "output_type": "execute_result"
    }
   ],
   "source": [
    "addfunction()"
   ]
  },
  {
   "cell_type": "code",
   "execution_count": 9,
   "id": "da80ad01",
   "metadata": {},
   "outputs": [],
   "source": [
    "z=addfunction()"
   ]
  },
  {
   "cell_type": "code",
   "execution_count": 10,
   "id": "70c30332",
   "metadata": {},
   "outputs": [
    {
     "data": {
      "text/plain": [
       "15"
      ]
     },
     "execution_count": 10,
     "metadata": {},
     "output_type": "execute_result"
    }
   ],
   "source": [
    "z"
   ]
  },
  {
   "cell_type": "code",
   "execution_count": 11,
   "id": "1ea75873",
   "metadata": {},
   "outputs": [],
   "source": [
    " def multyfunc():\n",
    "        x=8\n",
    "        y=3\n",
    "        z=x*y\n",
    "        print(z)\n",
    "        "
   ]
  },
  {
   "cell_type": "code",
   "execution_count": 12,
   "id": "7877f3b8",
   "metadata": {},
   "outputs": [
    {
     "name": "stdout",
     "output_type": "stream",
     "text": [
      "24\n"
     ]
    }
   ],
   "source": [
    "multyfunc()"
   ]
  },
  {
   "cell_type": "code",
   "execution_count": 13,
   "id": "ef3ea1c2",
   "metadata": {},
   "outputs": [
    {
     "name": "stdout",
     "output_type": "stream",
     "text": [
      "24\n"
     ]
    }
   ],
   "source": [
    "v=multyfunc()"
   ]
  },
  {
   "cell_type": "code",
   "execution_count": 14,
   "id": "35d237a2",
   "metadata": {},
   "outputs": [],
   "source": [
    "v #its nor give any value"
   ]
  },
  {
   "cell_type": "code",
   "execution_count": 15,
   "id": "69103c98",
   "metadata": {},
   "outputs": [],
   "source": [
    "# we can use print func. with return keyword\n",
    "def multyfunction():\n",
    "    x=8\n",
    "    y=3\n",
    "    z=x*y\n",
    "    print(\"z =\",z)\n",
    "    return z"
   ]
  },
  {
   "cell_type": "code",
   "execution_count": 16,
   "id": "f30583f2",
   "metadata": {},
   "outputs": [
    {
     "name": "stdout",
     "output_type": "stream",
     "text": [
      "z = 24\n"
     ]
    },
    {
     "data": {
      "text/plain": [
       "24"
      ]
     },
     "execution_count": 16,
     "metadata": {},
     "output_type": "execute_result"
    }
   ],
   "source": [
    "multyfunction()"
   ]
  },
  {
   "cell_type": "code",
   "execution_count": 17,
   "id": "b43c6584",
   "metadata": {},
   "outputs": [
    {
     "name": "stdout",
     "output_type": "stream",
     "text": [
      "z = 24\n"
     ]
    }
   ],
   "source": [
    "mvar=multyfunction()"
   ]
  },
  {
   "cell_type": "code",
   "execution_count": 18,
   "id": "21c06f77",
   "metadata": {},
   "outputs": [
    {
     "data": {
      "text/plain": [
       "24"
      ]
     },
     "execution_count": 18,
     "metadata": {},
     "output_type": "execute_result"
    }
   ],
   "source": [
    "mvar"
   ]
  },
  {
   "cell_type": "code",
   "execution_count": 19,
   "id": "4c688962",
   "metadata": {},
   "outputs": [],
   "source": [
    "def fun1():\n",
    "    for i in range (1,10):\n",
    "        if i==4:\n",
    "            return\n",
    "        print(i)"
   ]
  },
  {
   "cell_type": "code",
   "execution_count": 20,
   "id": "1323d9c6",
   "metadata": {},
   "outputs": [
    {
     "name": "stdout",
     "output_type": "stream",
     "text": [
      "1\n",
      "2\n",
      "3\n"
     ]
    }
   ],
   "source": [
    "fun1()"
   ]
  },
  {
   "cell_type": "code",
   "execution_count": 21,
   "id": "f2443c96",
   "metadata": {},
   "outputs": [],
   "source": [
    "def fun1():\n",
    "    for i in range (1,10):\n",
    "          print(i)"
   ]
  },
  {
   "cell_type": "code",
   "execution_count": 22,
   "id": "ab4aa725",
   "metadata": {},
   "outputs": [
    {
     "name": "stdout",
     "output_type": "stream",
     "text": [
      "1\n",
      "2\n",
      "3\n",
      "4\n",
      "5\n",
      "6\n",
      "7\n",
      "8\n",
      "9\n"
     ]
    }
   ],
   "source": [
    "fun1()"
   ]
  },
  {
   "cell_type": "code",
   "execution_count": 23,
   "id": "08827883",
   "metadata": {},
   "outputs": [],
   "source": [
    "def f2(*args):\n",
    "    return(sum(args))"
   ]
  },
  {
   "cell_type": "code",
   "execution_count": 24,
   "id": "31d91ef0",
   "metadata": {},
   "outputs": [
    {
     "data": {
      "text/plain": [
       "42"
      ]
     },
     "execution_count": 24,
     "metadata": {},
     "output_type": "execute_result"
    }
   ],
   "source": [
    "f2(3,4,8,8,9,10)"
   ]
  },
  {
   "cell_type": "code",
   "execution_count": 25,
   "id": "fcbbc701",
   "metadata": {},
   "outputs": [],
   "source": [
    "def plus(*args):\n",
    "    return(sum(args))"
   ]
  },
  {
   "cell_type": "code",
   "execution_count": 26,
   "id": "2b75548f",
   "metadata": {},
   "outputs": [
    {
     "data": {
      "text/plain": [
       "208"
      ]
     },
     "execution_count": 26,
     "metadata": {},
     "output_type": "execute_result"
    }
   ],
   "source": [
    "plus(22,55,48,55,28)"
   ]
  },
  {
   "cell_type": "code",
   "execution_count": 27,
   "id": "72ec791b",
   "metadata": {},
   "outputs": [
    {
     "data": {
      "text/plain": [
       "715"
      ]
     },
     "execution_count": 27,
     "metadata": {},
     "output_type": "execute_result"
    }
   ],
   "source": [
    "plus(22,55,88,62,488)"
   ]
  },
  {
   "cell_type": "code",
   "execution_count": 28,
   "id": "200fdce5",
   "metadata": {},
   "outputs": [],
   "source": [
    "r=plus(22,55,88,62,488)"
   ]
  },
  {
   "cell_type": "code",
   "execution_count": 29,
   "id": "970431b1",
   "metadata": {},
   "outputs": [
    {
     "data": {
      "text/plain": [
       "715"
      ]
     },
     "execution_count": 29,
     "metadata": {},
     "output_type": "execute_result"
    }
   ],
   "source": [
    "r"
   ]
  },
  {
   "cell_type": "markdown",
   "id": "4b34854a",
   "metadata": {},
   "source": [
    "# creat prblms error"
   ]
  },
  {
   "cell_type": "code",
   "execution_count": 26,
   "id": "91a68ee3",
   "metadata": {},
   "outputs": [],
   "source": [
    "def my_sum1(*args):\n",
    "    result=0\n",
    "    for x in args:\n",
    "        result+=x\n",
    "    return result"
   ]
  },
  {
   "cell_type": "code",
   "execution_count": 14,
   "id": "0dcb6b00",
   "metadata": {},
   "outputs": [
    {
     "name": "stdout",
     "output_type": "stream",
     "text": [
      "6\n"
     ]
    }
   ],
   "source": [
    "print(my_sum1(1,2,3))"
   ]
  },
  {
   "cell_type": "code",
   "execution_count": 28,
   "id": "1f097aa8",
   "metadata": {},
   "outputs": [],
   "source": [
    "def my_sum(my_integers):\n",
    "    result=0\n",
    "    for x in list_of_integers:\n",
    "        result+=x\n",
    "    return result"
   ]
  },
  {
   "cell_type": "code",
   "execution_count": 29,
   "id": "11ffce47",
   "metadata": {},
   "outputs": [
    {
     "name": "stdout",
     "output_type": "stream",
     "text": [
      "6\n"
     ]
    }
   ],
   "source": [
    "list_of_integers=[1,2,3]\n",
    "print(my_sum (list_of_integers))"
   ]
  },
  {
   "cell_type": "code",
   "execution_count": 21,
   "id": "113fa431",
   "metadata": {},
   "outputs": [],
   "source": [
    "def add(*number):\n",
    "    total=0\n",
    "    for num in number:\n",
    "        total+=num\n",
    "    return total"
   ]
  },
  {
   "cell_type": "code",
   "execution_count": 22,
   "id": "2c036d6c",
   "metadata": {},
   "outputs": [
    {
     "name": "stdout",
     "output_type": "stream",
     "text": [
      "5\n",
      "10\n",
      "17\n",
      "26\n"
     ]
    }
   ],
   "source": [
    "print(add(2,3))\n",
    "print(add(2,3,5))\n",
    "print(add(2,3,5,7))\n",
    "print(add(2,3,5,7,9)) # getting wrong answer"
   ]
  },
  {
   "cell_type": "code",
   "execution_count": null,
   "id": "fb2a8485",
   "metadata": {},
   "outputs": [],
   "source": []
  },
  {
   "cell_type": "markdown",
   "id": "3cad382b",
   "metadata": {},
   "source": [
    "# we have keyword arguments"
   ]
  },
  {
   "cell_type": "code",
   "execution_count": 30,
   "id": "5a9d4002",
   "metadata": {},
   "outputs": [],
   "source": [
    "def concatenate(**kwargs):\n",
    "    result=\" \"\n",
    "    for arg in kwargs.values():\n",
    "        result +=arg\n",
    "    return result"
   ]
  },
  {
   "cell_type": "code",
   "execution_count": 31,
   "id": "fd121ae2",
   "metadata": {},
   "outputs": [
    {
     "name": "stdout",
     "output_type": "stream",
     "text": [
      " pythonprogrammingisgreat\n"
     ]
    }
   ],
   "source": [
    "print(concatenate(a=\"python\",b=\"programming\",c=\"is\",d=(\"great\")))"
   ]
  },
  {
   "cell_type": "code",
   "execution_count": null,
   "id": "f6e601ac",
   "metadata": {},
   "outputs": [],
   "source": []
  },
  {
   "cell_type": "code",
   "execution_count": null,
   "id": "54fc0ff6",
   "metadata": {},
   "outputs": [],
   "source": []
  },
  {
   "cell_type": "code",
   "execution_count": null,
   "id": "94200f99",
   "metadata": {},
   "outputs": [],
   "source": []
  },
  {
   "cell_type": "code",
   "execution_count": null,
   "id": "3b300bf1",
   "metadata": {},
   "outputs": [],
   "source": []
  },
  {
   "cell_type": "code",
   "execution_count": null,
   "id": "6b34773e",
   "metadata": {},
   "outputs": [],
   "source": []
  },
  {
   "cell_type": "code",
   "execution_count": null,
   "id": "8714a1cb",
   "metadata": {},
   "outputs": [],
   "source": []
  },
  {
   "cell_type": "code",
   "execution_count": null,
   "id": "5413c139",
   "metadata": {},
   "outputs": [],
   "source": []
  },
  {
   "cell_type": "code",
   "execution_count": null,
   "id": "76dea4ed",
   "metadata": {},
   "outputs": [],
   "source": [
    " "
   ]
  },
  {
   "cell_type": "code",
   "execution_count": null,
   "id": "c22d19cc",
   "metadata": {},
   "outputs": [],
   "source": [
    " "
   ]
  },
  {
   "cell_type": "code",
   "execution_count": null,
   "id": "0829ebda",
   "metadata": {},
   "outputs": [],
   "source": []
  },
  {
   "cell_type": "code",
   "execution_count": null,
   "id": "cbf14c35",
   "metadata": {},
   "outputs": [],
   "source": []
  },
  {
   "cell_type": "code",
   "execution_count": null,
   "id": "a05a49b5",
   "metadata": {},
   "outputs": [],
   "source": []
  },
  {
   "cell_type": "code",
   "execution_count": null,
   "id": "28f96605",
   "metadata": {},
   "outputs": [],
   "source": []
  },
  {
   "cell_type": "code",
   "execution_count": null,
   "id": "d6b3e072",
   "metadata": {},
   "outputs": [],
   "source": []
  },
  {
   "cell_type": "code",
   "execution_count": null,
   "id": "3b681ca2",
   "metadata": {},
   "outputs": [],
   "source": []
  },
  {
   "cell_type": "code",
   "execution_count": null,
   "id": "a924f57b",
   "metadata": {},
   "outputs": [],
   "source": []
  },
  {
   "cell_type": "code",
   "execution_count": null,
   "id": "1a19cfdb",
   "metadata": {},
   "outputs": [],
   "source": []
  },
  {
   "cell_type": "code",
   "execution_count": null,
   "id": "7a8d82ac",
   "metadata": {},
   "outputs": [],
   "source": []
  },
  {
   "cell_type": "code",
   "execution_count": null,
   "id": "d45e051f",
   "metadata": {},
   "outputs": [],
   "source": []
  },
  {
   "cell_type": "code",
   "execution_count": null,
   "id": "3c1c5306",
   "metadata": {},
   "outputs": [],
   "source": []
  },
  {
   "cell_type": "code",
   "execution_count": null,
   "id": "5aa16909",
   "metadata": {},
   "outputs": [],
   "source": []
  },
  {
   "cell_type": "code",
   "execution_count": null,
   "id": "37af9c6f",
   "metadata": {},
   "outputs": [],
   "source": []
  },
  {
   "cell_type": "code",
   "execution_count": null,
   "id": "ac9ee881",
   "metadata": {},
   "outputs": [],
   "source": []
  },
  {
   "cell_type": "code",
   "execution_count": null,
   "id": "078a9b4e",
   "metadata": {},
   "outputs": [],
   "source": []
  },
  {
   "cell_type": "code",
   "execution_count": null,
   "id": "cacede84",
   "metadata": {},
   "outputs": [],
   "source": []
  },
  {
   "cell_type": "code",
   "execution_count": null,
   "id": "1757617e",
   "metadata": {},
   "outputs": [],
   "source": []
  },
  {
   "cell_type": "code",
   "execution_count": null,
   "id": "e29015b6",
   "metadata": {},
   "outputs": [],
   "source": []
  },
  {
   "cell_type": "code",
   "execution_count": null,
   "id": "e41a6cd0",
   "metadata": {},
   "outputs": [],
   "source": []
  },
  {
   "cell_type": "code",
   "execution_count": null,
   "id": "19b6db71",
   "metadata": {},
   "outputs": [],
   "source": []
  },
  {
   "cell_type": "code",
   "execution_count": null,
   "id": "0f675bfb",
   "metadata": {},
   "outputs": [],
   "source": []
  },
  {
   "cell_type": "code",
   "execution_count": null,
   "id": "b1fb7693",
   "metadata": {},
   "outputs": [],
   "source": []
  },
  {
   "cell_type": "code",
   "execution_count": null,
   "id": "f7588bbd",
   "metadata": {},
   "outputs": [],
   "source": []
  },
  {
   "cell_type": "code",
   "execution_count": null,
   "id": "5d437781",
   "metadata": {},
   "outputs": [],
   "source": []
  },
  {
   "cell_type": "code",
   "execution_count": null,
   "id": "718eb044",
   "metadata": {},
   "outputs": [],
   "source": []
  },
  {
   "cell_type": "code",
   "execution_count": null,
   "id": "7e3eeecc",
   "metadata": {},
   "outputs": [],
   "source": []
  },
  {
   "cell_type": "code",
   "execution_count": null,
   "id": "dbfdd67e",
   "metadata": {},
   "outputs": [],
   "source": []
  },
  {
   "cell_type": "code",
   "execution_count": null,
   "id": "f8f1da93",
   "metadata": {},
   "outputs": [],
   "source": []
  },
  {
   "cell_type": "code",
   "execution_count": null,
   "id": "02cfa6a5",
   "metadata": {},
   "outputs": [],
   "source": []
  },
  {
   "cell_type": "code",
   "execution_count": null,
   "id": "6e6eae03",
   "metadata": {},
   "outputs": [],
   "source": []
  }
 ],
 "metadata": {
  "kernelspec": {
   "display_name": "Python 3 (ipykernel)",
   "language": "python",
   "name": "python3"
  },
  "language_info": {
   "codemirror_mode": {
    "name": "ipython",
    "version": 3
   },
   "file_extension": ".py",
   "mimetype": "text/x-python",
   "name": "python",
   "nbconvert_exporter": "python",
   "pygments_lexer": "ipython3",
   "version": "3.11.5"
  }
 },
 "nbformat": 4,
 "nbformat_minor": 5
}
